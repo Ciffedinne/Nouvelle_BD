{
 "cells": [
  {
   "cell_type": "markdown",
   "metadata": {},
   "source": [
    "<center>\n",
    "\n",
    "<img src=\"data:image/png;base64,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\" />\n",
    "\n",
    "</center>"
   ]
  },
  {
   "cell_type": "markdown",
   "metadata": {},
   "source": [
    "<h1><center><strong style=\"color: #293358\">Nouveaux paradigmes de base de données<br/> BUT 3 - IUT Villetaneuse <br/> Dénormalisation et introduction à Redis</strong></center></h1>\n",
    "\n",
    "<center>\n",
    "<h3 style=\"color: #8b7d6d\"><a href=\"https://gguibon.github.io/\">Gaël Guibon</a></h3>\n",
    "<email>gael.guibon@lipn.fr</email>\n",
    "<p>#gael6674</p>\n",
    "<br/>\n",
    "Year 2024-2025\n",
    "\n",
    "Original Content\n",
    "\n",
    "Licenced under Affero GNU3\n",
    "</center>"
   ]
  },
  {
   "cell_type": "markdown",
   "metadata": {},
   "source": [
    "## <strong style=\"color: #8b7d6d\">Usage de la machine virtuelle</strong>"
   ]
  },
  {
   "cell_type": "markdown",
   "metadata": {},
   "source": [
    "1. Téléchargez la VM ici : https://e.pcloud.link/publink/show?code=XZ3dvxZh0fEzIaCmqF9HHRP346u0S0MY4lk\n",
    "2. Importez la dans Virtual Box\n",
    "3. Connectez-vous avec l'id `uspn`et le mot de passe `uspn`\n",
    "4. Enjoy !\n",
    "\n",
    "\n",
    "Cette machine virtuelle est déjà configurée pour Redis et il vous suffit de lancer les quelques commandes de la section suivante pour y installer MongoDB."
   ]
  },
  {
   "cell_type": "markdown",
   "metadata": {},
   "source": [
    "## <strong style=\"color: #8b7d6d\">Installation de redis</strong>"
   ]
  },
  {
   "cell_type": "markdown",
   "metadata": {},
   "source": [
    "### Windows / MacOS / Linux"
   ]
  },
  {
   "cell_type": "markdown",
   "metadata": {},
   "source": [
    "1. Téléchargez Docker Desktop : https://www.docker.com/\n",
    "2. Installez le en mettant tout par défaut\n",
    "3. `docker run -d --name redis-stack -p 6379:6379 -p 8001:8001 redis/redis-stack:latest`"
   ]
  },
  {
   "cell_type": "markdown",
   "metadata": {},
   "source": [
    "## <strong style=\"color: #8b7d6d\">Lancement de redis (redis-stack)</strong>"
   ]
  },
  {
   "cell_type": "markdown",
   "metadata": {},
   "source": [
    "### Ubuntu 24.04 LTS"
   ]
  },
  {
   "cell_type": "code",
   "execution_count": null,
   "metadata": {},
   "outputs": [],
   "source": [
    "# verifier les conteneurs\n",
    "! sudo docker ps -a\n",
    "\n",
    "# lancer le conteneur redis\n",
    "! sudo docker start redis-stack"
   ]
  },
  {
   "cell_type": "markdown",
   "metadata": {},
   "source": [
    "### Windows 10 / 11\n",
    "\n",
    "Lancez l'interface graphique de docker et activez le conteneur `redis-stack`."
   ]
  },
  {
   "cell_type": "markdown",
   "metadata": {},
   "source": [
    "## <strong style=\"color: #8b7d6d\">Dénormalisation de la base de données Pilotes</strong>"
   ]
  },
  {
   "cell_type": "markdown",
   "metadata": {},
   "source": [
    "Téléchargez la base de données `pilotes` puis décompressez la avec les commandes système suivantes (sous linux)."
   ]
  },
  {
   "cell_type": "code",
   "execution_count": 1,
   "metadata": {},
   "outputs": [
    {
     "name": "stdout",
     "output_type": "stream",
     "text": [
      "--2024-12-07 16:40:09--  https://gitlab.com/gguibon/uspn-storage/-/raw/main/bddPilotes.zip\n",
      "Résolution de gitlab.com (gitlab.com)… 2606:4700:90:0:f22e:fbec:5bed:a9b9, 172.65.251.78\n",
      "Connexion à gitlab.com (gitlab.com)|2606:4700:90:0:f22e:fbec:5bed:a9b9|:443… connecté.\n",
      "requête HTTP transmise, en attente de la réponse… 200 OK\n",
      "Taille : 5841 (5,7K) [application/octet-stream]\n",
      "Enregistre : ‘bddPilotes.zip’\n",
      "\n",
      "bddPilotes.zip      100%[===================>]   5,70K  --.-KB/s    ds 0s      \n",
      "\n",
      "2024-12-07 16:40:09 (66,9 MB/s) - ‘bddPilotes.zip’ enregistré [5841/5841]\n",
      "\n",
      "Archive:  bddPilotes.zip\n",
      "  inflating: AVIONS.txt              \n",
      "  inflating: CLIENTS.txt             \n",
      "  inflating: DEFCLASSES.txt          \n",
      "  inflating: PILOTES.txt             \n",
      "  inflating: RESERVATIONS.txt        \n",
      "  inflating: VOLS.txt                \n"
     ]
    }
   ],
   "source": [
    "! mkdir -p pilotes\n",
    "# téléchargement\n",
    "! wget https://gitlab.com/gguibon/uspn-storage/-/raw/main/bddPilotes.zip\n",
    "! mv bddPilotes.zip pilotes/\n",
    "# décompression\n",
    "! cd pilotes; unzip bddPilotes.zip"
   ]
  },
  {
   "cell_type": "markdown",
   "metadata": {},
   "source": [
    "## Représentation normalisée"
   ]
  },
  {
   "cell_type": "markdown",
   "metadata": {},
   "source": [
    "Maintenant que vous avez téléchargé la base de données relationnelle ou, plus exactement, une représentation sommaire de cette base données.\n",
    "Sur papier, dessinez le schéma de la base de données `pilotes`. Gardez à l'esprit que chaque fichier `.txt` correspond à une table dans la base de données relationnelle."
   ]
  },
  {
   "cell_type": "markdown",
   "metadata": {},
   "source": [
    "#### ![programming(3).png](data:image/png;base64,iVBORw0KGgoAAAANSUhEUgAAACAAAAAgCAYAAABzenr0AAAABHNCSVQICAgIfAhkiAAAAAlwSFlzAAAA3QAAAN0BcFOiBwAAABl0RVh0U29mdHdhcmUAd3d3Lmlua3NjYXBlLm9yZ5vuPBoAAAR7SURBVFiFtZdvaFVlHMc/z3PPuefuz825XWV3m5mWU1MLSVEyRoqKk2iLWBCT2uyFpTSIoCCHL0SDXkgUavhKCU3EpGmlorYSShtWig6M1M25gVPb3da2e6/3z3l6cf9u996d42pfOC/O8+/3+f2e5/f8EUopbKnplEHEtwpFDYj5gDf+AdyNfeo6guNoxa18Xv3QzrDCEmDTQS8OuQ1FPeC2R8sQgkNEze3s23B3YgCNB1y49GYQ7wH5Ng2PlR/UpwTDO9jfELQPsOVoKSrUghLLJmh4rJU2hLOWPXW91gCbDi1CipNAxf9iPKUeTLWeffXXcgNsOVqKGb40CcZTEFJfmh4JmaxqPOBChVom0ThABSrUQuMBV6JAS1a59Ob0OQ8J+MsYP0MUMDgwOL5JE5ZINy6XI95JLIstbpohMQWbDnqR8iZpq/1vB3xYalq6dPHXS5Ztzv4xl/K1UyBPJIr8mOZT7NtwNzYFDrmNCabawvmV6Jo2fqMBBd8GIJCMaH7cJpKmU0Z8k7GlaUVu1ixdAIBT19n6/mZ0Xefl6tWUTvfk7ugzR0Mo6mk6ZUgivlXY3OGmFblpqluDkLFQTvNM5f6DPvyBAFIKtn3wrjXEiSSEm4hvlYzt7faN/3LtBmfa2gGY7imho6sbgJbvz3Lu/AVriP40CEWNjB8slsp3OTGcGgPD/mTZdE8xnXEAgP7+QQzDoKDAYjklIIZ5VpI60cZVV28fu7/+gVeqnmP5wieTAB23YwArX1hO/Ws17Ny1l1udd6wH7Dfhu8Bi2wAAd+71sfvYOcpKitA1jalTHqOzqweAGeVePt61l47bNown9I9pWORPprrv+ei+50PXNc6cv8iIPzYlXx755lGHAimUJHaZeGSFwxH+vNExka4puYhocYA5Y+sK8gxerywHp4YyNNA1lFMDZ+r4UAqenjMr1UmBDEaQIxFkIIz0R3CMhHG3DUAgnAlgyIAG6jqIqgw4p8bzLy23dMI7u9La0cOHgSwABaJHIjhuOcJkyS2OaGjFrYT7hxi7GwYjaMduQDDzRAzNcBOa6SZUWsBgTz+uwQiFD4IU3s9660KOZPFeEwpX4Wex03DzV1+geDujUXcUTgcgOrq48/B6hlbGrg1tV28CUPGbj+qPrthwO65ZjnY63loUW1FRczvgz2g0wwHr8iB+lEdXlhP8qRbPkmJmmmEeJ8LiMi+Ly7x4187j5slahqvKrY1rQJHYAOlXsncO7QCxNWuHeCSUJx/zmZJksdIEgYejpyivvQ/tfqYvozRbu8CtjSsSLDEFwzvI01dnvQnHIyFO+3GcHT243YdCUiVyGC/rEr+ppN7fEEQ4a4GerB3HTMeE5BImFc4qft44lAkAsKeuF1OtnxSIAhFlnnyVK29cTi+e2MMkR3bkVJHw84S+gssNGWkis7VnT10vgfCLoHZiIztySgPm6q0scJRmMw7/9XGaKxKGUJQ52il0NHL1zd/HG94aIKFcz/M7UQc/BnUK5TCFohunOIFHfZK+0MbTvx9ltLez/h/sAAAAAElFTkSuQmCC) **TODO!**"
   ]
  },
  {
   "cell_type": "code",
   "execution_count": null,
   "metadata": {},
   "outputs": [],
   "source": [
    "# code moi steupléé 🥺"
   ]
  },
  {
   "cell_type": "markdown",
   "metadata": {},
   "source": [
    "Voici le diagramme de la base de données relationnelle ci-dessous. Vous trouverez également son schéma (`schema.sql`) accompagné du code permettant de créer cette base de données relationnelle (`sql_creation.sql`) ainsi que la base de données en elle-même, soit le résultat du code de création (`pilotes.db`).\n",
    "\n",
    "\n",
    "<img src=\"pilotes_diagram_er.png\" height=\"300px\" />"
   ]
  },
  {
   "cell_type": "markdown",
   "metadata": {},
   "source": [
    "## Représentation dénormalisée\n"
   ]
  },
  {
   "cell_type": "markdown",
   "metadata": {},
   "source": [
    "Le problème que nous rencontrons, est que cette représentatin bien formalisée, avec données sans redondance et donc bien normalisée, correspond à une base de données relationnelle. Nous souhaitons cependant pouvoir l'utiliser directement dans une base de données NoSQL, comme `MongoDB` par exemple 😉.\n",
    "\n",
    "Pour rappel, la dénormalisation correspond au fait de ne plus avoir des données en unités minimales. De plus, cela nous oblige à éviter les jointures puisque les relations ne sont plus aussi simple à gérer que dans du SQL (plus précisément, elles seront lentes et très chères en ressources car demanderont d'itérer sur plusieurs tables successivement). Nous devons donc nous affranchir du classique schéma SQL.\n",
    "\n",
    "L'objectif est donc de dénormaliser la base de données, c'est-à-dire de fusionner les différentes tables nécessaires pour en produire une seule... Oui, il s'agit presque de faire une vue en SQL, sauf que nous ne devons simplement avoir une seule table à la fin. Attention, ce n'est pas une tâche aisée, cette étape est très importante pour comprendre les différences intrinsèques entre SQL et NoSQL, ainsi que les choix cruciaux que nous devons faire en amoont quand il s'agit de passer du premier au second paradigme de bases de données."
   ]
  },
  {
   "cell_type": "markdown",
   "metadata": {},
   "source": [
    "#### ![programming(3).png](data:image/png;base64,iVBORw0KGgoAAAANSUhEUgAAACAAAAAgCAYAAABzenr0AAAABHNCSVQICAgIfAhkiAAAAAlwSFlzAAAA3QAAAN0BcFOiBwAAABl0RVh0U29mdHdhcmUAd3d3Lmlua3NjYXBlLm9yZ5vuPBoAAAR7SURBVFiFtZdvaFVlHMc/z3PPuefuz825XWV3m5mWU1MLSVEyRoqKk2iLWBCT2uyFpTSIoCCHL0SDXkgUavhKCU3EpGmlorYSShtWig6M1M25gVPb3da2e6/3z3l6cf9u996d42pfOC/O8+/3+f2e5/f8EUopbKnplEHEtwpFDYj5gDf+AdyNfeo6guNoxa18Xv3QzrDCEmDTQS8OuQ1FPeC2R8sQgkNEze3s23B3YgCNB1y49GYQ7wH5Ng2PlR/UpwTDO9jfELQPsOVoKSrUghLLJmh4rJU2hLOWPXW91gCbDi1CipNAxf9iPKUeTLWeffXXcgNsOVqKGb40CcZTEFJfmh4JmaxqPOBChVom0ThABSrUQuMBV6JAS1a59Ob0OQ8J+MsYP0MUMDgwOL5JE5ZINy6XI95JLIstbpohMQWbDnqR8iZpq/1vB3xYalq6dPHXS5Ztzv4xl/K1UyBPJIr8mOZT7NtwNzYFDrmNCabawvmV6Jo2fqMBBd8GIJCMaH7cJpKmU0Z8k7GlaUVu1ixdAIBT19n6/mZ0Xefl6tWUTvfk7ugzR0Mo6mk6ZUgivlXY3OGmFblpqluDkLFQTvNM5f6DPvyBAFIKtn3wrjXEiSSEm4hvlYzt7faN/3LtBmfa2gGY7imho6sbgJbvz3Lu/AVriP40CEWNjB8slsp3OTGcGgPD/mTZdE8xnXEAgP7+QQzDoKDAYjklIIZ5VpI60cZVV28fu7/+gVeqnmP5wieTAB23YwArX1hO/Ws17Ny1l1udd6wH7Dfhu8Bi2wAAd+71sfvYOcpKitA1jalTHqOzqweAGeVePt61l47bNown9I9pWORPprrv+ei+50PXNc6cv8iIPzYlXx755lGHAimUJHaZeGSFwxH+vNExka4puYhocYA5Y+sK8gxerywHp4YyNNA1lFMDZ+r4UAqenjMr1UmBDEaQIxFkIIz0R3CMhHG3DUAgnAlgyIAG6jqIqgw4p8bzLy23dMI7u9La0cOHgSwABaJHIjhuOcJkyS2OaGjFrYT7hxi7GwYjaMduQDDzRAzNcBOa6SZUWsBgTz+uwQiFD4IU3s9660KOZPFeEwpX4Wex03DzV1+geDujUXcUTgcgOrq48/B6hlbGrg1tV28CUPGbj+qPrthwO65ZjnY63loUW1FRczvgz2g0wwHr8iB+lEdXlhP8qRbPkmJmmmEeJ8LiMi+Ly7x4187j5slahqvKrY1rQJHYAOlXsncO7QCxNWuHeCSUJx/zmZJksdIEgYejpyivvQ/tfqYvozRbu8CtjSsSLDEFwzvI01dnvQnHIyFO+3GcHT243YdCUiVyGC/rEr+ppN7fEEQ4a4GerB3HTMeE5BImFc4qft44lAkAsKeuF1OtnxSIAhFlnnyVK29cTi+e2MMkR3bkVJHw84S+gssNGWkis7VnT10vgfCLoHZiIztySgPm6q0scJRmMw7/9XGaKxKGUJQ52il0NHL1zd/HG94aIKFcz/M7UQc/BnUK5TCFohunOIFHfZK+0MbTvx9ltLez/h/sAAAAAElFTkSuQmCC) **TODO!**"
   ]
  },
  {
   "cell_type": "markdown",
   "metadata": {},
   "source": [
    "À vous de jouer. Transformez la base de données `pilotes` en une base dénormalisée, pour réduire au maximum les jointures et obtenir une représentation sous forme de documents (i.e. en vue d'une utilisation pour `mongoDB`) ou autres (pratique pour l'utilisation future dans `redis` par exemple).\n",
    "\n",
    "\n",
    "💡Astuces :\n",
    "- Il n'existe pas qu'une seule bonne représentation. Faites vos choix !\n",
    "- Pour représenter correctement, il est souvent plus simple de penser aux utilisations futures les plus fréquentes de cette base de données.\n",
    "- il convient d'obtenir à la fin, des données en mémoire (donc par le biais de structures de données `dict` `list` et autres)"
   ]
  },
  {
   "cell_type": "code",
   "execution_count": 2,
   "metadata": {},
   "outputs": [
    {
     "name": "stderr",
     "output_type": "stream",
     "text": [
      "/home/gael/.local/lib/python3.12/site-packages/pandas/core/arrays/masked.py:60: UserWarning: Pandas requires version '1.3.6' or newer of 'bottleneck' (version '1.3.5' currently installed).\n",
      "  from pandas.core import (\n"
     ]
    },
    {
     "name": "stdout",
     "output_type": "stream",
     "text": [
      "{'VOLID': 'V101', 'VILLEDEPART': 'Marseille', 'VILLEARRIVEE': 'Amsterdam', 'DATEDEPART': '1/04/07', 'HEUREDEPART': '8:10', 'DATEARRIVEE': '1/04/07', 'HEUREARRIVEE': '9:10', 'NUMAV': 560, 'avion': {'NOMAV': 'Airbus A320', 'LOCALISATION': 'Nice'}, 'clients': ['Leblanc', 'Grignard', 'Rolland', 'Perse', 'Lorentz', 'Lenard', 'Planck', 'Bohr', 'Dirac']}\n"
     ]
    },
    {
     "data": {
      "text/plain": [
       "{'VOLID': 'V101',\n",
       " 'VILLEDEPART': 'Marseille',\n",
       " 'VILLEARRIVEE': 'Amsterdam',\n",
       " 'DATEDEPART': '1/04/07',\n",
       " 'HEUREDEPART': '8:10',\n",
       " 'DATEARRIVEE': '1/04/07',\n",
       " 'HEUREARRIVEE': '9:10',\n",
       " 'avion': {'NUMAV': 560,\n",
       "  'NOMAV': 'Airbus A320',\n",
       "  'CAPACITE': 250,\n",
       "  'LOCALISATION': 'Nice'},\n",
       " 'pilote': {'NUMPIL': 5050,\n",
       "  'NOMPIL': 'Leblanc',\n",
       "  'NAISSANCE': 1960,\n",
       "  'ADRESSE': 'Marseille'}}"
      ]
     },
     "execution_count": 2,
     "metadata": {},
     "output_type": "execute_result"
    }
   ],
   "source": [
    "import pandas as pd\n",
    "import json, copy, pymongo\n",
    "# code moi steupléé 🥺\n",
    "\n",
    "# approche par réservation (simple)\n",
    "reservations = pd.read_csv(\"pilotes/RESERVATIONS.txt\", sep=\"\\t\", header=0).to_dict('records')\n",
    "vols = pd.read_csv(\"pilotes/VOLS.txt\", sep=\"\\t\", header=0).to_dict('records')\n",
    "pilotes = pd.read_csv(\"pilotes/PILOTES.txt\", sep=\"\\t\", header=0).to_dict('records')\n",
    "clients = pd.read_csv(\"pilotes/CLIENTS.txt\", sep=\"\\t\", header=0).to_dict('records')\n",
    "avions = pd.read_csv(\"pilotes/AVIONS.txt\", sep=\"\\t\", header=0).to_dict('records')\n",
    "\n",
    "# approche pour connaitre les vols (dénormalisation des données)\n",
    "# ceci est un exemple car nous faisons donc une démultiplication des informations. Ici nous partons du principe qu'une personne arrivant dans l'aéroport veut connaître ces informations, et voir son nom associé au vol. Nous croisons donc les informations, ce qui limitera les besoins de jointure à la volée par la suite.\n",
    "vue_vols = copy.deepcopy(vols)\n",
    "for v in vue_vols:\n",
    "    for a in avions:\n",
    "        if a['NUMAV'] == v[\"NUMAV\"]:\n",
    "            v.update({\"avion\": {\"NOMAV\": a[\"NOMAV\"], \"LOCALISATION\": a[\"LOCALISATION\"]}})\n",
    "    v_clients = []\n",
    "    for r in reservations:\n",
    "        if r[\"VOLID\"] == v[\"VOLID\"]: \n",
    "            v_clients.append(r[\"NUMCLIENT\"])\n",
    "    clients_names = []\n",
    "    for c in clients:\n",
    "        if c[\"CLIENTID\"] in v_clients: \n",
    "            clients_names.append(c[\"NOM\"])\n",
    "    v.update({\"clients\": clients_names})\n",
    "    del v[\"NUMPIL\"]\n",
    "\n",
    "print(vue_vols[0])\n",
    "\n",
    "# une autre approche est ella par pilote : un pilote veut savoir son heure de départ, son nom associé à un avion et son modèle d'avion avec capacité et localisation. Il n'a pas besoin du reste.\n",
    "vue_pilotes = copy.deepcopy(vols)\n",
    "\n",
    "for vp in vue_pilotes:\n",
    "    for a in avions:\n",
    "        if a['NUMAV'] == vp[\"NUMAV\"]:\n",
    "            vp.update({\"avion\": a})\n",
    "            del vp[\"NUMAV\"]\n",
    "            break\n",
    "    for p in pilotes:\n",
    "        if p[\"NUMPIL\"] == vp[\"NUMPIL\"]:\n",
    "            vp.update({\"pilote\": p})\n",
    "            del vp[\"NUMPIL\"]\n",
    "            break\n",
    "\n",
    "vue_pilotes[0]"
   ]
  },
  {
   "cell_type": "markdown",
   "metadata": {},
   "source": [
    "## Usage de la base dénormalisée et premiers pas en Redis"
   ]
  },
  {
   "cell_type": "markdown",
   "metadata": {},
   "source": [
    "Les données sont désormais dénormaliséés, nous pouvons donc les insérer dans notre base de données `redis`! Notre objectif est donc d'insérer ces données et de les requêter par la suite."
   ]
  },
  {
   "cell_type": "code",
   "execution_count": null,
   "metadata": {},
   "outputs": [],
   "source": [
    "# verifier les conteneurs\n",
    "! sudo docker ps -a\n",
    "\n",
    "# lancer le conteneur redis\n",
    "! sudo docker start redis-stack"
   ]
  },
  {
   "cell_type": "code",
   "execution_count": 3,
   "metadata": {},
   "outputs": [],
   "source": [
    "import redis"
   ]
  },
  {
   "cell_type": "markdown",
   "metadata": {},
   "source": [
    "#### ![programming(3).png](data:image/png;base64,iVBORw0KGgoAAAANSUhEUgAAACAAAAAgCAYAAABzenr0AAAABHNCSVQICAgIfAhkiAAAAAlwSFlzAAAA3QAAAN0BcFOiBwAAABl0RVh0U29mdHdhcmUAd3d3Lmlua3NjYXBlLm9yZ5vuPBoAAAR7SURBVFiFtZdvaFVlHMc/z3PPuefuz825XWV3m5mWU1MLSVEyRoqKk2iLWBCT2uyFpTSIoCCHL0SDXkgUavhKCU3EpGmlorYSShtWig6M1M25gVPb3da2e6/3z3l6cf9u996d42pfOC/O8+/3+f2e5/f8EUopbKnplEHEtwpFDYj5gDf+AdyNfeo6guNoxa18Xv3QzrDCEmDTQS8OuQ1FPeC2R8sQgkNEze3s23B3YgCNB1y49GYQ7wH5Ng2PlR/UpwTDO9jfELQPsOVoKSrUghLLJmh4rJU2hLOWPXW91gCbDi1CipNAxf9iPKUeTLWeffXXcgNsOVqKGb40CcZTEFJfmh4JmaxqPOBChVom0ThABSrUQuMBV6JAS1a59Ob0OQ8J+MsYP0MUMDgwOL5JE5ZINy6XI95JLIstbpohMQWbDnqR8iZpq/1vB3xYalq6dPHXS5Ztzv4xl/K1UyBPJIr8mOZT7NtwNzYFDrmNCabawvmV6Jo2fqMBBd8GIJCMaH7cJpKmU0Z8k7GlaUVu1ixdAIBT19n6/mZ0Xefl6tWUTvfk7ugzR0Mo6mk6ZUgivlXY3OGmFblpqluDkLFQTvNM5f6DPvyBAFIKtn3wrjXEiSSEm4hvlYzt7faN/3LtBmfa2gGY7imho6sbgJbvz3Lu/AVriP40CEWNjB8slsp3OTGcGgPD/mTZdE8xnXEAgP7+QQzDoKDAYjklIIZ5VpI60cZVV28fu7/+gVeqnmP5wieTAB23YwArX1hO/Ws17Ny1l1udd6wH7Dfhu8Bi2wAAd+71sfvYOcpKitA1jalTHqOzqweAGeVePt61l47bNown9I9pWORPprrv+ei+50PXNc6cv8iIPzYlXx755lGHAimUJHaZeGSFwxH+vNExka4puYhocYA5Y+sK8gxerywHp4YyNNA1lFMDZ+r4UAqenjMr1UmBDEaQIxFkIIz0R3CMhHG3DUAgnAlgyIAG6jqIqgw4p8bzLy23dMI7u9La0cOHgSwABaJHIjhuOcJkyS2OaGjFrYT7hxi7GwYjaMduQDDzRAzNcBOa6SZUWsBgTz+uwQiFD4IU3s9660KOZPFeEwpX4Wex03DzV1+geDujUXcUTgcgOrq48/B6hlbGrg1tV28CUPGbj+qPrthwO65ZjnY63loUW1FRczvgz2g0wwHr8iB+lEdXlhP8qRbPkmJmmmEeJ8LiMi+Ly7x4187j5slahqvKrY1rQJHYAOlXsncO7QCxNWuHeCSUJx/zmZJksdIEgYejpyivvQ/tfqYvozRbu8CtjSsSLDEFwzvI01dnvQnHIyFO+3GcHT243YdCUiVyGC/rEr+ppN7fEEQ4a4GerB3HTMeE5BImFc4qft44lAkAsKeuF1OtnxSIAhFlnnyVK29cTi+e2MMkR3bkVJHw84S+gssNGWkis7VnT10vgfCLoHZiIztySgPm6q0scJRmMw7/9XGaKxKGUJQ52il0NHL1zd/HG94aIKFcz/M7UQc/BnUK5TCFohunOIFHfZK+0MbTvx9ltLez/h/sAAAAAElFTkSuQmCC) **TODO!**"
   ]
  },
  {
   "cell_type": "markdown",
   "metadata": {},
   "source": [
    "Connectez vous à redis.\n",
    "\n",
    "💡Astuces : \n",
    "- https://redis.io/docs/latest/develop/clients/redis-py/"
   ]
  },
  {
   "cell_type": "code",
   "execution_count": 4,
   "metadata": {},
   "outputs": [],
   "source": [
    "# code moi steupléé 🥺\n",
    "r = redis.Redis(host='localhost', port=6379)"
   ]
  },
  {
   "cell_type": "markdown",
   "metadata": {},
   "source": [
    "#### ![programming(3).png](data:image/png;base64,iVBORw0KGgoAAAANSUhEUgAAACAAAAAgCAYAAABzenr0AAAABHNCSVQICAgIfAhkiAAAAAlwSFlzAAAA3QAAAN0BcFOiBwAAABl0RVh0U29mdHdhcmUAd3d3Lmlua3NjYXBlLm9yZ5vuPBoAAAR7SURBVFiFtZdvaFVlHMc/z3PPuefuz825XWV3m5mWU1MLSVEyRoqKk2iLWBCT2uyFpTSIoCCHL0SDXkgUavhKCU3EpGmlorYSShtWig6M1M25gVPb3da2e6/3z3l6cf9u996d42pfOC/O8+/3+f2e5/f8EUopbKnplEHEtwpFDYj5gDf+AdyNfeo6guNoxa18Xv3QzrDCEmDTQS8OuQ1FPeC2R8sQgkNEze3s23B3YgCNB1y49GYQ7wH5Ng2PlR/UpwTDO9jfELQPsOVoKSrUghLLJmh4rJU2hLOWPXW91gCbDi1CipNAxf9iPKUeTLWeffXXcgNsOVqKGb40CcZTEFJfmh4JmaxqPOBChVom0ThABSrUQuMBV6JAS1a59Ob0OQ8J+MsYP0MUMDgwOL5JE5ZINy6XI95JLIstbpohMQWbDnqR8iZpq/1vB3xYalq6dPHXS5Ztzv4xl/K1UyBPJIr8mOZT7NtwNzYFDrmNCabawvmV6Jo2fqMBBd8GIJCMaH7cJpKmU0Z8k7GlaUVu1ixdAIBT19n6/mZ0Xefl6tWUTvfk7ugzR0Mo6mk6ZUgivlXY3OGmFblpqluDkLFQTvNM5f6DPvyBAFIKtn3wrjXEiSSEm4hvlYzt7faN/3LtBmfa2gGY7imho6sbgJbvz3Lu/AVriP40CEWNjB8slsp3OTGcGgPD/mTZdE8xnXEAgP7+QQzDoKDAYjklIIZ5VpI60cZVV28fu7/+gVeqnmP5wieTAB23YwArX1hO/Ws17Ny1l1udd6wH7Dfhu8Bi2wAAd+71sfvYOcpKitA1jalTHqOzqweAGeVePt61l47bNown9I9pWORPprrv+ei+50PXNc6cv8iIPzYlXx755lGHAimUJHaZeGSFwxH+vNExka4puYhocYA5Y+sK8gxerywHp4YyNNA1lFMDZ+r4UAqenjMr1UmBDEaQIxFkIIz0R3CMhHG3DUAgnAlgyIAG6jqIqgw4p8bzLy23dMI7u9La0cOHgSwABaJHIjhuOcJkyS2OaGjFrYT7hxi7GwYjaMduQDDzRAzNcBOa6SZUWsBgTz+uwQiFD4IU3s9660KOZPFeEwpX4Wex03DzV1+geDujUXcUTgcgOrq48/B6hlbGrg1tV28CUPGbj+qPrthwO65ZjnY63loUW1FRczvgz2g0wwHr8iB+lEdXlhP8qRbPkmJmmmEeJ8LiMi+Ly7x4187j5slahqvKrY1rQJHYAOlXsncO7QCxNWuHeCSUJx/zmZJksdIEgYejpyivvQ/tfqYvozRbu8CtjSsSLDEFwzvI01dnvQnHIyFO+3GcHT243YdCUiVyGC/rEr+ppN7fEEQ4a4GerB3HTMeE5BImFc4qft44lAkAsKeuF1OtnxSIAhFlnnyVK29cTi+e2MMkR3bkVJHw84S+gssNGWkis7VnT10vgfCLoHZiIztySgPm6q0scJRmMw7/9XGaKxKGUJQ52il0NHL1zd/HG94aIKFcz/M7UQc/BnUK5TCFohunOIFHfZK+0MbTvx9ltLez/h/sAAAAAElFTkSuQmCC) **TODO!**"
   ]
  },
  {
   "cell_type": "markdown",
   "metadata": {},
   "source": [
    "Envoyez un ping à la BDD et affichez son résultat."
   ]
  },
  {
   "cell_type": "code",
   "execution_count": 5,
   "metadata": {},
   "outputs": [
    {
     "name": "stdout",
     "output_type": "stream",
     "text": [
      "True\n"
     ]
    }
   ],
   "source": [
    "# code moi steupléé 🥺\n",
    "print(r.ping())"
   ]
  },
  {
   "cell_type": "markdown",
   "metadata": {},
   "source": [
    "#### ![programming(3).png](data:image/png;base64,iVBORw0KGgoAAAANSUhEUgAAACAAAAAgCAYAAABzenr0AAAABHNCSVQICAgIfAhkiAAAAAlwSFlzAAAA3QAAAN0BcFOiBwAAABl0RVh0U29mdHdhcmUAd3d3Lmlua3NjYXBlLm9yZ5vuPBoAAAR7SURBVFiFtZdvaFVlHMc/z3PPuefuz825XWV3m5mWU1MLSVEyRoqKk2iLWBCT2uyFpTSIoCCHL0SDXkgUavhKCU3EpGmlorYSShtWig6M1M25gVPb3da2e6/3z3l6cf9u996d42pfOC/O8+/3+f2e5/f8EUopbKnplEHEtwpFDYj5gDf+AdyNfeo6guNoxa18Xv3QzrDCEmDTQS8OuQ1FPeC2R8sQgkNEze3s23B3YgCNB1y49GYQ7wH5Ng2PlR/UpwTDO9jfELQPsOVoKSrUghLLJmh4rJU2hLOWPXW91gCbDi1CipNAxf9iPKUeTLWeffXXcgNsOVqKGb40CcZTEFJfmh4JmaxqPOBChVom0ThABSrUQuMBV6JAS1a59Ob0OQ8J+MsYP0MUMDgwOL5JE5ZINy6XI95JLIstbpohMQWbDnqR8iZpq/1vB3xYalq6dPHXS5Ztzv4xl/K1UyBPJIr8mOZT7NtwNzYFDrmNCabawvmV6Jo2fqMBBd8GIJCMaH7cJpKmU0Z8k7GlaUVu1ixdAIBT19n6/mZ0Xefl6tWUTvfk7ugzR0Mo6mk6ZUgivlXY3OGmFblpqluDkLFQTvNM5f6DPvyBAFIKtn3wrjXEiSSEm4hvlYzt7faN/3LtBmfa2gGY7imho6sbgJbvz3Lu/AVriP40CEWNjB8slsp3OTGcGgPD/mTZdE8xnXEAgP7+QQzDoKDAYjklIIZ5VpI60cZVV28fu7/+gVeqnmP5wieTAB23YwArX1hO/Ws17Ny1l1udd6wH7Dfhu8Bi2wAAd+71sfvYOcpKitA1jalTHqOzqweAGeVePt61l47bNown9I9pWORPprrv+ei+50PXNc6cv8iIPzYlXx755lGHAimUJHaZeGSFwxH+vNExka4puYhocYA5Y+sK8gxerywHp4YyNNA1lFMDZ+r4UAqenjMr1UmBDEaQIxFkIIz0R3CMhHG3DUAgnAlgyIAG6jqIqgw4p8bzLy23dMI7u9La0cOHgSwABaJHIjhuOcJkyS2OaGjFrYT7hxi7GwYjaMduQDDzRAzNcBOa6SZUWsBgTz+uwQiFD4IU3s9660KOZPFeEwpX4Wex03DzV1+geDujUXcUTgcgOrq48/B6hlbGrg1tV28CUPGbj+qPrthwO65ZjnY63loUW1FRczvgz2g0wwHr8iB+lEdXlhP8qRbPkmJmmmEeJ8LiMi+Ly7x4187j5slahqvKrY1rQJHYAOlXsncO7QCxNWuHeCSUJx/zmZJksdIEgYejpyivvQ/tfqYvozRbu8CtjSsSLDEFwzvI01dnvQnHIyFO+3GcHT243YdCUiVyGC/rEr+ppN7fEEQ4a4GerB3HTMeE5BImFc4qft44lAkAsKeuF1OtnxSIAhFlnnyVK29cTi+e2MMkR3bkVJHw84S+gssNGWkis7VnT10vgfCLoHZiIztySgPm6q0scJRmMw7/9XGaKxKGUJQ52il0NHL1zd/HG94aIKFcz/M7UQc/BnUK5TCFohunOIFHfZK+0MbTvx9ltLez/h/sAAAAAElFTkSuQmCC) **TODO!**"
   ]
  },
  {
   "cell_type": "markdown",
   "metadata": {},
   "source": [
    "Que se passe-t-il si vous utilisez le paramètre `decode_responses` quand vous vous connectez ?"
   ]
  },
  {
   "cell_type": "code",
   "execution_count": null,
   "metadata": {},
   "outputs": [
    {
     "data": {
      "text/plain": [
       "True"
      ]
     },
     "execution_count": 51,
     "metadata": {},
     "output_type": "execute_result"
    }
   ],
   "source": [
    "# code moi steupléé 🥺\n",
    "r = redis.Redis(host='localhost', port=6379, decode_responses=True)\n",
    "r.ping()"
   ]
  },
  {
   "cell_type": "code",
   "execution_count": 49,
   "metadata": {},
   "outputs": [
    {
     "name": "stdout",
     "output_type": "stream",
     "text": [
      "L'argument decode_responses transforme les réponses initialement en binaire fournies en résultat de chaque opération en un type compréhensible\n"
     ]
    }
   ],
   "source": [
    "reponse = \"L'argument decode_responses transforme les réponses initialement en binaire fournies en résultat de chaque opération en un type compréhensible\"\n",
    "print(reponse)"
   ]
  },
  {
   "cell_type": "markdown",
   "metadata": {},
   "source": [
    "#### ![programming(3).png](data:image/png;base64,iVBORw0KGgoAAAANSUhEUgAAACAAAAAgCAYAAABzenr0AAAABHNCSVQICAgIfAhkiAAAAAlwSFlzAAAA3QAAAN0BcFOiBwAAABl0RVh0U29mdHdhcmUAd3d3Lmlua3NjYXBlLm9yZ5vuPBoAAAR7SURBVFiFtZdvaFVlHMc/z3PPuefuz825XWV3m5mWU1MLSVEyRoqKk2iLWBCT2uyFpTSIoCCHL0SDXkgUavhKCU3EpGmlorYSShtWig6M1M25gVPb3da2e6/3z3l6cf9u996d42pfOC/O8+/3+f2e5/f8EUopbKnplEHEtwpFDYj5gDf+AdyNfeo6guNoxa18Xv3QzrDCEmDTQS8OuQ1FPeC2R8sQgkNEze3s23B3YgCNB1y49GYQ7wH5Ng2PlR/UpwTDO9jfELQPsOVoKSrUghLLJmh4rJU2hLOWPXW91gCbDi1CipNAxf9iPKUeTLWeffXXcgNsOVqKGb40CcZTEFJfmh4JmaxqPOBChVom0ThABSrUQuMBV6JAS1a59Ob0OQ8J+MsYP0MUMDgwOL5JE5ZINy6XI95JLIstbpohMQWbDnqR8iZpq/1vB3xYalq6dPHXS5Ztzv4xl/K1UyBPJIr8mOZT7NtwNzYFDrmNCabawvmV6Jo2fqMBBd8GIJCMaH7cJpKmU0Z8k7GlaUVu1ixdAIBT19n6/mZ0Xefl6tWUTvfk7ugzR0Mo6mk6ZUgivlXY3OGmFblpqluDkLFQTvNM5f6DPvyBAFIKtn3wrjXEiSSEm4hvlYzt7faN/3LtBmfa2gGY7imho6sbgJbvz3Lu/AVriP40CEWNjB8slsp3OTGcGgPD/mTZdE8xnXEAgP7+QQzDoKDAYjklIIZ5VpI60cZVV28fu7/+gVeqnmP5wieTAB23YwArX1hO/Ws17Ny1l1udd6wH7Dfhu8Bi2wAAd+71sfvYOcpKitA1jalTHqOzqweAGeVePt61l47bNown9I9pWORPprrv+ei+50PXNc6cv8iIPzYlXx755lGHAimUJHaZeGSFwxH+vNExka4puYhocYA5Y+sK8gxerywHp4YyNNA1lFMDZ+r4UAqenjMr1UmBDEaQIxFkIIz0R3CMhHG3DUAgnAlgyIAG6jqIqgw4p8bzLy23dMI7u9La0cOHgSwABaJHIjhuOcJkyS2OaGjFrYT7hxi7GwYjaMduQDDzRAzNcBOa6SZUWsBgTz+uwQiFD4IU3s9660KOZPFeEwpX4Wex03DzV1+geDujUXcUTgcgOrq48/B6hlbGrg1tV28CUPGbj+qPrthwO65ZjnY63loUW1FRczvgz2g0wwHr8iB+lEdXlhP8qRbPkmJmmmEeJ8LiMi+Ly7x4187j5slahqvKrY1rQJHYAOlXsncO7QCxNWuHeCSUJx/zmZJksdIEgYejpyivvQ/tfqYvozRbu8CtjSsSLDEFwzvI01dnvQnHIyFO+3GcHT243YdCUiVyGC/rEr+ppN7fEEQ4a4GerB3HTMeE5BImFc4qft44lAkAsKeuF1OtnxSIAhFlnnyVK29cTi+e2MMkR3bkVJHw84S+gssNGWkis7VnT10vgfCLoHZiIztySgPm6q0scJRmMw7/9XGaKxKGUJQ52il0NHL1zd/HG94aIKFcz/M7UQc/BnUK5TCFohunOIFHfZK+0MbTvx9ltLez/h/sAAAAAElFTkSuQmCC) **TODO!**"
   ]
  },
  {
   "cell_type": "markdown",
   "metadata": {},
   "source": [
    "Affichez les informations de votre serveur redis avec `.info()`."
   ]
  },
  {
   "cell_type": "code",
   "execution_count": null,
   "metadata": {},
   "outputs": [
    {
     "data": {
      "text/plain": [
       "{'redis_version': '7.4.0',\n",
       " 'redis_git_sha1': 0,\n",
       " 'redis_git_dirty': 0,\n",
       " 'redis_build_id': 'd614467eb596827',\n",
       " 'redis_mode': 'standalone',\n",
       " 'os': 'Linux 6.8.0-49-generic x86_64',\n",
       " 'arch_bits': 64,\n",
       " 'monotonic_clock': 'POSIX clock_gettime',\n",
       " 'multiplexing_api': 'epoll',\n",
       " 'atomicvar_api': 'c11-builtin',\n",
       " 'gcc_version': '11.4.0',\n",
       " 'process_id': 9,\n",
       " 'process_supervised': 'no',\n",
       " 'run_id': '4ea424a306f1257732714f46201f15cd8b5d2537',\n",
       " 'tcp_port': 6379,\n",
       " 'server_time_usec': 1733708805647485,\n",
       " 'uptime_in_seconds': 122707,\n",
       " 'uptime_in_days': 1,\n",
       " 'hz': 10,\n",
       " 'configured_hz': 10,\n",
       " 'lru_clock': 5655557,\n",
       " 'executable': '/opt/redis-stack/bin/redis-server',\n",
       " 'config_file': '',\n",
       " 'io_threads_active': 0,\n",
       " 'listener0': {'name': 'tcp', 'bind': '-::*', 'port': 6379},\n",
       " 'connected_clients': 2,\n",
       " 'cluster_connections': 0,\n",
       " 'maxclients': 10000,\n",
       " 'client_recent_max_input_buffer': 8,\n",
       " 'client_recent_max_output_buffer': 0,\n",
       " 'blocked_clients': 0,\n",
       " 'tracking_clients': 0,\n",
       " 'pubsub_clients': 0,\n",
       " 'watching_clients': 0,\n",
       " 'clients_in_timeout_table': 0,\n",
       " 'total_watched_keys': 0,\n",
       " 'total_blocking_keys': 0,\n",
       " 'total_blocking_keys_on_nokey': 0,\n",
       " 'used_memory': 2444536,\n",
       " 'used_memory_human': '2.33M',\n",
       " 'used_memory_rss': 24862720,\n",
       " 'used_memory_rss_human': '23.71M',\n",
       " 'used_memory_peak': 2560936,\n",
       " 'used_memory_peak_human': '2.44M',\n",
       " 'used_memory_peak_perc': '95.45%',\n",
       " 'used_memory_overhead': 1293160,\n",
       " 'used_memory_startup': 1288048,\n",
       " 'used_memory_dataset': 1151376,\n",
       " 'used_memory_dataset_perc': '99.56%',\n",
       " 'allocator_allocated': 6150144,\n",
       " 'allocator_active': 16449536,\n",
       " 'allocator_resident': 18415616,\n",
       " 'allocator_muzzy': 0,\n",
       " 'total_system_memory': 33093783552,\n",
       " 'total_system_memory_human': '30.82G',\n",
       " 'used_memory_lua': 31744,\n",
       " 'used_memory_vm_eval': 31744,\n",
       " 'used_memory_lua_human': '31.00K',\n",
       " 'used_memory_scripts_eval': 0,\n",
       " 'number_of_cached_scripts': 0,\n",
       " 'number_of_functions': 0,\n",
       " 'number_of_libraries': 0,\n",
       " 'used_memory_vm_functions': 32768,\n",
       " 'used_memory_vm_total': 64512,\n",
       " 'used_memory_vm_total_human': '63.00K',\n",
       " 'used_memory_functions': 192,\n",
       " 'used_memory_scripts': 192,\n",
       " 'used_memory_scripts_human': '192B',\n",
       " 'maxmemory': 0,\n",
       " 'maxmemory_human': '0B',\n",
       " 'maxmemory_policy': 'noeviction',\n",
       " 'allocator_frag_ratio': 2.75,\n",
       " 'allocator_frag_bytes': 7209728,\n",
       " 'allocator_rss_ratio': 1.12,\n",
       " 'allocator_rss_bytes': 1966080,\n",
       " 'rss_overhead_ratio': 1.35,\n",
       " 'rss_overhead_bytes': 6447104,\n",
       " 'mem_fragmentation_ratio': 10.27,\n",
       " 'mem_fragmentation_bytes': 22441072,\n",
       " 'mem_not_counted_for_evict': 0,\n",
       " 'mem_replication_backlog': 0,\n",
       " 'mem_total_replication_buffers': 0,\n",
       " 'mem_clients_slaves': 0,\n",
       " 'mem_clients_normal': 3856,\n",
       " 'mem_cluster_links': 0,\n",
       " 'mem_aof_buffer': 0,\n",
       " 'mem_allocator': 'jemalloc-5.3.0',\n",
       " 'mem_overhead_db_hashtable_rehashing': 0,\n",
       " 'active_defrag_running': 0,\n",
       " 'lazyfree_pending_objects': 0,\n",
       " 'lazyfreed_objects': 0,\n",
       " 'loading': 0,\n",
       " 'async_loading': 0,\n",
       " 'current_cow_peak': 0,\n",
       " 'current_cow_size': 0,\n",
       " 'current_cow_size_age': 0,\n",
       " 'current_fork_perc': 0.0,\n",
       " 'current_save_keys_processed': 0,\n",
       " 'current_save_keys_total': 0,\n",
       " 'rdb_changes_since_last_save': 26,\n",
       " 'rdb_bgsave_in_progress': 0,\n",
       " 'rdb_last_save_time': 1733705627,\n",
       " 'rdb_last_bgsave_status': 'ok',\n",
       " 'rdb_last_bgsave_time_sec': 0,\n",
       " 'rdb_current_bgsave_time_sec': -1,\n",
       " 'rdb_saves': 2,\n",
       " 'rdb_last_cow_size': 1404928,\n",
       " 'rdb_last_load_keys_expired': 0,\n",
       " 'rdb_last_load_keys_loaded': 8,\n",
       " 'aof_enabled': 0,\n",
       " 'aof_rewrite_in_progress': 0,\n",
       " 'aof_rewrite_scheduled': 0,\n",
       " 'aof_last_rewrite_time_sec': -1,\n",
       " 'aof_current_rewrite_time_sec': -1,\n",
       " 'aof_last_bgrewrite_status': 'ok',\n",
       " 'aof_rewrites': 0,\n",
       " 'aof_rewrites_consecutive_failures': 0,\n",
       " 'aof_last_write_status': 'ok',\n",
       " 'aof_last_cow_size': 0,\n",
       " 'module_fork_in_progress': 0,\n",
       " 'module_fork_last_cow_size': 0,\n",
       " 'total_connections_received': 4,\n",
       " 'total_commands_processed': 76,\n",
       " 'instantaneous_ops_per_sec': 0,\n",
       " 'total_net_input_bytes': 143641,\n",
       " 'total_net_output_bytes': 65271,\n",
       " 'total_net_repl_input_bytes': 0,\n",
       " 'total_net_repl_output_bytes': 0,\n",
       " 'instantaneous_input_kbps': 0.0,\n",
       " 'instantaneous_output_kbps': 0.0,\n",
       " 'instantaneous_input_repl_kbps': 0.0,\n",
       " 'instantaneous_output_repl_kbps': 0.0,\n",
       " 'rejected_connections': 0,\n",
       " 'sync_full': 0,\n",
       " 'sync_partial_ok': 0,\n",
       " 'sync_partial_err': 0,\n",
       " 'expired_subkeys': 0,\n",
       " 'expired_keys': 0,\n",
       " 'expired_stale_perc': 0.0,\n",
       " 'expired_time_cap_reached_count': 0,\n",
       " 'expire_cycle_cpu_milliseconds': 700,\n",
       " 'evicted_keys': 0,\n",
       " 'evicted_clients': 0,\n",
       " 'evicted_scripts': 0,\n",
       " 'total_eviction_exceeded_time': 0,\n",
       " 'current_eviction_exceeded_time': 0,\n",
       " 'keyspace_hits': 42,\n",
       " 'keyspace_misses': 1,\n",
       " 'pubsub_channels': 0,\n",
       " 'pubsub_patterns': 0,\n",
       " 'pubsubshard_channels': 0,\n",
       " 'latest_fork_usec': 532,\n",
       " 'total_forks': 2,\n",
       " 'migrate_cached_sockets': 0,\n",
       " 'slave_expires_tracked_keys': 0,\n",
       " 'active_defrag_hits': 0,\n",
       " 'active_defrag_misses': 0,\n",
       " 'active_defrag_key_hits': 0,\n",
       " 'active_defrag_key_misses': 0,\n",
       " 'total_active_defrag_time': 0,\n",
       " 'current_active_defrag_time': 0,\n",
       " 'tracking_total_keys': 0,\n",
       " 'tracking_total_items': 0,\n",
       " 'tracking_total_prefixes': 0,\n",
       " 'unexpected_error_replies': 0,\n",
       " 'total_error_replies': 4,\n",
       " 'dump_payload_sanitizations': 0,\n",
       " 'total_reads_processed': 75,\n",
       " 'total_writes_processed': 70,\n",
       " 'io_threaded_reads_processed': 0,\n",
       " 'io_threaded_writes_processed': 0,\n",
       " 'client_query_buffer_limit_disconnections': 0,\n",
       " 'client_output_buffer_limit_disconnections': 0,\n",
       " 'reply_buffer_shrinks': 4,\n",
       " 'reply_buffer_expands': 1,\n",
       " 'eventloop_cycles': 590006,\n",
       " 'eventloop_duration_sum': 171135449,\n",
       " 'eventloop_duration_cmd_sum': 13735,\n",
       " 'instantaneous_eventloop_cycles_per_sec': 9,\n",
       " 'instantaneous_eventloop_duration_usec': 326,\n",
       " 'acl_access_denied_auth': 0,\n",
       " 'acl_access_denied_cmd': 0,\n",
       " 'acl_access_denied_key': 0,\n",
       " 'acl_access_denied_channel': 0,\n",
       " 'role': 'master',\n",
       " 'connected_slaves': 0,\n",
       " 'master_failover_state': 'no-failover',\n",
       " 'master_replid': '64490cfd98e491e737aef9a33c3750bb4a6787b4',\n",
       " 'master_replid2': 0,\n",
       " 'master_repl_offset': 0,\n",
       " 'second_repl_offset': -1,\n",
       " 'repl_backlog_active': 0,\n",
       " 'repl_backlog_size': 1048576,\n",
       " 'repl_backlog_first_byte_offset': 0,\n",
       " 'repl_backlog_histlen': 0,\n",
       " 'used_cpu_sys': 44.143851,\n",
       " 'used_cpu_user': 139.007504,\n",
       " 'used_cpu_sys_children': 0.006074,\n",
       " 'used_cpu_user_children': 0.008099,\n",
       " 'used_cpu_sys_main_thread': 44.120655,\n",
       " 'used_cpu_user_main_thread': 138.94572,\n",
       " 'modules': [{'name': 'bf',\n",
       "   'ver': 20802,\n",
       "   'api': 1,\n",
       "   'filters': 0,\n",
       "   'usedby': '[]',\n",
       "   'using': '[]',\n",
       "   'options': '[]'},\n",
       "  {'name': 'search',\n",
       "   'ver': 21005,\n",
       "   'api': 1,\n",
       "   'filters': 0,\n",
       "   'usedby': '[]',\n",
       "   'using': '[ReJSON]',\n",
       "   'options': '[handle-io-errors]'},\n",
       "  {'name': 'redisgears_2',\n",
       "   'ver': 20020,\n",
       "   'api': 1,\n",
       "   'filters': 0,\n",
       "   'usedby': '[]',\n",
       "   'using': '[]',\n",
       "   'options': '[]'},\n",
       "  {'name': 'RedisCompat',\n",
       "   'ver': 1,\n",
       "   'api': 1,\n",
       "   'filters': 0,\n",
       "   'usedby': '[]',\n",
       "   'using': '[]',\n",
       "   'options': '[]'},\n",
       "  {'name': 'timeseries',\n",
       "   'ver': 11202,\n",
       "   'api': 1,\n",
       "   'filters': 0,\n",
       "   'usedby': '[]',\n",
       "   'using': '[]',\n",
       "   'options': '[]'},\n",
       "  {'name': 'ReJSON',\n",
       "   'ver': 20803,\n",
       "   'api': 1,\n",
       "   'filters': 0,\n",
       "   'usedby': '[search]',\n",
       "   'using': '[]',\n",
       "   'options': '[handle-io-errors]'}],\n",
       " 'errorstat_WRONGTYPE': {'count': 4},\n",
       " 'cluster_enabled': 0,\n",
       " 'db0': {'keys': 11, 'expires': 0, 'avg_ttl': 0, 'subexpiry': 0}}"
      ]
     },
     "execution_count": 61,
     "metadata": {},
     "output_type": "execute_result"
    }
   ],
   "source": [
    "# code moi steupléé 🥺\n",
    "r.info()"
   ]
  },
  {
   "cell_type": "markdown",
   "metadata": {},
   "source": [
    "#### ![programming(3).png](data:image/png;base64,iVBORw0KGgoAAAANSUhEUgAAACAAAAAgCAYAAABzenr0AAAABHNCSVQICAgIfAhkiAAAAAlwSFlzAAAA3QAAAN0BcFOiBwAAABl0RVh0U29mdHdhcmUAd3d3Lmlua3NjYXBlLm9yZ5vuPBoAAAR7SURBVFiFtZdvaFVlHMc/z3PPuefuz825XWV3m5mWU1MLSVEyRoqKk2iLWBCT2uyFpTSIoCCHL0SDXkgUavhKCU3EpGmlorYSShtWig6M1M25gVPb3da2e6/3z3l6cf9u996d42pfOC/O8+/3+f2e5/f8EUopbKnplEHEtwpFDYj5gDf+AdyNfeo6guNoxa18Xv3QzrDCEmDTQS8OuQ1FPeC2R8sQgkNEze3s23B3YgCNB1y49GYQ7wH5Ng2PlR/UpwTDO9jfELQPsOVoKSrUghLLJmh4rJU2hLOWPXW91gCbDi1CipNAxf9iPKUeTLWeffXXcgNsOVqKGb40CcZTEFJfmh4JmaxqPOBChVom0ThABSrUQuMBV6JAS1a59Ob0OQ8J+MsYP0MUMDgwOL5JE5ZINy6XI95JLIstbpohMQWbDnqR8iZpq/1vB3xYalq6dPHXS5Ztzv4xl/K1UyBPJIr8mOZT7NtwNzYFDrmNCabawvmV6Jo2fqMBBd8GIJCMaH7cJpKmU0Z8k7GlaUVu1ixdAIBT19n6/mZ0Xefl6tWUTvfk7ugzR0Mo6mk6ZUgivlXY3OGmFblpqluDkLFQTvNM5f6DPvyBAFIKtn3wrjXEiSSEm4hvlYzt7faN/3LtBmfa2gGY7imho6sbgJbvz3Lu/AVriP40CEWNjB8slsp3OTGcGgPD/mTZdE8xnXEAgP7+QQzDoKDAYjklIIZ5VpI60cZVV28fu7/+gVeqnmP5wieTAB23YwArX1hO/Ws17Ny1l1udd6wH7Dfhu8Bi2wAAd+71sfvYOcpKitA1jalTHqOzqweAGeVePt61l47bNown9I9pWORPprrv+ei+50PXNc6cv8iIPzYlXx755lGHAimUJHaZeGSFwxH+vNExka4puYhocYA5Y+sK8gxerywHp4YyNNA1lFMDZ+r4UAqenjMr1UmBDEaQIxFkIIz0R3CMhHG3DUAgnAlgyIAG6jqIqgw4p8bzLy23dMI7u9La0cOHgSwABaJHIjhuOcJkyS2OaGjFrYT7hxi7GwYjaMduQDDzRAzNcBOa6SZUWsBgTz+uwQiFD4IU3s9660KOZPFeEwpX4Wex03DzV1+geDujUXcUTgcgOrq48/B6hlbGrg1tV28CUPGbj+qPrthwO65ZjnY63loUW1FRczvgz2g0wwHr8iB+lEdXlhP8qRbPkmJmmmEeJ8LiMi+Ly7x4187j5slahqvKrY1rQJHYAOlXsncO7QCxNWuHeCSUJx/zmZJksdIEgYejpyivvQ/tfqYvozRbu8CtjSsSLDEFwzvI01dnvQnHIyFO+3GcHT243YdCUiVyGC/rEr+ppN7fEEQ4a4GerB3HTMeE5BImFc4qft44lAkAsKeuF1OtnxSIAhFlnnyVK29cTi+e2MMkR3bkVJHw84S+gssNGWkis7VnT10vgfCLoHZiIztySgPm6q0scJRmMw7/9XGaKxKGUJQ52il0NHL1zd/HG94aIKFcz/M7UQc/BnUK5TCFohunOIFHfZK+0MbTvx9ltLez/h/sAAAAAElFTkSuQmCC) **TODO!**"
   ]
  },
  {
   "cell_type": "markdown",
   "metadata": {},
   "source": [
    "Avec `redis`, créez une clé `prenom` et mettez-y votre prénom.\n",
    "\n",
    "💡Astuces :\n",
    "- Aidez-vous de la documentation des commandes pour le reste du TD : https://redis-py.readthedocs.io/en/stable/commands.html#redis.commands.core.CoreCommands.info"
   ]
  },
  {
   "cell_type": "code",
   "execution_count": null,
   "metadata": {},
   "outputs": [
    {
     "data": {
      "text/plain": [
       "True"
      ]
     },
     "execution_count": 39,
     "metadata": {},
     "output_type": "execute_result"
    }
   ],
   "source": [
    "# code moi steupléé 🥺\n",
    "r.set(\"prenom\", \"Gaël\")"
   ]
  },
  {
   "cell_type": "markdown",
   "metadata": {},
   "source": [
    "#### ![programming(3).png](data:image/png;base64,iVBORw0KGgoAAAANSUhEUgAAACAAAAAgCAYAAABzenr0AAAABHNCSVQICAgIfAhkiAAAAAlwSFlzAAAA3QAAAN0BcFOiBwAAABl0RVh0U29mdHdhcmUAd3d3Lmlua3NjYXBlLm9yZ5vuPBoAAAR7SURBVFiFtZdvaFVlHMc/z3PPuefuz825XWV3m5mWU1MLSVEyRoqKk2iLWBCT2uyFpTSIoCCHL0SDXkgUavhKCU3EpGmlorYSShtWig6M1M25gVPb3da2e6/3z3l6cf9u996d42pfOC/O8+/3+f2e5/f8EUopbKnplEHEtwpFDYj5gDf+AdyNfeo6guNoxa18Xv3QzrDCEmDTQS8OuQ1FPeC2R8sQgkNEze3s23B3YgCNB1y49GYQ7wH5Ng2PlR/UpwTDO9jfELQPsOVoKSrUghLLJmh4rJU2hLOWPXW91gCbDi1CipNAxf9iPKUeTLWeffXXcgNsOVqKGb40CcZTEFJfmh4JmaxqPOBChVom0ThABSrUQuMBV6JAS1a59Ob0OQ8J+MsYP0MUMDgwOL5JE5ZINy6XI95JLIstbpohMQWbDnqR8iZpq/1vB3xYalq6dPHXS5Ztzv4xl/K1UyBPJIr8mOZT7NtwNzYFDrmNCabawvmV6Jo2fqMBBd8GIJCMaH7cJpKmU0Z8k7GlaUVu1ixdAIBT19n6/mZ0Xefl6tWUTvfk7ugzR0Mo6mk6ZUgivlXY3OGmFblpqluDkLFQTvNM5f6DPvyBAFIKtn3wrjXEiSSEm4hvlYzt7faN/3LtBmfa2gGY7imho6sbgJbvz3Lu/AVriP40CEWNjB8slsp3OTGcGgPD/mTZdE8xnXEAgP7+QQzDoKDAYjklIIZ5VpI60cZVV28fu7/+gVeqnmP5wieTAB23YwArX1hO/Ws17Ny1l1udd6wH7Dfhu8Bi2wAAd+71sfvYOcpKitA1jalTHqOzqweAGeVePt61l47bNown9I9pWORPprrv+ei+50PXNc6cv8iIPzYlXx755lGHAimUJHaZeGSFwxH+vNExka4puYhocYA5Y+sK8gxerywHp4YyNNA1lFMDZ+r4UAqenjMr1UmBDEaQIxFkIIz0R3CMhHG3DUAgnAlgyIAG6jqIqgw4p8bzLy23dMI7u9La0cOHgSwABaJHIjhuOcJkyS2OaGjFrYT7hxi7GwYjaMduQDDzRAzNcBOa6SZUWsBgTz+uwQiFD4IU3s9660KOZPFeEwpX4Wex03DzV1+geDujUXcUTgcgOrq48/B6hlbGrg1tV28CUPGbj+qPrthwO65ZjnY63loUW1FRczvgz2g0wwHr8iB+lEdXlhP8qRbPkmJmmmEeJ8LiMi+Ly7x4187j5slahqvKrY1rQJHYAOlXsncO7QCxNWuHeCSUJx/zmZJksdIEgYejpyivvQ/tfqYvozRbu8CtjSsSLDEFwzvI01dnvQnHIyFO+3GcHT243YdCUiVyGC/rEr+ppN7fEEQ4a4GerB3HTMeE5BImFc4qft44lAkAsKeuF1OtnxSIAhFlnnyVK29cTi+e2MMkR3bkVJHw84S+gssNGWkis7VnT10vgfCLoHZiIztySgPm6q0scJRmMw7/9XGaKxKGUJQ52il0NHL1zd/HG94aIKFcz/M7UQc/BnUK5TCFohunOIFHfZK+0MbTvx9ltLez/h/sAAAAAElFTkSuQmCC) **TODO!**"
   ]
  },
  {
   "cell_type": "markdown",
   "metadata": {},
   "source": [
    "Affichez le contenu de votre base de données dans redis-insights.\n",
    "\n",
    "Allez à l'URL http://localhost:8001/."
   ]
  },
  {
   "cell_type": "markdown",
   "metadata": {},
   "source": [
    "#### ![programming(3).png](data:image/png;base64,iVBORw0KGgoAAAANSUhEUgAAACAAAAAgCAYAAABzenr0AAAABHNCSVQICAgIfAhkiAAAAAlwSFlzAAAA3QAAAN0BcFOiBwAAABl0RVh0U29mdHdhcmUAd3d3Lmlua3NjYXBlLm9yZ5vuPBoAAAR7SURBVFiFtZdvaFVlHMc/z3PPuefuz825XWV3m5mWU1MLSVEyRoqKk2iLWBCT2uyFpTSIoCCHL0SDXkgUavhKCU3EpGmlorYSShtWig6M1M25gVPb3da2e6/3z3l6cf9u996d42pfOC/O8+/3+f2e5/f8EUopbKnplEHEtwpFDYj5gDf+AdyNfeo6guNoxa18Xv3QzrDCEmDTQS8OuQ1FPeC2R8sQgkNEze3s23B3YgCNB1y49GYQ7wH5Ng2PlR/UpwTDO9jfELQPsOVoKSrUghLLJmh4rJU2hLOWPXW91gCbDi1CipNAxf9iPKUeTLWeffXXcgNsOVqKGb40CcZTEFJfmh4JmaxqPOBChVom0ThABSrUQuMBV6JAS1a59Ob0OQ8J+MsYP0MUMDgwOL5JE5ZINy6XI95JLIstbpohMQWbDnqR8iZpq/1vB3xYalq6dPHXS5Ztzv4xl/K1UyBPJIr8mOZT7NtwNzYFDrmNCabawvmV6Jo2fqMBBd8GIJCMaH7cJpKmU0Z8k7GlaUVu1ixdAIBT19n6/mZ0Xefl6tWUTvfk7ugzR0Mo6mk6ZUgivlXY3OGmFblpqluDkLFQTvNM5f6DPvyBAFIKtn3wrjXEiSSEm4hvlYzt7faN/3LtBmfa2gGY7imho6sbgJbvz3Lu/AVriP40CEWNjB8slsp3OTGcGgPD/mTZdE8xnXEAgP7+QQzDoKDAYjklIIZ5VpI60cZVV28fu7/+gVeqnmP5wieTAB23YwArX1hO/Ws17Ny1l1udd6wH7Dfhu8Bi2wAAd+71sfvYOcpKitA1jalTHqOzqweAGeVePt61l47bNown9I9pWORPprrv+ei+50PXNc6cv8iIPzYlXx755lGHAimUJHaZeGSFwxH+vNExka4puYhocYA5Y+sK8gxerywHp4YyNNA1lFMDZ+r4UAqenjMr1UmBDEaQIxFkIIz0R3CMhHG3DUAgnAlgyIAG6jqIqgw4p8bzLy23dMI7u9La0cOHgSwABaJHIjhuOcJkyS2OaGjFrYT7hxi7GwYjaMduQDDzRAzNcBOa6SZUWsBgTz+uwQiFD4IU3s9660KOZPFeEwpX4Wex03DzV1+geDujUXcUTgcgOrq48/B6hlbGrg1tV28CUPGbj+qPrthwO65ZjnY63loUW1FRczvgz2g0wwHr8iB+lEdXlhP8qRbPkmJmmmEeJ8LiMi+Ly7x4187j5slahqvKrY1rQJHYAOlXsncO7QCxNWuHeCSUJx/zmZJksdIEgYejpyivvQ/tfqYvozRbu8CtjSsSLDEFwzvI01dnvQnHIyFO+3GcHT243YdCUiVyGC/rEr+ppN7fEEQ4a4GerB3HTMeE5BImFc4qft44lAkAsKeuF1OtnxSIAhFlnnyVK29cTi+e2MMkR3bkVJHw84S+gssNGWkis7VnT10vgfCLoHZiIztySgPm6q0scJRmMw7/9XGaKxKGUJQ52il0NHL1zd/HG94aIKFcz/M7UQc/BnUK5TCFohunOIFHfZK+0MbTvx9ltLez/h/sAAAAAElFTkSuQmCC) **TODO!**"
   ]
  },
  {
   "cell_type": "markdown",
   "metadata": {},
   "source": [
    "Récupérez votre prénom de la base redis et affichez le."
   ]
  },
  {
   "cell_type": "code",
   "execution_count": null,
   "metadata": {},
   "outputs": [
    {
     "data": {
      "text/plain": [
       "'Gaël'"
      ]
     },
     "execution_count": 40,
     "metadata": {},
     "output_type": "execute_result"
    }
   ],
   "source": [
    "# code moi steupléé 🥺\n",
    "r.get(\"prenom\")"
   ]
  },
  {
   "cell_type": "markdown",
   "metadata": {},
   "source": [
    "#### ![programming(3).png](data:image/png;base64,iVBORw0KGgoAAAANSUhEUgAAACAAAAAgCAYAAABzenr0AAAABHNCSVQICAgIfAhkiAAAAAlwSFlzAAAA3QAAAN0BcFOiBwAAABl0RVh0U29mdHdhcmUAd3d3Lmlua3NjYXBlLm9yZ5vuPBoAAAR7SURBVFiFtZdvaFVlHMc/z3PPuefuz825XWV3m5mWU1MLSVEyRoqKk2iLWBCT2uyFpTSIoCCHL0SDXkgUavhKCU3EpGmlorYSShtWig6M1M25gVPb3da2e6/3z3l6cf9u996d42pfOC/O8+/3+f2e5/f8EUopbKnplEHEtwpFDYj5gDf+AdyNfeo6guNoxa18Xv3QzrDCEmDTQS8OuQ1FPeC2R8sQgkNEze3s23B3YgCNB1y49GYQ7wH5Ng2PlR/UpwTDO9jfELQPsOVoKSrUghLLJmh4rJU2hLOWPXW91gCbDi1CipNAxf9iPKUeTLWeffXXcgNsOVqKGb40CcZTEFJfmh4JmaxqPOBChVom0ThABSrUQuMBV6JAS1a59Ob0OQ8J+MsYP0MUMDgwOL5JE5ZINy6XI95JLIstbpohMQWbDnqR8iZpq/1vB3xYalq6dPHXS5Ztzv4xl/K1UyBPJIr8mOZT7NtwNzYFDrmNCabawvmV6Jo2fqMBBd8GIJCMaH7cJpKmU0Z8k7GlaUVu1ixdAIBT19n6/mZ0Xefl6tWUTvfk7ugzR0Mo6mk6ZUgivlXY3OGmFblpqluDkLFQTvNM5f6DPvyBAFIKtn3wrjXEiSSEm4hvlYzt7faN/3LtBmfa2gGY7imho6sbgJbvz3Lu/AVriP40CEWNjB8slsp3OTGcGgPD/mTZdE8xnXEAgP7+QQzDoKDAYjklIIZ5VpI60cZVV28fu7/+gVeqnmP5wieTAB23YwArX1hO/Ws17Ny1l1udd6wH7Dfhu8Bi2wAAd+71sfvYOcpKitA1jalTHqOzqweAGeVePt61l47bNown9I9pWORPprrv+ei+50PXNc6cv8iIPzYlXx755lGHAimUJHaZeGSFwxH+vNExka4puYhocYA5Y+sK8gxerywHp4YyNNA1lFMDZ+r4UAqenjMr1UmBDEaQIxFkIIz0R3CMhHG3DUAgnAlgyIAG6jqIqgw4p8bzLy23dMI7u9La0cOHgSwABaJHIjhuOcJkyS2OaGjFrYT7hxi7GwYjaMduQDDzRAzNcBOa6SZUWsBgTz+uwQiFD4IU3s9660KOZPFeEwpX4Wex03DzV1+geDujUXcUTgcgOrq48/B6hlbGrg1tV28CUPGbj+qPrthwO65ZjnY63loUW1FRczvgz2g0wwHr8iB+lEdXlhP8qRbPkmJmmmEeJ8LiMi+Ly7x4187j5slahqvKrY1rQJHYAOlXsncO7QCxNWuHeCSUJx/zmZJksdIEgYejpyivvQ/tfqYvozRbu8CtjSsSLDEFwzvI01dnvQnHIyFO+3GcHT243YdCUiVyGC/rEr+ppN7fEEQ4a4GerB3HTMeE5BImFc4qft44lAkAsKeuF1OtnxSIAhFlnnyVK29cTi+e2MMkR3bkVJHw84S+gssNGWkis7VnT10vgfCLoHZiIztySgPm6q0scJRmMw7/9XGaKxKGUJQ52il0NHL1zd/HG94aIKFcz/M7UQc/BnUK5TCFohunOIFHfZK+0MbTvx9ltLez/h/sAAAAAElFTkSuQmCC) **TODO!**"
   ]
  },
  {
   "cell_type": "markdown",
   "metadata": {},
   "source": [
    "Ajoutez le suffixe \"_IUTV\" à votre prénom puis affichez le."
   ]
  },
  {
   "cell_type": "code",
   "execution_count": null,
   "metadata": {},
   "outputs": [
    {
     "data": {
      "text/plain": [
       "'Gaël_IUTV'"
      ]
     },
     "execution_count": 41,
     "metadata": {},
     "output_type": "execute_result"
    }
   ],
   "source": [
    "# code moi steupléé 🥺\n",
    "r.append(\"prenom\", \"_IUTV\")\n",
    "r.get(\"prenom\")"
   ]
  },
  {
   "cell_type": "markdown",
   "metadata": {},
   "source": [
    "#### ![programming(3).png](data:image/png;base64,iVBORw0KGgoAAAANSUhEUgAAACAAAAAgCAYAAABzenr0AAAABHNCSVQICAgIfAhkiAAAAAlwSFlzAAAA3QAAAN0BcFOiBwAAABl0RVh0U29mdHdhcmUAd3d3Lmlua3NjYXBlLm9yZ5vuPBoAAAR7SURBVFiFtZdvaFVlHMc/z3PPuefuz825XWV3m5mWU1MLSVEyRoqKk2iLWBCT2uyFpTSIoCCHL0SDXkgUavhKCU3EpGmlorYSShtWig6M1M25gVPb3da2e6/3z3l6cf9u996d42pfOC/O8+/3+f2e5/f8EUopbKnplEHEtwpFDYj5gDf+AdyNfeo6guNoxa18Xv3QzrDCEmDTQS8OuQ1FPeC2R8sQgkNEze3s23B3YgCNB1y49GYQ7wH5Ng2PlR/UpwTDO9jfELQPsOVoKSrUghLLJmh4rJU2hLOWPXW91gCbDi1CipNAxf9iPKUeTLWeffXXcgNsOVqKGb40CcZTEFJfmh4JmaxqPOBChVom0ThABSrUQuMBV6JAS1a59Ob0OQ8J+MsYP0MUMDgwOL5JE5ZINy6XI95JLIstbpohMQWbDnqR8iZpq/1vB3xYalq6dPHXS5Ztzv4xl/K1UyBPJIr8mOZT7NtwNzYFDrmNCabawvmV6Jo2fqMBBd8GIJCMaH7cJpKmU0Z8k7GlaUVu1ixdAIBT19n6/mZ0Xefl6tWUTvfk7ugzR0Mo6mk6ZUgivlXY3OGmFblpqluDkLFQTvNM5f6DPvyBAFIKtn3wrjXEiSSEm4hvlYzt7faN/3LtBmfa2gGY7imho6sbgJbvz3Lu/AVriP40CEWNjB8slsp3OTGcGgPD/mTZdE8xnXEAgP7+QQzDoKDAYjklIIZ5VpI60cZVV28fu7/+gVeqnmP5wieTAB23YwArX1hO/Ws17Ny1l1udd6wH7Dfhu8Bi2wAAd+71sfvYOcpKitA1jalTHqOzqweAGeVePt61l47bNown9I9pWORPprrv+ei+50PXNc6cv8iIPzYlXx755lGHAimUJHaZeGSFwxH+vNExka4puYhocYA5Y+sK8gxerywHp4YyNNA1lFMDZ+r4UAqenjMr1UmBDEaQIxFkIIz0R3CMhHG3DUAgnAlgyIAG6jqIqgw4p8bzLy23dMI7u9La0cOHgSwABaJHIjhuOcJkyS2OaGjFrYT7hxi7GwYjaMduQDDzRAzNcBOa6SZUWsBgTz+uwQiFD4IU3s9660KOZPFeEwpX4Wex03DzV1+geDujUXcUTgcgOrq48/B6hlbGrg1tV28CUPGbj+qPrthwO65ZjnY63loUW1FRczvgz2g0wwHr8iB+lEdXlhP8qRbPkmJmmmEeJ8LiMi+Ly7x4187j5slahqvKrY1rQJHYAOlXsncO7QCxNWuHeCSUJx/zmZJksdIEgYejpyivvQ/tfqYvozRbu8CtjSsSLDEFwzvI01dnvQnHIyFO+3GcHT243YdCUiVyGC/rEr+ppN7fEEQ4a4GerB3HTMeE5BImFc4qft44lAkAsKeuF1OtnxSIAhFlnnyVK29cTi+e2MMkR3bkVJHw84S+gssNGWkis7VnT10vgfCLoHZiIztySgPm6q0scJRmMw7/9XGaKxKGUJQ52il0NHL1zd/HG94aIKFcz/M7UQc/BnUK5TCFohunOIFHfZK+0MbTvx9ltLez/h/sAAAAAElFTkSuQmCC) **TODO!**"
   ]
  },
  {
   "cell_type": "markdown",
   "metadata": {},
   "source": [
    "Supprimez la clé `prenom`."
   ]
  },
  {
   "cell_type": "code",
   "execution_count": null,
   "metadata": {},
   "outputs": [
    {
     "data": {
      "text/plain": [
       "1"
      ]
     },
     "execution_count": 20,
     "metadata": {},
     "output_type": "execute_result"
    }
   ],
   "source": [
    "# code moi steupléé 🥺\n",
    "r.delete(\"prenom\")"
   ]
  },
  {
   "cell_type": "markdown",
   "metadata": {},
   "source": [
    "#### ![programming(3).png](data:image/png;base64,iVBORw0KGgoAAAANSUhEUgAAACAAAAAgCAYAAABzenr0AAAABHNCSVQICAgIfAhkiAAAAAlwSFlzAAAA3QAAAN0BcFOiBwAAABl0RVh0U29mdHdhcmUAd3d3Lmlua3NjYXBlLm9yZ5vuPBoAAAR7SURBVFiFtZdvaFVlHMc/z3PPuefuz825XWV3m5mWU1MLSVEyRoqKk2iLWBCT2uyFpTSIoCCHL0SDXkgUavhKCU3EpGmlorYSShtWig6M1M25gVPb3da2e6/3z3l6cf9u996d42pfOC/O8+/3+f2e5/f8EUopbKnplEHEtwpFDYj5gDf+AdyNfeo6guNoxa18Xv3QzrDCEmDTQS8OuQ1FPeC2R8sQgkNEze3s23B3YgCNB1y49GYQ7wH5Ng2PlR/UpwTDO9jfELQPsOVoKSrUghLLJmh4rJU2hLOWPXW91gCbDi1CipNAxf9iPKUeTLWeffXXcgNsOVqKGb40CcZTEFJfmh4JmaxqPOBChVom0ThABSrUQuMBV6JAS1a59Ob0OQ8J+MsYP0MUMDgwOL5JE5ZINy6XI95JLIstbpohMQWbDnqR8iZpq/1vB3xYalq6dPHXS5Ztzv4xl/K1UyBPJIr8mOZT7NtwNzYFDrmNCabawvmV6Jo2fqMBBd8GIJCMaH7cJpKmU0Z8k7GlaUVu1ixdAIBT19n6/mZ0Xefl6tWUTvfk7ugzR0Mo6mk6ZUgivlXY3OGmFblpqluDkLFQTvNM5f6DPvyBAFIKtn3wrjXEiSSEm4hvlYzt7faN/3LtBmfa2gGY7imho6sbgJbvz3Lu/AVriP40CEWNjB8slsp3OTGcGgPD/mTZdE8xnXEAgP7+QQzDoKDAYjklIIZ5VpI60cZVV28fu7/+gVeqnmP5wieTAB23YwArX1hO/Ws17Ny1l1udd6wH7Dfhu8Bi2wAAd+71sfvYOcpKitA1jalTHqOzqweAGeVePt61l47bNown9I9pWORPprrv+ei+50PXNc6cv8iIPzYlXx755lGHAimUJHaZeGSFwxH+vNExka4puYhocYA5Y+sK8gxerywHp4YyNNA1lFMDZ+r4UAqenjMr1UmBDEaQIxFkIIz0R3CMhHG3DUAgnAlgyIAG6jqIqgw4p8bzLy23dMI7u9La0cOHgSwABaJHIjhuOcJkyS2OaGjFrYT7hxi7GwYjaMduQDDzRAzNcBOa6SZUWsBgTz+uwQiFD4IU3s9660KOZPFeEwpX4Wex03DzV1+geDujUXcUTgcgOrq48/B6hlbGrg1tV28CUPGbj+qPrthwO65ZjnY63loUW1FRczvgz2g0wwHr8iB+lEdXlhP8qRbPkmJmmmEeJ8LiMi+Ly7x4187j5slahqvKrY1rQJHYAOlXsncO7QCxNWuHeCSUJx/zmZJksdIEgYejpyivvQ/tfqYvozRbu8CtjSsSLDEFwzvI01dnvQnHIyFO+3GcHT243YdCUiVyGC/rEr+ppN7fEEQ4a4GerB3HTMeE5BImFc4qft44lAkAsKeuF1OtnxSIAhFlnnyVK29cTi+e2MMkR3bkVJHw84S+gssNGWkis7VnT10vgfCLoHZiIztySgPm6q0scJRmMw7/9XGaKxKGUJQ52il0NHL1zd/HG94aIKFcz/M7UQc/BnUK5TCFohunOIFHfZK+0MbTvx9ltLez/h/sAAAAAElFTkSuQmCC) **TODO!**"
   ]
  },
  {
   "cell_type": "markdown",
   "metadata": {},
   "source": [
    "Insérez vos plats préférés dans une liste avec redis. Puis affichez un élément à la fois."
   ]
  },
  {
   "cell_type": "code",
   "execution_count": null,
   "metadata": {},
   "outputs": [
    {
     "name": "stdout",
     "output_type": "stream",
     "text": [
      "['quiche lorraine', 'ndolè', 'tajine']\n"
     ]
    }
   ],
   "source": [
    "# code moi steupléé 🥺\n",
    "r.rpush('plats', 'quiche lorraine')\n",
    "r.rpush('plats', \"ndolè\")\n",
    "r.rpush('plats', \"tajine\")\n",
    "\n",
    "print(r.lrange('plats', 0, -1))"
   ]
  },
  {
   "cell_type": "markdown",
   "metadata": {},
   "source": [
    "#### ![programming(3).png](data:image/png;base64,iVBORw0KGgoAAAANSUhEUgAAACAAAAAgCAYAAABzenr0AAAABHNCSVQICAgIfAhkiAAAAAlwSFlzAAAA3QAAAN0BcFOiBwAAABl0RVh0U29mdHdhcmUAd3d3Lmlua3NjYXBlLm9yZ5vuPBoAAAR7SURBVFiFtZdvaFVlHMc/z3PPuefuz825XWV3m5mWU1MLSVEyRoqKk2iLWBCT2uyFpTSIoCCHL0SDXkgUavhKCU3EpGmlorYSShtWig6M1M25gVPb3da2e6/3z3l6cf9u996d42pfOC/O8+/3+f2e5/f8EUopbKnplEHEtwpFDYj5gDf+AdyNfeo6guNoxa18Xv3QzrDCEmDTQS8OuQ1FPeC2R8sQgkNEze3s23B3YgCNB1y49GYQ7wH5Ng2PlR/UpwTDO9jfELQPsOVoKSrUghLLJmh4rJU2hLOWPXW91gCbDi1CipNAxf9iPKUeTLWeffXXcgNsOVqKGb40CcZTEFJfmh4JmaxqPOBChVom0ThABSrUQuMBV6JAS1a59Ob0OQ8J+MsYP0MUMDgwOL5JE5ZINy6XI95JLIstbpohMQWbDnqR8iZpq/1vB3xYalq6dPHXS5Ztzv4xl/K1UyBPJIr8mOZT7NtwNzYFDrmNCabawvmV6Jo2fqMBBd8GIJCMaH7cJpKmU0Z8k7GlaUVu1ixdAIBT19n6/mZ0Xefl6tWUTvfk7ugzR0Mo6mk6ZUgivlXY3OGmFblpqluDkLFQTvNM5f6DPvyBAFIKtn3wrjXEiSSEm4hvlYzt7faN/3LtBmfa2gGY7imho6sbgJbvz3Lu/AVriP40CEWNjB8slsp3OTGcGgPD/mTZdE8xnXEAgP7+QQzDoKDAYjklIIZ5VpI60cZVV28fu7/+gVeqnmP5wieTAB23YwArX1hO/Ws17Ny1l1udd6wH7Dfhu8Bi2wAAd+71sfvYOcpKitA1jalTHqOzqweAGeVePt61l47bNown9I9pWORPprrv+ei+50PXNc6cv8iIPzYlXx755lGHAimUJHaZeGSFwxH+vNExka4puYhocYA5Y+sK8gxerywHp4YyNNA1lFMDZ+r4UAqenjMr1UmBDEaQIxFkIIz0R3CMhHG3DUAgnAlgyIAG6jqIqgw4p8bzLy23dMI7u9La0cOHgSwABaJHIjhuOcJkyS2OaGjFrYT7hxi7GwYjaMduQDDzRAzNcBOa6SZUWsBgTz+uwQiFD4IU3s9660KOZPFeEwpX4Wex03DzV1+geDujUXcUTgcgOrq48/B6hlbGrg1tV28CUPGbj+qPrthwO65ZjnY63loUW1FRczvgz2g0wwHr8iB+lEdXlhP8qRbPkmJmmmEeJ8LiMi+Ly7x4187j5slahqvKrY1rQJHYAOlXsncO7QCxNWuHeCSUJx/zmZJksdIEgYejpyivvQ/tfqYvozRbu8CtjSsSLDEFwzvI01dnvQnHIyFO+3GcHT243YdCUiVyGC/rEr+ppN7fEEQ4a4GerB3HTMeE5BImFc4qft44lAkAsKeuF1OtnxSIAhFlnnyVK29cTi+e2MMkR3bkVJHw84S+gssNGWkis7VnT10vgfCLoHZiIztySgPm6q0scJRmMw7/9XGaKxKGUJQ52il0NHL1zd/HG94aIKFcz/M7UQc/BnUK5TCFohunOIFHfZK+0MbTvx9ltLez/h/sAAAAAElFTkSuQmCC) **TODO!**"
   ]
  },
  {
   "cell_type": "markdown",
   "metadata": {},
   "source": [
    "Affichez le nombre de plats."
   ]
  },
  {
   "cell_type": "code",
   "execution_count": null,
   "metadata": {},
   "outputs": [
    {
     "data": {
      "text/plain": [
       "3"
      ]
     },
     "execution_count": 46,
     "metadata": {},
     "output_type": "execute_result"
    }
   ],
   "source": [
    "# code moi steupléé 🥺\n",
    "r.llen('plats')"
   ]
  },
  {
   "cell_type": "markdown",
   "metadata": {},
   "source": [
    "#### ![programming(3).png](data:image/png;base64,iVBORw0KGgoAAAANSUhEUgAAACAAAAAgCAYAAABzenr0AAAABHNCSVQICAgIfAhkiAAAAAlwSFlzAAAA3QAAAN0BcFOiBwAAABl0RVh0U29mdHdhcmUAd3d3Lmlua3NjYXBlLm9yZ5vuPBoAAAR7SURBVFiFtZdvaFVlHMc/z3PPuefuz825XWV3m5mWU1MLSVEyRoqKk2iLWBCT2uyFpTSIoCCHL0SDXkgUavhKCU3EpGmlorYSShtWig6M1M25gVPb3da2e6/3z3l6cf9u996d42pfOC/O8+/3+f2e5/f8EUopbKnplEHEtwpFDYj5gDf+AdyNfeo6guNoxa18Xv3QzrDCEmDTQS8OuQ1FPeC2R8sQgkNEze3s23B3YgCNB1y49GYQ7wH5Ng2PlR/UpwTDO9jfELQPsOVoKSrUghLLJmh4rJU2hLOWPXW91gCbDi1CipNAxf9iPKUeTLWeffXXcgNsOVqKGb40CcZTEFJfmh4JmaxqPOBChVom0ThABSrUQuMBV6JAS1a59Ob0OQ8J+MsYP0MUMDgwOL5JE5ZINy6XI95JLIstbpohMQWbDnqR8iZpq/1vB3xYalq6dPHXS5Ztzv4xl/K1UyBPJIr8mOZT7NtwNzYFDrmNCabawvmV6Jo2fqMBBd8GIJCMaH7cJpKmU0Z8k7GlaUVu1ixdAIBT19n6/mZ0Xefl6tWUTvfk7ugzR0Mo6mk6ZUgivlXY3OGmFblpqluDkLFQTvNM5f6DPvyBAFIKtn3wrjXEiSSEm4hvlYzt7faN/3LtBmfa2gGY7imho6sbgJbvz3Lu/AVriP40CEWNjB8slsp3OTGcGgPD/mTZdE8xnXEAgP7+QQzDoKDAYjklIIZ5VpI60cZVV28fu7/+gVeqnmP5wieTAB23YwArX1hO/Ws17Ny1l1udd6wH7Dfhu8Bi2wAAd+71sfvYOcpKitA1jalTHqOzqweAGeVePt61l47bNown9I9pWORPprrv+ei+50PXNc6cv8iIPzYlXx755lGHAimUJHaZeGSFwxH+vNExka4puYhocYA5Y+sK8gxerywHp4YyNNA1lFMDZ+r4UAqenjMr1UmBDEaQIxFkIIz0R3CMhHG3DUAgnAlgyIAG6jqIqgw4p8bzLy23dMI7u9La0cOHgSwABaJHIjhuOcJkyS2OaGjFrYT7hxi7GwYjaMduQDDzRAzNcBOa6SZUWsBgTz+uwQiFD4IU3s9660KOZPFeEwpX4Wex03DzV1+geDujUXcUTgcgOrq48/B6hlbGrg1tV28CUPGbj+qPrthwO65ZjnY63loUW1FRczvgz2g0wwHr8iB+lEdXlhP8qRbPkmJmmmEeJ8LiMi+Ly7x4187j5slahqvKrY1rQJHYAOlXsncO7QCxNWuHeCSUJx/zmZJksdIEgYejpyivvQ/tfqYvozRbu8CtjSsSLDEFwzvI01dnvQnHIyFO+3GcHT243YdCUiVyGC/rEr+ppN7fEEQ4a4GerB3HTMeE5BImFc4qft44lAkAsKeuF1OtnxSIAhFlnnyVK29cTi+e2MMkR3bkVJHw84S+gssNGWkis7VnT10vgfCLoHZiIztySgPm6q0scJRmMw7/9XGaKxKGUJQ52il0NHL1zd/HG94aIKFcz/M7UQc/BnUK5TCFohunOIFHfZK+0MbTvx9ltLez/h/sAAAAAElFTkSuQmCC) **TODO!**"
   ]
  },
  {
   "cell_type": "markdown",
   "metadata": {},
   "source": [
    "Supprimez l'avant-dernier plat à l'aide de sa valeur."
   ]
  },
  {
   "cell_type": "code",
   "execution_count": null,
   "metadata": {},
   "outputs": [
    {
     "data": {
      "text/plain": [
       "1"
      ]
     },
     "execution_count": 47,
     "metadata": {},
     "output_type": "execute_result"
    }
   ],
   "source": [
    "# code moi steupléé 🥺\n",
    "r.lrem('plats', 0, 'ndolè')"
   ]
  },
  {
   "cell_type": "markdown",
   "metadata": {},
   "source": [
    "#### ![programming(3).png](data:image/png;base64,iVBORw0KGgoAAAANSUhEUgAAACAAAAAgCAYAAABzenr0AAAABHNCSVQICAgIfAhkiAAAAAlwSFlzAAAA3QAAAN0BcFOiBwAAABl0RVh0U29mdHdhcmUAd3d3Lmlua3NjYXBlLm9yZ5vuPBoAAAR7SURBVFiFtZdvaFVlHMc/z3PPuefuz825XWV3m5mWU1MLSVEyRoqKk2iLWBCT2uyFpTSIoCCHL0SDXkgUavhKCU3EpGmlorYSShtWig6M1M25gVPb3da2e6/3z3l6cf9u996d42pfOC/O8+/3+f2e5/f8EUopbKnplEHEtwpFDYj5gDf+AdyNfeo6guNoxa18Xv3QzrDCEmDTQS8OuQ1FPeC2R8sQgkNEze3s23B3YgCNB1y49GYQ7wH5Ng2PlR/UpwTDO9jfELQPsOVoKSrUghLLJmh4rJU2hLOWPXW91gCbDi1CipNAxf9iPKUeTLWeffXXcgNsOVqKGb40CcZTEFJfmh4JmaxqPOBChVom0ThABSrUQuMBV6JAS1a59Ob0OQ8J+MsYP0MUMDgwOL5JE5ZINy6XI95JLIstbpohMQWbDnqR8iZpq/1vB3xYalq6dPHXS5Ztzv4xl/K1UyBPJIr8mOZT7NtwNzYFDrmNCabawvmV6Jo2fqMBBd8GIJCMaH7cJpKmU0Z8k7GlaUVu1ixdAIBT19n6/mZ0Xefl6tWUTvfk7ugzR0Mo6mk6ZUgivlXY3OGmFblpqluDkLFQTvNM5f6DPvyBAFIKtn3wrjXEiSSEm4hvlYzt7faN/3LtBmfa2gGY7imho6sbgJbvz3Lu/AVriP40CEWNjB8slsp3OTGcGgPD/mTZdE8xnXEAgP7+QQzDoKDAYjklIIZ5VpI60cZVV28fu7/+gVeqnmP5wieTAB23YwArX1hO/Ws17Ny1l1udd6wH7Dfhu8Bi2wAAd+71sfvYOcpKitA1jalTHqOzqweAGeVePt61l47bNown9I9pWORPprrv+ei+50PXNc6cv8iIPzYlXx755lGHAimUJHaZeGSFwxH+vNExka4puYhocYA5Y+sK8gxerywHp4YyNNA1lFMDZ+r4UAqenjMr1UmBDEaQIxFkIIz0R3CMhHG3DUAgnAlgyIAG6jqIqgw4p8bzLy23dMI7u9La0cOHgSwABaJHIjhuOcJkyS2OaGjFrYT7hxi7GwYjaMduQDDzRAzNcBOa6SZUWsBgTz+uwQiFD4IU3s9660KOZPFeEwpX4Wex03DzV1+geDujUXcUTgcgOrq48/B6hlbGrg1tV28CUPGbj+qPrthwO65ZjnY63loUW1FRczvgz2g0wwHr8iB+lEdXlhP8qRbPkmJmmmEeJ8LiMi+Ly7x4187j5slahqvKrY1rQJHYAOlXsncO7QCxNWuHeCSUJx/zmZJksdIEgYejpyivvQ/tfqYvozRbu8CtjSsSLDEFwzvI01dnvQnHIyFO+3GcHT243YdCUiVyGC/rEr+ppN7fEEQ4a4GerB3HTMeE5BImFc4qft44lAkAsKeuF1OtnxSIAhFlnnyVK29cTi+e2MMkR3bkVJHw84S+gssNGWkis7VnT10vgfCLoHZiIztySgPm6q0scJRmMw7/9XGaKxKGUJQ52il0NHL1zd/HG94aIKFcz/M7UQc/BnUK5TCFohunOIFHfZK+0MbTvx9ltLez/h/sAAAAAElFTkSuQmCC) **TODO!**"
   ]
  },
  {
   "cell_type": "markdown",
   "metadata": {},
   "source": [
    "Supprimez la liste des plats."
   ]
  },
  {
   "cell_type": "code",
   "execution_count": null,
   "metadata": {},
   "outputs": [
    {
     "data": {
      "text/plain": [
       "1"
      ]
     },
     "execution_count": 48,
     "metadata": {},
     "output_type": "execute_result"
    }
   ],
   "source": [
    "# code moi steupléé 🥺\n",
    "r.delete('plats')"
   ]
  },
  {
   "cell_type": "markdown",
   "metadata": {},
   "source": [
    "#### ![programming(3).png](data:image/png;base64,iVBORw0KGgoAAAANSUhEUgAAACAAAAAgCAYAAABzenr0AAAABHNCSVQICAgIfAhkiAAAAAlwSFlzAAAA3QAAAN0BcFOiBwAAABl0RVh0U29mdHdhcmUAd3d3Lmlua3NjYXBlLm9yZ5vuPBoAAAR7SURBVFiFtZdvaFVlHMc/z3PPuefuz825XWV3m5mWU1MLSVEyRoqKk2iLWBCT2uyFpTSIoCCHL0SDXkgUavhKCU3EpGmlorYSShtWig6M1M25gVPb3da2e6/3z3l6cf9u996d42pfOC/O8+/3+f2e5/f8EUopbKnplEHEtwpFDYj5gDf+AdyNfeo6guNoxa18Xv3QzrDCEmDTQS8OuQ1FPeC2R8sQgkNEze3s23B3YgCNB1y49GYQ7wH5Ng2PlR/UpwTDO9jfELQPsOVoKSrUghLLJmh4rJU2hLOWPXW91gCbDi1CipNAxf9iPKUeTLWeffXXcgNsOVqKGb40CcZTEFJfmh4JmaxqPOBChVom0ThABSrUQuMBV6JAS1a59Ob0OQ8J+MsYP0MUMDgwOL5JE5ZINy6XI95JLIstbpohMQWbDnqR8iZpq/1vB3xYalq6dPHXS5Ztzv4xl/K1UyBPJIr8mOZT7NtwNzYFDrmNCabawvmV6Jo2fqMBBd8GIJCMaH7cJpKmU0Z8k7GlaUVu1ixdAIBT19n6/mZ0Xefl6tWUTvfk7ugzR0Mo6mk6ZUgivlXY3OGmFblpqluDkLFQTvNM5f6DPvyBAFIKtn3wrjXEiSSEm4hvlYzt7faN/3LtBmfa2gGY7imho6sbgJbvz3Lu/AVriP40CEWNjB8slsp3OTGcGgPD/mTZdE8xnXEAgP7+QQzDoKDAYjklIIZ5VpI60cZVV28fu7/+gVeqnmP5wieTAB23YwArX1hO/Ws17Ny1l1udd6wH7Dfhu8Bi2wAAd+71sfvYOcpKitA1jalTHqOzqweAGeVePt61l47bNown9I9pWORPprrv+ei+50PXNc6cv8iIPzYlXx755lGHAimUJHaZeGSFwxH+vNExka4puYhocYA5Y+sK8gxerywHp4YyNNA1lFMDZ+r4UAqenjMr1UmBDEaQIxFkIIz0R3CMhHG3DUAgnAlgyIAG6jqIqgw4p8bzLy23dMI7u9La0cOHgSwABaJHIjhuOcJkyS2OaGjFrYT7hxi7GwYjaMduQDDzRAzNcBOa6SZUWsBgTz+uwQiFD4IU3s9660KOZPFeEwpX4Wex03DzV1+geDujUXcUTgcgOrq48/B6hlbGrg1tV28CUPGbj+qPrthwO65ZjnY63loUW1FRczvgz2g0wwHr8iB+lEdXlhP8qRbPkmJmmmEeJ8LiMi+Ly7x4187j5slahqvKrY1rQJHYAOlXsncO7QCxNWuHeCSUJx/zmZJksdIEgYejpyivvQ/tfqYvozRbu8CtjSsSLDEFwzvI01dnvQnHIyFO+3GcHT243YdCUiVyGC/rEr+ppN7fEEQ4a4GerB3HTMeE5BImFc4qft44lAkAsKeuF1OtnxSIAhFlnnyVK29cTi+e2MMkR3bkVJHw84S+gssNGWkis7VnT10vgfCLoHZiIztySgPm6q0scJRmMw7/9XGaKxKGUJQ52il0NHL1zd/HG94aIKFcz/M7UQc/BnUK5TCFohunOIFHfZK+0MbTvx9ltLez/h/sAAAAAElFTkSuQmCC) **TODO!**"
   ]
  },
  {
   "cell_type": "markdown",
   "metadata": {},
   "source": [
    "Créez une clé `moi`contenant une table de hachage avec votre prénom, nom, age et activité préférée."
   ]
  },
  {
   "cell_type": "code",
   "execution_count": null,
   "metadata": {},
   "outputs": [
    {
     "data": {
      "text/plain": [
       "0"
      ]
     },
     "execution_count": 28,
     "metadata": {},
     "output_type": "execute_result"
    }
   ],
   "source": [
    "# code moi steupléé 🥺\n",
    "r.hset('moi', 'prenom', 'Gaël')\n",
    "r.hset('moi', 'nom', 'Guibon')\n",
    "r.hset('moi', 'age', 37)\n",
    "r.hset('moi', 'activitePreferee', 'programmer')\n",
    "\n",
    "moi = {\n",
    "    \"prenom\": \"Gael\",\n",
    "    \"nom\": \"Guibon\",\n",
    "    \"activitePreferee\": \"Programmer\"\n",
    "}"
   ]
  },
  {
   "cell_type": "markdown",
   "metadata": {},
   "source": [
    "#### ![programming(3).png](data:image/png;base64,iVBORw0KGgoAAAANSUhEUgAAACAAAAAgCAYAAABzenr0AAAABHNCSVQICAgIfAhkiAAAAAlwSFlzAAAA3QAAAN0BcFOiBwAAABl0RVh0U29mdHdhcmUAd3d3Lmlua3NjYXBlLm9yZ5vuPBoAAAR7SURBVFiFtZdvaFVlHMc/z3PPuefuz825XWV3m5mWU1MLSVEyRoqKk2iLWBCT2uyFpTSIoCCHL0SDXkgUavhKCU3EpGmlorYSShtWig6M1M25gVPb3da2e6/3z3l6cf9u996d42pfOC/O8+/3+f2e5/f8EUopbKnplEHEtwpFDYj5gDf+AdyNfeo6guNoxa18Xv3QzrDCEmDTQS8OuQ1FPeC2R8sQgkNEze3s23B3YgCNB1y49GYQ7wH5Ng2PlR/UpwTDO9jfELQPsOVoKSrUghLLJmh4rJU2hLOWPXW91gCbDi1CipNAxf9iPKUeTLWeffXXcgNsOVqKGb40CcZTEFJfmh4JmaxqPOBChVom0ThABSrUQuMBV6JAS1a59Ob0OQ8J+MsYP0MUMDgwOL5JE5ZINy6XI95JLIstbpohMQWbDnqR8iZpq/1vB3xYalq6dPHXS5Ztzv4xl/K1UyBPJIr8mOZT7NtwNzYFDrmNCabawvmV6Jo2fqMBBd8GIJCMaH7cJpKmU0Z8k7GlaUVu1ixdAIBT19n6/mZ0Xefl6tWUTvfk7ugzR0Mo6mk6ZUgivlXY3OGmFblpqluDkLFQTvNM5f6DPvyBAFIKtn3wrjXEiSSEm4hvlYzt7faN/3LtBmfa2gGY7imho6sbgJbvz3Lu/AVriP40CEWNjB8slsp3OTGcGgPD/mTZdE8xnXEAgP7+QQzDoKDAYjklIIZ5VpI60cZVV28fu7/+gVeqnmP5wieTAB23YwArX1hO/Ws17Ny1l1udd6wH7Dfhu8Bi2wAAd+71sfvYOcpKitA1jalTHqOzqweAGeVePt61l47bNown9I9pWORPprrv+ei+50PXNc6cv8iIPzYlXx755lGHAimUJHaZeGSFwxH+vNExka4puYhocYA5Y+sK8gxerywHp4YyNNA1lFMDZ+r4UAqenjMr1UmBDEaQIxFkIIz0R3CMhHG3DUAgnAlgyIAG6jqIqgw4p8bzLy23dMI7u9La0cOHgSwABaJHIjhuOcJkyS2OaGjFrYT7hxi7GwYjaMduQDDzRAzNcBOa6SZUWsBgTz+uwQiFD4IU3s9660KOZPFeEwpX4Wex03DzV1+geDujUXcUTgcgOrq48/B6hlbGrg1tV28CUPGbj+qPrthwO65ZjnY63loUW1FRczvgz2g0wwHr8iB+lEdXlhP8qRbPkmJmmmEeJ8LiMi+Ly7x4187j5slahqvKrY1rQJHYAOlXsncO7QCxNWuHeCSUJx/zmZJksdIEgYejpyivvQ/tfqYvozRbu8CtjSsSLDEFwzvI01dnvQnHIyFO+3GcHT243YdCUiVyGC/rEr+ppN7fEEQ4a4GerB3HTMeE5BImFc4qft44lAkAsKeuF1OtnxSIAhFlnnyVK29cTi+e2MMkR3bkVJHw84S+gssNGWkis7VnT10vgfCLoHZiIztySgPm6q0scJRmMw7/9XGaKxKGUJQ52il0NHL1zd/HG94aIKFcz/M7UQc/BnUK5TCFohunOIFHfZK+0MbTvx9ltLez/h/sAAAAAElFTkSuQmCC) **TODO!**"
   ]
  },
  {
   "cell_type": "markdown",
   "metadata": {},
   "source": [
    "Affichez votre age."
   ]
  },
  {
   "cell_type": "code",
   "execution_count": null,
   "metadata": {},
   "outputs": [
    {
     "name": "stdout",
     "output_type": "stream",
     "text": [
      "37\n"
     ]
    }
   ],
   "source": [
    "# code moi steupléé 🥺\n",
    "print(r.hget('moi', 'age'))"
   ]
  },
  {
   "cell_type": "markdown",
   "metadata": {},
   "source": [
    "#### ![programming(3).png](data:image/png;base64,iVBORw0KGgoAAAANSUhEUgAAACAAAAAgCAYAAABzenr0AAAABHNCSVQICAgIfAhkiAAAAAlwSFlzAAAA3QAAAN0BcFOiBwAAABl0RVh0U29mdHdhcmUAd3d3Lmlua3NjYXBlLm9yZ5vuPBoAAAR7SURBVFiFtZdvaFVlHMc/z3PPuefuz825XWV3m5mWU1MLSVEyRoqKk2iLWBCT2uyFpTSIoCCHL0SDXkgUavhKCU3EpGmlorYSShtWig6M1M25gVPb3da2e6/3z3l6cf9u996d42pfOC/O8+/3+f2e5/f8EUopbKnplEHEtwpFDYj5gDf+AdyNfeo6guNoxa18Xv3QzrDCEmDTQS8OuQ1FPeC2R8sQgkNEze3s23B3YgCNB1y49GYQ7wH5Ng2PlR/UpwTDO9jfELQPsOVoKSrUghLLJmh4rJU2hLOWPXW91gCbDi1CipNAxf9iPKUeTLWeffXXcgNsOVqKGb40CcZTEFJfmh4JmaxqPOBChVom0ThABSrUQuMBV6JAS1a59Ob0OQ8J+MsYP0MUMDgwOL5JE5ZINy6XI95JLIstbpohMQWbDnqR8iZpq/1vB3xYalq6dPHXS5Ztzv4xl/K1UyBPJIr8mOZT7NtwNzYFDrmNCabawvmV6Jo2fqMBBd8GIJCMaH7cJpKmU0Z8k7GlaUVu1ixdAIBT19n6/mZ0Xefl6tWUTvfk7ugzR0Mo6mk6ZUgivlXY3OGmFblpqluDkLFQTvNM5f6DPvyBAFIKtn3wrjXEiSSEm4hvlYzt7faN/3LtBmfa2gGY7imho6sbgJbvz3Lu/AVriP40CEWNjB8slsp3OTGcGgPD/mTZdE8xnXEAgP7+QQzDoKDAYjklIIZ5VpI60cZVV28fu7/+gVeqnmP5wieTAB23YwArX1hO/Ws17Ny1l1udd6wH7Dfhu8Bi2wAAd+71sfvYOcpKitA1jalTHqOzqweAGeVePt61l47bNown9I9pWORPprrv+ei+50PXNc6cv8iIPzYlXx755lGHAimUJHaZeGSFwxH+vNExka4puYhocYA5Y+sK8gxerywHp4YyNNA1lFMDZ+r4UAqenjMr1UmBDEaQIxFkIIz0R3CMhHG3DUAgnAlgyIAG6jqIqgw4p8bzLy23dMI7u9La0cOHgSwABaJHIjhuOcJkyS2OaGjFrYT7hxi7GwYjaMduQDDzRAzNcBOa6SZUWsBgTz+uwQiFD4IU3s9660KOZPFeEwpX4Wex03DzV1+geDujUXcUTgcgOrq48/B6hlbGrg1tV28CUPGbj+qPrthwO65ZjnY63loUW1FRczvgz2g0wwHr8iB+lEdXlhP8qRbPkmJmmmEeJ8LiMi+Ly7x4187j5slahqvKrY1rQJHYAOlXsncO7QCxNWuHeCSUJx/zmZJksdIEgYejpyivvQ/tfqYvozRbu8CtjSsSLDEFwzvI01dnvQnHIyFO+3GcHT243YdCUiVyGC/rEr+ppN7fEEQ4a4GerB3HTMeE5BImFc4qft44lAkAsKeuF1OtnxSIAhFlnnyVK29cTi+e2MMkR3bkVJHw84S+gssNGWkis7VnT10vgfCLoHZiIztySgPm6q0scJRmMw7/9XGaKxKGUJQ52il0NHL1zd/HG94aIKFcz/M7UQc/BnUK5TCFohunOIFHfZK+0MbTvx9ltLez/h/sAAAAAElFTkSuQmCC) **TODO!**"
   ]
  },
  {
   "cell_type": "markdown",
   "metadata": {},
   "source": [
    "De quel type est votre âge ?"
   ]
  },
  {
   "cell_type": "code",
   "execution_count": null,
   "metadata": {},
   "outputs": [
    {
     "name": "stdout",
     "output_type": "stream",
     "text": [
      "<class 'str'>\n"
     ]
    }
   ],
   "source": [
    "# code moi steupléé 🥺\n",
    "print(type(r.hget('moi', 'age')))"
   ]
  },
  {
   "cell_type": "markdown",
   "metadata": {},
   "source": [
    "#### ![programming(3).png](data:image/png;base64,iVBORw0KGgoAAAANSUhEUgAAACAAAAAgCAYAAABzenr0AAAABHNCSVQICAgIfAhkiAAAAAlwSFlzAAAA3QAAAN0BcFOiBwAAABl0RVh0U29mdHdhcmUAd3d3Lmlua3NjYXBlLm9yZ5vuPBoAAAR7SURBVFiFtZdvaFVlHMc/z3PPuefuz825XWV3m5mWU1MLSVEyRoqKk2iLWBCT2uyFpTSIoCCHL0SDXkgUavhKCU3EpGmlorYSShtWig6M1M25gVPb3da2e6/3z3l6cf9u996d42pfOC/O8+/3+f2e5/f8EUopbKnplEHEtwpFDYj5gDf+AdyNfeo6guNoxa18Xv3QzrDCEmDTQS8OuQ1FPeC2R8sQgkNEze3s23B3YgCNB1y49GYQ7wH5Ng2PlR/UpwTDO9jfELQPsOVoKSrUghLLJmh4rJU2hLOWPXW91gCbDi1CipNAxf9iPKUeTLWeffXXcgNsOVqKGb40CcZTEFJfmh4JmaxqPOBChVom0ThABSrUQuMBV6JAS1a59Ob0OQ8J+MsYP0MUMDgwOL5JE5ZINy6XI95JLIstbpohMQWbDnqR8iZpq/1vB3xYalq6dPHXS5Ztzv4xl/K1UyBPJIr8mOZT7NtwNzYFDrmNCabawvmV6Jo2fqMBBd8GIJCMaH7cJpKmU0Z8k7GlaUVu1ixdAIBT19n6/mZ0Xefl6tWUTvfk7ugzR0Mo6mk6ZUgivlXY3OGmFblpqluDkLFQTvNM5f6DPvyBAFIKtn3wrjXEiSSEm4hvlYzt7faN/3LtBmfa2gGY7imho6sbgJbvz3Lu/AVriP40CEWNjB8slsp3OTGcGgPD/mTZdE8xnXEAgP7+QQzDoKDAYjklIIZ5VpI60cZVV28fu7/+gVeqnmP5wieTAB23YwArX1hO/Ws17Ny1l1udd6wH7Dfhu8Bi2wAAd+71sfvYOcpKitA1jalTHqOzqweAGeVePt61l47bNown9I9pWORPprrv+ei+50PXNc6cv8iIPzYlXx755lGHAimUJHaZeGSFwxH+vNExka4puYhocYA5Y+sK8gxerywHp4YyNNA1lFMDZ+r4UAqenjMr1UmBDEaQIxFkIIz0R3CMhHG3DUAgnAlgyIAG6jqIqgw4p8bzLy23dMI7u9La0cOHgSwABaJHIjhuOcJkyS2OaGjFrYT7hxi7GwYjaMduQDDzRAzNcBOa6SZUWsBgTz+uwQiFD4IU3s9660KOZPFeEwpX4Wex03DzV1+geDujUXcUTgcgOrq48/B6hlbGrg1tV28CUPGbj+qPrthwO65ZjnY63loUW1FRczvgz2g0wwHr8iB+lEdXlhP8qRbPkmJmmmEeJ8LiMi+Ly7x4187j5slahqvKrY1rQJHYAOlXsncO7QCxNWuHeCSUJx/zmZJksdIEgYejpyivvQ/tfqYvozRbu8CtjSsSLDEFwzvI01dnvQnHIyFO+3GcHT243YdCUiVyGC/rEr+ppN7fEEQ4a4GerB3HTMeE5BImFc4qft44lAkAsKeuF1OtnxSIAhFlnnyVK29cTi+e2MMkR3bkVJHw84S+gssNGWkis7VnT10vgfCLoHZiIztySgPm6q0scJRmMw7/9XGaKxKGUJQ52il0NHL1zd/HG94aIKFcz/M7UQc/BnUK5TCFohunOIFHfZK+0MbTvx9ltLez/h/sAAAAAElFTkSuQmCC) **TODO!**"
   ]
  },
  {
   "cell_type": "markdown",
   "metadata": {},
   "source": [
    "Affichez toute la table de hachage `moi`."
   ]
  },
  {
   "cell_type": "code",
   "execution_count": null,
   "metadata": {},
   "outputs": [
    {
     "name": "stdout",
     "output_type": "stream",
     "text": [
      "{'prenom': 'Gaël', 'nom': 'Guibon', 'activitePreferee': 'programmer', 'age': '37'}\n"
     ]
    }
   ],
   "source": [
    "# code moi steupléé 🥺\n",
    "print(r.hgetall('moi'))"
   ]
  },
  {
   "cell_type": "markdown",
   "metadata": {},
   "source": [
    "#### ![programming(3).png](data:image/png;base64,iVBORw0KGgoAAAANSUhEUgAAACAAAAAgCAYAAABzenr0AAAABHNCSVQICAgIfAhkiAAAAAlwSFlzAAAA3QAAAN0BcFOiBwAAABl0RVh0U29mdHdhcmUAd3d3Lmlua3NjYXBlLm9yZ5vuPBoAAAR7SURBVFiFtZdvaFVlHMc/z3PPuefuz825XWV3m5mWU1MLSVEyRoqKk2iLWBCT2uyFpTSIoCCHL0SDXkgUavhKCU3EpGmlorYSShtWig6M1M25gVPb3da2e6/3z3l6cf9u996d42pfOC/O8+/3+f2e5/f8EUopbKnplEHEtwpFDYj5gDf+AdyNfeo6guNoxa18Xv3QzrDCEmDTQS8OuQ1FPeC2R8sQgkNEze3s23B3YgCNB1y49GYQ7wH5Ng2PlR/UpwTDO9jfELQPsOVoKSrUghLLJmh4rJU2hLOWPXW91gCbDi1CipNAxf9iPKUeTLWeffXXcgNsOVqKGb40CcZTEFJfmh4JmaxqPOBChVom0ThABSrUQuMBV6JAS1a59Ob0OQ8J+MsYP0MUMDgwOL5JE5ZINy6XI95JLIstbpohMQWbDnqR8iZpq/1vB3xYalq6dPHXS5Ztzv4xl/K1UyBPJIr8mOZT7NtwNzYFDrmNCabawvmV6Jo2fqMBBd8GIJCMaH7cJpKmU0Z8k7GlaUVu1ixdAIBT19n6/mZ0Xefl6tWUTvfk7ugzR0Mo6mk6ZUgivlXY3OGmFblpqluDkLFQTvNM5f6DPvyBAFIKtn3wrjXEiSSEm4hvlYzt7faN/3LtBmfa2gGY7imho6sbgJbvz3Lu/AVriP40CEWNjB8slsp3OTGcGgPD/mTZdE8xnXEAgP7+QQzDoKDAYjklIIZ5VpI60cZVV28fu7/+gVeqnmP5wieTAB23YwArX1hO/Ws17Ny1l1udd6wH7Dfhu8Bi2wAAd+71sfvYOcpKitA1jalTHqOzqweAGeVePt61l47bNown9I9pWORPprrv+ei+50PXNc6cv8iIPzYlXx755lGHAimUJHaZeGSFwxH+vNExka4puYhocYA5Y+sK8gxerywHp4YyNNA1lFMDZ+r4UAqenjMr1UmBDEaQIxFkIIz0R3CMhHG3DUAgnAlgyIAG6jqIqgw4p8bzLy23dMI7u9La0cOHgSwABaJHIjhuOcJkyS2OaGjFrYT7hxi7GwYjaMduQDDzRAzNcBOa6SZUWsBgTz+uwQiFD4IU3s9660KOZPFeEwpX4Wex03DzV1+geDujUXcUTgcgOrq48/B6hlbGrg1tV28CUPGbj+qPrthwO65ZjnY63loUW1FRczvgz2g0wwHr8iB+lEdXlhP8qRbPkmJmmmEeJ8LiMi+Ly7x4187j5slahqvKrY1rQJHYAOlXsncO7QCxNWuHeCSUJx/zmZJksdIEgYejpyivvQ/tfqYvozRbu8CtjSsSLDEFwzvI01dnvQnHIyFO+3GcHT243YdCUiVyGC/rEr+ppN7fEEQ4a4GerB3HTMeE5BImFc4qft44lAkAsKeuF1OtnxSIAhFlnnyVK29cTi+e2MMkR3bkVJHw84S+gssNGWkis7VnT10vgfCLoHZiIztySgPm6q0scJRmMw7/9XGaKxKGUJQ52il0NHL1zd/HG94aIKFcz/M7UQc/BnUK5TCFohunOIFHfZK+0MbTvx9ltLez/h/sAAAAAElFTkSuQmCC) **TODO!**"
   ]
  },
  {
   "cell_type": "markdown",
   "metadata": {},
   "source": [
    "Recréez cette même table de hachage mais à l'aide du paramètre `mapping`."
   ]
  },
  {
   "cell_type": "code",
   "execution_count": null,
   "metadata": {},
   "outputs": [
    {
     "data": {
      "text/plain": [
       "1"
      ]
     },
     "execution_count": 75,
     "metadata": {},
     "output_type": "execute_result"
    }
   ],
   "source": [
    "# code moi steupléé 🥺\n",
    "r.hset('moi', mapping={\n",
    "    'prenom': 'Gaël',\n",
    "    'nom': \"Guibon\",\n",
    "    'activitePreferee': 'programmer',\n",
    "    \"age\": 37\n",
    "})"
   ]
  },
  {
   "cell_type": "markdown",
   "metadata": {},
   "source": [
    "#### ![programming(3).png](data:image/png;base64,iVBORw0KGgoAAAANSUhEUgAAACAAAAAgCAYAAABzenr0AAAABHNCSVQICAgIfAhkiAAAAAlwSFlzAAAA3QAAAN0BcFOiBwAAABl0RVh0U29mdHdhcmUAd3d3Lmlua3NjYXBlLm9yZ5vuPBoAAAR7SURBVFiFtZdvaFVlHMc/z3PPuefuz825XWV3m5mWU1MLSVEyRoqKk2iLWBCT2uyFpTSIoCCHL0SDXkgUavhKCU3EpGmlorYSShtWig6M1M25gVPb3da2e6/3z3l6cf9u996d42pfOC/O8+/3+f2e5/f8EUopbKnplEHEtwpFDYj5gDf+AdyNfeo6guNoxa18Xv3QzrDCEmDTQS8OuQ1FPeC2R8sQgkNEze3s23B3YgCNB1y49GYQ7wH5Ng2PlR/UpwTDO9jfELQPsOVoKSrUghLLJmh4rJU2hLOWPXW91gCbDi1CipNAxf9iPKUeTLWeffXXcgNsOVqKGb40CcZTEFJfmh4JmaxqPOBChVom0ThABSrUQuMBV6JAS1a59Ob0OQ8J+MsYP0MUMDgwOL5JE5ZINy6XI95JLIstbpohMQWbDnqR8iZpq/1vB3xYalq6dPHXS5Ztzv4xl/K1UyBPJIr8mOZT7NtwNzYFDrmNCabawvmV6Jo2fqMBBd8GIJCMaH7cJpKmU0Z8k7GlaUVu1ixdAIBT19n6/mZ0Xefl6tWUTvfk7ugzR0Mo6mk6ZUgivlXY3OGmFblpqluDkLFQTvNM5f6DPvyBAFIKtn3wrjXEiSSEm4hvlYzt7faN/3LtBmfa2gGY7imho6sbgJbvz3Lu/AVriP40CEWNjB8slsp3OTGcGgPD/mTZdE8xnXEAgP7+QQzDoKDAYjklIIZ5VpI60cZVV28fu7/+gVeqnmP5wieTAB23YwArX1hO/Ws17Ny1l1udd6wH7Dfhu8Bi2wAAd+71sfvYOcpKitA1jalTHqOzqweAGeVePt61l47bNown9I9pWORPprrv+ei+50PXNc6cv8iIPzYlXx755lGHAimUJHaZeGSFwxH+vNExka4puYhocYA5Y+sK8gxerywHp4YyNNA1lFMDZ+r4UAqenjMr1UmBDEaQIxFkIIz0R3CMhHG3DUAgnAlgyIAG6jqIqgw4p8bzLy23dMI7u9La0cOHgSwABaJHIjhuOcJkyS2OaGjFrYT7hxi7GwYjaMduQDDzRAzNcBOa6SZUWsBgTz+uwQiFD4IU3s9660KOZPFeEwpX4Wex03DzV1+geDujUXcUTgcgOrq48/B6hlbGrg1tV28CUPGbj+qPrthwO65ZjnY63loUW1FRczvgz2g0wwHr8iB+lEdXlhP8qRbPkmJmmmEeJ8LiMi+Ly7x4187j5slahqvKrY1rQJHYAOlXsncO7QCxNWuHeCSUJx/zmZJksdIEgYejpyivvQ/tfqYvozRbu8CtjSsSLDEFwzvI01dnvQnHIyFO+3GcHT243YdCUiVyGC/rEr+ppN7fEEQ4a4GerB3HTMeE5BImFc4qft44lAkAsKeuF1OtnxSIAhFlnnyVK29cTi+e2MMkR3bkVJHw84S+gssNGWkis7VnT10vgfCLoHZiIztySgPm6q0scJRmMw7/9XGaKxKGUJQ52il0NHL1zd/HG94aIKFcz/M7UQc/BnUK5TCFohunOIFHfZK+0MbTvx9ltLez/h/sAAAAAElFTkSuQmCC) **TODO!**"
   ]
  },
  {
   "cell_type": "markdown",
   "metadata": {},
   "source": [
    "Refaite cette opération mais en y ajoutant la liste des plats préférés."
   ]
  },
  {
   "cell_type": "code",
   "execution_count": null,
   "metadata": {},
   "outputs": [
    {
     "name": "stdout",
     "output_type": "stream",
     "text": [
      "cela ne fonctionne pas ! et c'est tout à fait normal ! Il s'agit d'une base de données clé-valeur\n"
     ]
    }
   ],
   "source": [
    "# code moi steupléé 🥺\n",
    "try:\n",
    "    r.hset('moi', mapping={\n",
    "        'prenom': 'Gaël',\n",
    "        'nom': \"Guibon\",\n",
    "        'activitePreferee': 'programmer',\n",
    "        \"age\": 37,\n",
    "        'plats': ['cordon bleu', 'carbonara']\n",
    "    })\n",
    "except:\n",
    "    print(\"cela ne fonctionne pas ! et c'est tout à fait normal ! Il s'agit d'une base de données clé-valeur\")"
   ]
  },
  {
   "cell_type": "markdown",
   "metadata": {},
   "source": [
    "#### ![programming(3).png](data:image/png;base64,iVBORw0KGgoAAAANSUhEUgAAACAAAAAgCAYAAABzenr0AAAABHNCSVQICAgIfAhkiAAAAAlwSFlzAAAA3QAAAN0BcFOiBwAAABl0RVh0U29mdHdhcmUAd3d3Lmlua3NjYXBlLm9yZ5vuPBoAAAR7SURBVFiFtZdvaFVlHMc/z3PPuefuz825XWV3m5mWU1MLSVEyRoqKk2iLWBCT2uyFpTSIoCCHL0SDXkgUavhKCU3EpGmlorYSShtWig6M1M25gVPb3da2e6/3z3l6cf9u996d42pfOC/O8+/3+f2e5/f8EUopbKnplEHEtwpFDYj5gDf+AdyNfeo6guNoxa18Xv3QzrDCEmDTQS8OuQ1FPeC2R8sQgkNEze3s23B3YgCNB1y49GYQ7wH5Ng2PlR/UpwTDO9jfELQPsOVoKSrUghLLJmh4rJU2hLOWPXW91gCbDi1CipNAxf9iPKUeTLWeffXXcgNsOVqKGb40CcZTEFJfmh4JmaxqPOBChVom0ThABSrUQuMBV6JAS1a59Ob0OQ8J+MsYP0MUMDgwOL5JE5ZINy6XI95JLIstbpohMQWbDnqR8iZpq/1vB3xYalq6dPHXS5Ztzv4xl/K1UyBPJIr8mOZT7NtwNzYFDrmNCabawvmV6Jo2fqMBBd8GIJCMaH7cJpKmU0Z8k7GlaUVu1ixdAIBT19n6/mZ0Xefl6tWUTvfk7ugzR0Mo6mk6ZUgivlXY3OGmFblpqluDkLFQTvNM5f6DPvyBAFIKtn3wrjXEiSSEm4hvlYzt7faN/3LtBmfa2gGY7imho6sbgJbvz3Lu/AVriP40CEWNjB8slsp3OTGcGgPD/mTZdE8xnXEAgP7+QQzDoKDAYjklIIZ5VpI60cZVV28fu7/+gVeqnmP5wieTAB23YwArX1hO/Ws17Ny1l1udd6wH7Dfhu8Bi2wAAd+71sfvYOcpKitA1jalTHqOzqweAGeVePt61l47bNown9I9pWORPprrv+ei+50PXNc6cv8iIPzYlXx755lGHAimUJHaZeGSFwxH+vNExka4puYhocYA5Y+sK8gxerywHp4YyNNA1lFMDZ+r4UAqenjMr1UmBDEaQIxFkIIz0R3CMhHG3DUAgnAlgyIAG6jqIqgw4p8bzLy23dMI7u9La0cOHgSwABaJHIjhuOcJkyS2OaGjFrYT7hxi7GwYjaMduQDDzRAzNcBOa6SZUWsBgTz+uwQiFD4IU3s9660KOZPFeEwpX4Wex03DzV1+geDujUXcUTgcgOrq48/B6hlbGrg1tV28CUPGbj+qPrthwO65ZjnY63loUW1FRczvgz2g0wwHr8iB+lEdXlhP8qRbPkmJmmmEeJ8LiMi+Ly7x4187j5slahqvKrY1rQJHYAOlXsncO7QCxNWuHeCSUJx/zmZJksdIEgYejpyivvQ/tfqYvozRbu8CtjSsSLDEFwzvI01dnvQnHIyFO+3GcHT243YdCUiVyGC/rEr+ppN7fEEQ4a4GerB3HTMeE5BImFc4qft44lAkAsKeuF1OtnxSIAhFlnnyVK29cTi+e2MMkR3bkVJHw84S+gssNGWkis7VnT10vgfCLoHZiIztySgPm6q0scJRmMw7/9XGaKxKGUJQ52il0NHL1zd/HG94aIKFcz/M7UQc/BnUK5TCFohunOIFHfZK+0MbTvx9ltLez/h/sAAAAAElFTkSuQmCC) **TODO!**"
   ]
  },
  {
   "cell_type": "markdown",
   "metadata": {},
   "source": [
    "Supprimez cet âge que nous ne saurions voir 😆 et affichez la table de hachage"
   ]
  },
  {
   "cell_type": "code",
   "execution_count": null,
   "metadata": {},
   "outputs": [
    {
     "name": "stdout",
     "output_type": "stream",
     "text": [
      "{'prenom': 'Gaël', 'nom': 'Guibon', 'activitePreferee': 'programmer'}\n"
     ]
    }
   ],
   "source": [
    "# code moi steupléé 🥺\n",
    "r.hdel('moi', 'age')\n",
    "print(r.hgetall(\"moi\"))"
   ]
  },
  {
   "cell_type": "markdown",
   "metadata": {},
   "source": [
    "## Utilisation de la base de pilotes dénormalisée"
   ]
  },
  {
   "cell_type": "markdown",
   "metadata": {},
   "source": [
    "#### ![programming(3).png](data:image/png;base64,iVBORw0KGgoAAAANSUhEUgAAACAAAAAgCAYAAABzenr0AAAABHNCSVQICAgIfAhkiAAAAAlwSFlzAAAA3QAAAN0BcFOiBwAAABl0RVh0U29mdHdhcmUAd3d3Lmlua3NjYXBlLm9yZ5vuPBoAAAR7SURBVFiFtZdvaFVlHMc/z3PPuefuz825XWV3m5mWU1MLSVEyRoqKk2iLWBCT2uyFpTSIoCCHL0SDXkgUavhKCU3EpGmlorYSShtWig6M1M25gVPb3da2e6/3z3l6cf9u996d42pfOC/O8+/3+f2e5/f8EUopbKnplEHEtwpFDYj5gDf+AdyNfeo6guNoxa18Xv3QzrDCEmDTQS8OuQ1FPeC2R8sQgkNEze3s23B3YgCNB1y49GYQ7wH5Ng2PlR/UpwTDO9jfELQPsOVoKSrUghLLJmh4rJU2hLOWPXW91gCbDi1CipNAxf9iPKUeTLWeffXXcgNsOVqKGb40CcZTEFJfmh4JmaxqPOBChVom0ThABSrUQuMBV6JAS1a59Ob0OQ8J+MsYP0MUMDgwOL5JE5ZINy6XI95JLIstbpohMQWbDnqR8iZpq/1vB3xYalq6dPHXS5Ztzv4xl/K1UyBPJIr8mOZT7NtwNzYFDrmNCabawvmV6Jo2fqMBBd8GIJCMaH7cJpKmU0Z8k7GlaUVu1ixdAIBT19n6/mZ0Xefl6tWUTvfk7ugzR0Mo6mk6ZUgivlXY3OGmFblpqluDkLFQTvNM5f6DPvyBAFIKtn3wrjXEiSSEm4hvlYzt7faN/3LtBmfa2gGY7imho6sbgJbvz3Lu/AVriP40CEWNjB8slsp3OTGcGgPD/mTZdE8xnXEAgP7+QQzDoKDAYjklIIZ5VpI60cZVV28fu7/+gVeqnmP5wieTAB23YwArX1hO/Ws17Ny1l1udd6wH7Dfhu8Bi2wAAd+71sfvYOcpKitA1jalTHqOzqweAGeVePt61l47bNown9I9pWORPprrv+ei+50PXNc6cv8iIPzYlXx755lGHAimUJHaZeGSFwxH+vNExka4puYhocYA5Y+sK8gxerywHp4YyNNA1lFMDZ+r4UAqenjMr1UmBDEaQIxFkIIz0R3CMhHG3DUAgnAlgyIAG6jqIqgw4p8bzLy23dMI7u9La0cOHgSwABaJHIjhuOcJkyS2OaGjFrYT7hxi7GwYjaMduQDDzRAzNcBOa6SZUWsBgTz+uwQiFD4IU3s9660KOZPFeEwpX4Wex03DzV1+geDujUXcUTgcgOrq48/B6hlbGrg1tV28CUPGbj+qPrthwO65ZjnY63loUW1FRczvgz2g0wwHr8iB+lEdXlhP8qRbPkmJmmmEeJ8LiMi+Ly7x4187j5slahqvKrY1rQJHYAOlXsncO7QCxNWuHeCSUJx/zmZJksdIEgYejpyivvQ/tfqYvozRbu8CtjSsSLDEFwzvI01dnvQnHIyFO+3GcHT243YdCUiVyGC/rEr+ppN7fEEQ4a4GerB3HTMeE5BImFc4qft44lAkAsKeuF1OtnxSIAhFlnnyVK29cTi+e2MMkR3bkVJHw84S+gssNGWkis7VnT10vgfCLoHZiIztySgPm6q0scJRmMw7/9XGaKxKGUJQ52il0NHL1zd/HG94aIKFcz/M7UQc/BnUK5TCFohunOIFHfZK+0MbTvx9ltLez/h/sAAAAAElFTkSuQmCC) **TODO!**"
   ]
  },
  {
   "cell_type": "markdown",
   "metadata": {},
   "source": [
    "Essayez d'insérer votre base de données Pilotes dénormalisée dans Redis, uniquement à l'aide des commandes dédiées (uniquement à l'aide de `CoreCommands`).\n",
    "\n",
    "Attention, nous voulons bien utiliser ici une version adéquate pour redis, donc pour une base de données clé-valeur.\n",
    "\n",
    "Que constatez-vous ?"
   ]
  },
  {
   "cell_type": "code",
   "execution_count": 79,
   "metadata": {},
   "outputs": [
    {
     "name": "stdout",
     "output_type": "stream",
     "text": [
      "Les hiérarchies ne sont pas possibles. ce n'est pas une BDD orientée document. Il nous faut donc utiliser un mapping sur une clé\n"
     ]
    }
   ],
   "source": [
    "# code moi steupléé 🥺\n",
    "\n",
    "# le code suivant ne va donc pas fonctionner à cause de la hiérarchie, il faut l'applatir\n",
    "\n",
    "try:\n",
    "    for i, v in enumerate(vue_pilotes):\n",
    "        r.hset('vol:%s' % (i), mapping=v)\n",
    "except:\n",
    "    print(\"Les hiérarchies ne sont pas possibles. ce n'est pas une BDD orientée document. Il nous faut donc utiliser un mapping sur une clé\")\n"
   ]
  },
  {
   "cell_type": "markdown",
   "metadata": {},
   "source": [
    "#### ![programming(3).png](data:image/png;base64,iVBORw0KGgoAAAANSUhEUgAAACAAAAAgCAYAAABzenr0AAAABHNCSVQICAgIfAhkiAAAAAlwSFlzAAAA3QAAAN0BcFOiBwAAABl0RVh0U29mdHdhcmUAd3d3Lmlua3NjYXBlLm9yZ5vuPBoAAAR7SURBVFiFtZdvaFVlHMc/z3PPuefuz825XWV3m5mWU1MLSVEyRoqKk2iLWBCT2uyFpTSIoCCHL0SDXkgUavhKCU3EpGmlorYSShtWig6M1M25gVPb3da2e6/3z3l6cf9u996d42pfOC/O8+/3+f2e5/f8EUopbKnplEHEtwpFDYj5gDf+AdyNfeo6guNoxa18Xv3QzrDCEmDTQS8OuQ1FPeC2R8sQgkNEze3s23B3YgCNB1y49GYQ7wH5Ng2PlR/UpwTDO9jfELQPsOVoKSrUghLLJmh4rJU2hLOWPXW91gCbDi1CipNAxf9iPKUeTLWeffXXcgNsOVqKGb40CcZTEFJfmh4JmaxqPOBChVom0ThABSrUQuMBV6JAS1a59Ob0OQ8J+MsYP0MUMDgwOL5JE5ZINy6XI95JLIstbpohMQWbDnqR8iZpq/1vB3xYalq6dPHXS5Ztzv4xl/K1UyBPJIr8mOZT7NtwNzYFDrmNCabawvmV6Jo2fqMBBd8GIJCMaH7cJpKmU0Z8k7GlaUVu1ixdAIBT19n6/mZ0Xefl6tWUTvfk7ugzR0Mo6mk6ZUgivlXY3OGmFblpqluDkLFQTvNM5f6DPvyBAFIKtn3wrjXEiSSEm4hvlYzt7faN/3LtBmfa2gGY7imho6sbgJbvz3Lu/AVriP40CEWNjB8slsp3OTGcGgPD/mTZdE8xnXEAgP7+QQzDoKDAYjklIIZ5VpI60cZVV28fu7/+gVeqnmP5wieTAB23YwArX1hO/Ws17Ny1l1udd6wH7Dfhu8Bi2wAAd+71sfvYOcpKitA1jalTHqOzqweAGeVePt61l47bNown9I9pWORPprrv+ei+50PXNc6cv8iIPzYlXx755lGHAimUJHaZeGSFwxH+vNExka4puYhocYA5Y+sK8gxerywHp4YyNNA1lFMDZ+r4UAqenjMr1UmBDEaQIxFkIIz0R3CMhHG3DUAgnAlgyIAG6jqIqgw4p8bzLy23dMI7u9La0cOHgSwABaJHIjhuOcJkyS2OaGjFrYT7hxi7GwYjaMduQDDzRAzNcBOa6SZUWsBgTz+uwQiFD4IU3s9660KOZPFeEwpX4Wex03DzV1+geDujUXcUTgcgOrq48/B6hlbGrg1tV28CUPGbj+qPrthwO65ZjnY63loUW1FRczvgz2g0wwHr8iB+lEdXlhP8qRbPkmJmmmEeJ8LiMi+Ly7x4187j5slahqvKrY1rQJHYAOlXsncO7QCxNWuHeCSUJx/zmZJksdIEgYejpyivvQ/tfqYvozRbu8CtjSsSLDEFwzvI01dnvQnHIyFO+3GcHT243YdCUiVyGC/rEr+ppN7fEEQ4a4GerB3HTMeE5BImFc4qft44lAkAsKeuF1OtnxSIAhFlnnyVK29cTi+e2MMkR3bkVJHw84S+gssNGWkis7VnT10vgfCLoHZiIztySgPm6q0scJRmMw7/9XGaKxKGUJQ52il0NHL1zd/HG94aIKFcz/M7UQc/BnUK5TCFohunOIFHfZK+0MbTvx9ltLez/h/sAAAAAElFTkSuQmCC) **TODO!**"
   ]
  },
  {
   "cell_type": "markdown",
   "metadata": {},
   "source": [
    "Affichez la liste des destinations des vols, sans redondance, à partir de cette base dénormalisée.\n",
    "\n",
    "Pour cela, utilisez les sets de Redis et affichez également le nombre de destinations."
   ]
  },
  {
   "cell_type": "code",
   "execution_count": null,
   "metadata": {},
   "outputs": [
    {
     "name": "stdout",
     "output_type": "stream",
     "text": [
      "Il y a 6 destinations\n"
     ]
    }
   ],
   "source": [
    "# code moi steupléé 🥺\n",
    "for v in vue_pilotes:\n",
    "    r.sadd(\"destinations\", v['VILLEARRIVEE'])\n",
    "\n",
    "print(\"Il y a\" , r.scard(\"destinations\"), \"destinations\")"
   ]
  },
  {
   "cell_type": "code",
   "execution_count": 66,
   "metadata": {},
   "outputs": [
    {
     "data": {
      "text/plain": [
       "['Amsterdam', 'Marseille', 'Pekin', 'Paris', 'NewYork', 'Nice']"
      ]
     },
     "execution_count": 66,
     "metadata": {},
     "output_type": "execute_result"
    }
   ],
   "source": [
    "r.smembers(\"destinations\")"
   ]
  },
  {
   "cell_type": "markdown",
   "metadata": {},
   "source": [
    "#### ![programming(3).png](data:image/png;base64,iVBORw0KGgoAAAANSUhEUgAAACAAAAAgCAYAAABzenr0AAAABHNCSVQICAgIfAhkiAAAAAlwSFlzAAAA3QAAAN0BcFOiBwAAABl0RVh0U29mdHdhcmUAd3d3Lmlua3NjYXBlLm9yZ5vuPBoAAAR7SURBVFiFtZdvaFVlHMc/z3PPuefuz825XWV3m5mWU1MLSVEyRoqKk2iLWBCT2uyFpTSIoCCHL0SDXkgUavhKCU3EpGmlorYSShtWig6M1M25gVPb3da2e6/3z3l6cf9u996d42pfOC/O8+/3+f2e5/f8EUopbKnplEHEtwpFDYj5gDf+AdyNfeo6guNoxa18Xv3QzrDCEmDTQS8OuQ1FPeC2R8sQgkNEze3s23B3YgCNB1y49GYQ7wH5Ng2PlR/UpwTDO9jfELQPsOVoKSrUghLLJmh4rJU2hLOWPXW91gCbDi1CipNAxf9iPKUeTLWeffXXcgNsOVqKGb40CcZTEFJfmh4JmaxqPOBChVom0ThABSrUQuMBV6JAS1a59Ob0OQ8J+MsYP0MUMDgwOL5JE5ZINy6XI95JLIstbpohMQWbDnqR8iZpq/1vB3xYalq6dPHXS5Ztzv4xl/K1UyBPJIr8mOZT7NtwNzYFDrmNCabawvmV6Jo2fqMBBd8GIJCMaH7cJpKmU0Z8k7GlaUVu1ixdAIBT19n6/mZ0Xefl6tWUTvfk7ugzR0Mo6mk6ZUgivlXY3OGmFblpqluDkLFQTvNM5f6DPvyBAFIKtn3wrjXEiSSEm4hvlYzt7faN/3LtBmfa2gGY7imho6sbgJbvz3Lu/AVriP40CEWNjB8slsp3OTGcGgPD/mTZdE8xnXEAgP7+QQzDoKDAYjklIIZ5VpI60cZVV28fu7/+gVeqnmP5wieTAB23YwArX1hO/Ws17Ny1l1udd6wH7Dfhu8Bi2wAAd+71sfvYOcpKitA1jalTHqOzqweAGeVePt61l47bNown9I9pWORPprrv+ei+50PXNc6cv8iIPzYlXx755lGHAimUJHaZeGSFwxH+vNExka4puYhocYA5Y+sK8gxerywHp4YyNNA1lFMDZ+r4UAqenjMr1UmBDEaQIxFkIIz0R3CMhHG3DUAgnAlgyIAG6jqIqgw4p8bzLy23dMI7u9La0cOHgSwABaJHIjhuOcJkyS2OaGjFrYT7hxi7GwYjaMduQDDzRAzNcBOa6SZUWsBgTz+uwQiFD4IU3s9660KOZPFeEwpX4Wex03DzV1+geDujUXcUTgcgOrq48/B6hlbGrg1tV28CUPGbj+qPrthwO65ZjnY63loUW1FRczvgz2g0wwHr8iB+lEdXlhP8qRbPkmJmmmEeJ8LiMi+Ly7x4187j5slahqvKrY1rQJHYAOlXsncO7QCxNWuHeCSUJx/zmZJksdIEgYejpyivvQ/tfqYvozRbu8CtjSsSLDEFwzvI01dnvQnHIyFO+3GcHT243YdCUiVyGC/rEr+ppN7fEEQ4a4GerB3HTMeE5BImFc4qft44lAkAsKeuF1OtnxSIAhFlnnyVK29cTi+e2MMkR3bkVJHw84S+gssNGWkis7VnT10vgfCLoHZiIztySgPm6q0scJRmMw7/9XGaKxKGUJQ52il0NHL1zd/HG94aIKFcz/M7UQc/BnUK5TCFohunOIFHfZK+0MbTvx9ltLez/h/sAAAAAElFTkSuQmCC) **TODO!**"
   ]
  },
  {
   "cell_type": "markdown",
   "metadata": {},
   "source": [
    "Supprimez Paris de cet ensemble et affichez de nouveau les destinations différentes."
   ]
  },
  {
   "cell_type": "code",
   "execution_count": null,
   "metadata": {},
   "outputs": [
    {
     "data": {
      "text/plain": [
       "['Amsterdam', 'Marseille', 'Pekin', 'NewYork', 'Nice']"
      ]
     },
     "execution_count": 67,
     "metadata": {},
     "output_type": "execute_result"
    }
   ],
   "source": [
    "# code moi steupléé 🥺\n",
    "r.srem(\"destinations\", \"Paris\")\n",
    "r.smembers(\"destinations\")"
   ]
  },
  {
   "cell_type": "markdown",
   "metadata": {},
   "source": [
    "Et voila, nous avons vu \n",
    "- la dénormalisation d'une base,\n",
    "- les différentes limitations et différences de base conséquente à l'orientation clé-valeur,\n",
    "- les opérations de base de Redis"
   ]
  }
 ],
 "metadata": {
  "kernelspec": {
   "display_name": "Python 3",
   "language": "python",
   "name": "python3"
  },
  "language_info": {
   "codemirror_mode": {
    "name": "ipython",
    "version": 3
   },
   "file_extension": ".py",
   "mimetype": "text/x-python",
   "name": "python",
   "nbconvert_exporter": "python",
   "pygments_lexer": "ipython3",
   "version": "3.12.10"
  }
 },
 "nbformat": 4,
 "nbformat_minor": 2
}
