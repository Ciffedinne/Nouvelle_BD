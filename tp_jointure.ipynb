{
 "cells": [
  {
   "cell_type": "markdown",
   "metadata": {},
   "source": [
    "# TP Jointure"
   ]
  },
  {
   "cell_type": "code",
   "execution_count": 2,
   "metadata": {},
   "outputs": [
    {
     "name": "stdout",
     "output_type": "stream",
     "text": [
      "{'VOLID': 'V101', 'VILLEDEPART': 'Marseille', 'VILLEARRIVEE': 'Amsterdam', 'DATEDEPART': '1/04/07', 'HEUREDEPART': '8:10', 'DATEARRIVEE': '1/04/07', 'HEUREARRIVEE': '9:10', 'NUMAV': 560, 'avion': {'NOMAV': 'Airbus A320', 'LOCALISATION': 'Nice'}, 'clients': ['Leblanc', 'Grignard', 'Rolland', 'Perse', 'Lorentz', 'Lenard', 'Planck', 'Bohr', 'Dirac']}\n"
     ]
    },
    {
     "data": {
      "text/plain": [
       "{'VOLID': 'V101',\n",
       " 'VILLEDEPART': 'Marseille',\n",
       " 'VILLEARRIVEE': 'Amsterdam',\n",
       " 'DATEDEPART': '1/04/07',\n",
       " 'HEUREDEPART': '8:10',\n",
       " 'DATEARRIVEE': '1/04/07',\n",
       " 'HEUREARRIVEE': '9:10',\n",
       " 'avion': {'NUMAV': 560,\n",
       "  'NOMAV': 'Airbus A320',\n",
       "  'CAPACITE': 250,\n",
       "  'LOCALISATION': 'Nice'},\n",
       " 'pilote': {'NUMPIL': 5050,\n",
       "  'NOMPIL': 'Leblanc',\n",
       "  'NAISSANCE': 1960,\n",
       "  'ADRESSE': 'Marseille'}}"
      ]
     },
     "execution_count": 2,
     "metadata": {},
     "output_type": "execute_result"
    }
   ],
   "source": [
    "import pandas as pd\n",
    "import json, copy, pymongo\n",
    "# code moi steupléé 🥺\n",
    "\n",
    "# approche par réservation (simple)\n",
    "reservations = pd.read_csv(\"bddPilotes/RESERVATIONS.txt\", sep=\"\\t\", header=0).to_dict('records')\n",
    "vols = pd.read_csv(\"bddPilotes/VOLS.txt\", sep=\"\\t\", header=0).to_dict('records')\n",
    "pilotes = pd.read_csv(\"bddPilotes/PILOTES.txt\", sep=\"\\t\", header=0).to_dict('records')\n",
    "clients = pd.read_csv(\"bddPilotes/CLIENTS.txt\", sep=\"\\t\", header=0).to_dict('records')\n",
    "avions = pd.read_csv(\"bddPilotes/AVIONS.txt\", sep=\"\\t\", header=0).to_dict('records')\n",
    "\n",
    "# approche pour connaitre les vols (dénormalisation des données)\n",
    "# ceci est un exemple car nous faisons donc une démultiplication des informations. Ici nous partons du principe qu'une personne arrivant dans l'aéroport veut connaître ces informations, et voir son nom associé au vol. Nous croisons donc les informations, ce qui limitera les besoins de jointure à la volée par la suite.\n",
    "vue_vols = copy.deepcopy(vols)\n",
    "for v in vue_vols:\n",
    "    for a in avions:\n",
    "        if a['NUMAV'] == v[\"NUMAV\"]:\n",
    "            v.update({\"avion\": {\"NOMAV\": a[\"NOMAV\"], \"LOCALISATION\": a[\"LOCALISATION\"]}})\n",
    "    v_clients = []\n",
    "    for r in reservations:\n",
    "        if r[\"VOLID\"] == v[\"VOLID\"]: \n",
    "            v_clients.append(r[\"NUMCLIENT\"])\n",
    "    clients_names = []\n",
    "    for c in clients:\n",
    "        if c[\"CLIENTID\"] in v_clients: \n",
    "            clients_names.append(c[\"NOM\"])\n",
    "    v.update({\"clients\": clients_names})\n",
    "    del v[\"NUMPIL\"]\n",
    "\n",
    "print(vue_vols[0])\n",
    "\n",
    "# une autre approche est ella par pilote : un pilote veut savoir son heure de départ, son nom associé à un avion et son modèle d'avion avec capacité et localisation. Il n'a pas besoin du reste.\n",
    "vue_pilotes = copy.deepcopy(vols)\n",
    "\n",
    "for vp in vue_pilotes:\n",
    "    for a in avions:\n",
    "        if a['NUMAV'] == vp[\"NUMAV\"]:\n",
    "            vp.update({\"avion\": a})\n",
    "            del vp[\"NUMAV\"]\n",
    "            break\n",
    "    for p in pilotes:\n",
    "        if p[\"NUMPIL\"] == vp[\"NUMPIL\"]:\n",
    "            vp.update({\"pilote\": p})\n",
    "            del vp[\"NUMPIL\"]\n",
    "            break\n",
    "\n",
    "vue_pilotes[0]"
   ]
  }
 ],
 "metadata": {
  "kernelspec": {
   "display_name": "Python 3",
   "language": "python",
   "name": "python3"
  },
  "language_info": {
   "codemirror_mode": {
    "name": "ipython",
    "version": 3
   },
   "file_extension": ".py",
   "mimetype": "text/x-python",
   "name": "python",
   "nbconvert_exporter": "python",
   "pygments_lexer": "ipython3",
   "version": "3.12.3"
  }
 },
 "nbformat": 4,
 "nbformat_minor": 2
}
