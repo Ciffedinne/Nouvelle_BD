{
 "cells": [
  {
   "cell_type": "markdown",
   "metadata": {},
   "source": [
    "<center>\n",
    "\n",
    "<img src=\"data:image/png;base64,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\" />\n",
    "\n",
    "</center>"
   ]
  },
  {
   "cell_type": "markdown",
   "metadata": {},
   "source": [
    "<h1><center><strong style=\"color: #293358\">NoSQL<br/> BUT 3 - IUT Villetaneuse <br/> Introduction à MongoDB</strong></center></h1>\n",
    "\n",
    "<center>\n",
    "<h3 style=\"color: #8b7d6d\"><a href=\"https://gguibon.github.io/\">Gaël Guibon</a></h3>\n",
    "<email>gael.guibon@sorbonne-paris-nord.fr</email>\n",
    "<br/>\n",
    "Year 2025-2026\n",
    "\n",
    "Original Content\n",
    "\n",
    "Licenced under Affero GNU3\n",
    "</center>"
   ]
  },
  {
   "cell_type": "markdown",
   "metadata": {},
   "source": [
    "## <strong style=\"color: #8b7d6d\">Usage de la machine virtuelle</strong>"
   ]
  },
  {
   "cell_type": "markdown",
   "metadata": {},
   "source": [
    "1. Téléchargez la VM ici : https://e.pcloud.link/publink/show?code=XZ3dvxZh0fEzIaCmqF9HHRP346u0S0MY4lk\n",
    "2. Importez la dans Virtual Box\n",
    "3. Connectez-vous avec l'id `uspn`et le mot de passe `uspn`\n",
    "4. Enjoy !\n",
    "\n",
    "\n",
    "Cette machine virtuelle est déjà configurée pour Redis et il vous suffit de lancer les quelques commandes de la section suivante pour y installer MongoDB."
   ]
  },
  {
   "cell_type": "markdown",
   "metadata": {},
   "source": [
    "## <strong style=\"color: #8b7d6d\">Installation de mongodb</strong>"
   ]
  },
  {
   "cell_type": "markdown",
   "metadata": {},
   "source": [
    "### Installer MongoDB par docker \n",
    "1. Télécharger Docker Desktop et l'installer: https://docs.docker.com/desktop/\n",
    "2. Lancer Docker Desktop (cela lance le deamon docker en service de fond - background service)\n",
    "3. Ouvrir le terminal\n",
    "4. Taper cette commande dans le terminal\n",
    "```\n",
    "docker run --name mongodb -d -p 27017:27017 mongodb/mongodb-community-server:latest\n",
    "```\n",
    "Cela télécharge l'image docker de mongdb et crée un container au nom de `mongodb`. Le serveur mongodb écoutera le port 27017\n",
    "5. Vérifier les containers docker en cours d'exécution en tapant la commande suivante dans le terminal\n",
    "```\n",
    "docker ps\n",
    "```\n",
    "6. Vérifier les containers dockers disponibles en tapant la commande suivante dans le terminal\n",
    "```\n",
    "docker ps -a\n",
    "```\n",
    "`-a` signifie `all`\n",
    "7. Si le container `mongodb` n'est pas en cours d'exécution, vous pouvez le lancer en tapant dans le terminal\n",
    "```\n",
    "docker start mongodb\n",
    "```\n",
    "8. Vous pouvez arrêter le container en tapant dans le terminal\n",
    "```\n",
    "docker stop mongodb\n",
    "```\n",
    "9. Si vous souhaitez supprimer le container, tapez dans le terminal\n",
    "```\n",
    "docker stop mongodb && docker rm mongodb\n",
    "```\n",
    "10. Installez l'interface graphique de MongoDB, nommée Mongo Compass : https://www.mongodb.com/products/tools/compass \n",
    "\n",
    "### Utiliser MongoDB via docker\n",
    "\n",
    "#### Par terminal Mongo Shell (mongosh)\n",
    "Comme la commande `mongosh`est diponible que dans le container nous pouvons la lancer comme ceci :\n",
    "```\n",
    "docker exec -it mongodb mongosh\n",
    "```\n",
    "Ce qui signgifie `exec`(executer) `-it` (interactive terminal) `mongodb` (le nom du container pour lancer le terminal interactif) `mongosh` (dans ce terminal interactif je lance la commande `mongosh`)"
   ]
  },
  {
   "cell_type": "markdown",
   "metadata": {},
   "source": [
    "### Ubuntu 24.04 LTS et installation native"
   ]
  },
  {
   "cell_type": "markdown",
   "metadata": {},
   "source": [
    "L'installation de mongodb, de pymongo et de mongo compass est déjà faite dans la VM 😉\n",
    "\n",
    "À toute fin utile, voici les commandes pour l'installation sous Ubuntu :"
   ]
  },
  {
   "cell_type": "code",
   "execution_count": 2,
   "metadata": {},
   "outputs": [
    {
     "name": "stdout",
     "output_type": "stream",
     "text": [
      "[sudo] Mot de passe de uspn : "
     ]
    }
   ],
   "source": [
    "! sudo apt update ; sudo apt-get install gnupg curl\n",
    "! curl -fsSL https://www.mongodb.org/static/pgp/server-8.0.asc | sudo gpg -o /usr/share/keyrings/mongodb-server-8.0.gpg --dearmor\n",
    "! echo \"deb [ arch=amd64,arm64 signed-by=/usr/share/keyrings/mongodb-server-8.0.gpg ] https://repo.mongodb.org/apt/ubuntu noble/mongodb-org/8.0 multiverse\" | sudo tee /etc/apt/sources.list.d/mongodb-org-8.0.list\n",
    "! sudo apt update ; sudo apt-get install -y mongodb-org wget"
   ]
  },
  {
   "cell_type": "code",
   "execution_count": null,
   "metadata": {},
   "outputs": [],
   "source": [
    "! pip install pymongo pandas --break-system-packages"
   ]
  },
  {
   "cell_type": "code",
   "execution_count": null,
   "metadata": {},
   "outputs": [],
   "source": [
    "! wget https://downloads.mongodb.com/compass/mongodb-compass_1.44.4_amd64.deb\n",
    "! sudo apt install ./mongodb-compass_1.44.4_amd64.deb"
   ]
  },
  {
   "cell_type": "code",
   "execution_count": null,
   "metadata": {},
   "outputs": [],
   "source": [
    "! wget https://gitlab.com/gguibon/uspn-storage/-/raw/main/pokemons.json"
   ]
  },
  {
   "cell_type": "markdown",
   "metadata": {},
   "source": [
    "### Windows / MacOS"
   ]
  },
  {
   "cell_type": "markdown",
   "metadata": {},
   "source": [
    "1. Téléchargez MongoDB Community Edition : https://www.mongodb.com/try/download/community\n",
    "2. Installez le en mettant tout par défaut\n",
    "3. Téléchargez Mongo Compass : https://www.mongodb.com/products/tools/compass \n",
    "4. Installez le.\n",
    "5. Installez `pandas`, `pymongo` et `wget` : "
   ]
  },
  {
   "cell_type": "code",
   "execution_count": null,
   "metadata": {},
   "outputs": [],
   "source": [
    "! pip install pymongo pandas wget"
   ]
  },
  {
   "cell_type": "markdown",
   "metadata": {},
   "source": [
    "6. Téléchargez la base des pokemons : "
   ]
  },
  {
   "cell_type": "code",
   "execution_count": null,
   "metadata": {},
   "outputs": [],
   "source": [
    "import wget\n",
    "url = \"https://gitlab.com/gguibon/uspn-storage/-/raw/main/pokemons.json\"\n",
    "wget.download(url)"
   ]
  },
  {
   "cell_type": "markdown",
   "metadata": {},
   "source": [
    "## <strong style=\"color: #8b7d6d\">Lancement du service Mongodb (`mongod` pour installation native)</strong>"
   ]
  },
  {
   "cell_type": "markdown",
   "metadata": {},
   "source": [
    "### Ubuntu 24.04 LTS"
   ]
  },
  {
   "cell_type": "code",
   "execution_count": null,
   "metadata": {},
   "outputs": [],
   "source": [
    "! sudo service mongod start\n",
    "! sudo service mongod status"
   ]
  },
  {
   "cell_type": "markdown",
   "metadata": {},
   "source": [
    "### Windows 10 / 11\n",
    "\n",
    "Lancez une invite de commande (ou un Windows Terminal) en administrateur, puis exécutez :\n",
    "\n",
    "```sh\n",
    "net start MongoDB\n",
    "```"
   ]
  },
  {
   "cell_type": "markdown",
   "metadata": {},
   "source": [
    "# <strong style=\"color: #8b7d6d\">CRUD (Create Read Update Delete) en MongoDB</strong>"
   ]
  },
  {
   "cell_type": "code",
   "execution_count": 1,
   "metadata": {},
   "outputs": [],
   "source": [
    "import pymongo, json\n",
    "import pandas as pd"
   ]
  },
  {
   "cell_type": "markdown",
   "metadata": {},
   "source": [
    "#### ![programming(3).png](data:image/png;base64,iVBORw0KGgoAAAANSUhEUgAAACAAAAAgCAYAAABzenr0AAAABHNCSVQICAgIfAhkiAAAAAlwSFlzAAAA3QAAAN0BcFOiBwAAABl0RVh0U29mdHdhcmUAd3d3Lmlua3NjYXBlLm9yZ5vuPBoAAAR7SURBVFiFtZdvaFVlHMc/z3PPuefuz825XWV3m5mWU1MLSVEyRoqKk2iLWBCT2uyFpTSIoCCHL0SDXkgUavhKCU3EpGmlorYSShtWig6M1M25gVPb3da2e6/3z3l6cf9u996d42pfOC/O8+/3+f2e5/f8EUopbKnplEHEtwpFDYj5gDf+AdyNfeo6guNoxa18Xv3QzrDCEmDTQS8OuQ1FPeC2R8sQgkNEze3s23B3YgCNB1y49GYQ7wH5Ng2PlR/UpwTDO9jfELQPsOVoKSrUghLLJmh4rJU2hLOWPXW91gCbDi1CipNAxf9iPKUeTLWeffXXcgNsOVqKGb40CcZTEFJfmh4JmaxqPOBChVom0ThABSrUQuMBV6JAS1a59Ob0OQ8J+MsYP0MUMDgwOL5JE5ZINy6XI95JLIstbpohMQWbDnqR8iZpq/1vB3xYalq6dPHXS5Ztzv4xl/K1UyBPJIr8mOZT7NtwNzYFDrmNCabawvmV6Jo2fqMBBd8GIJCMaH7cJpKmU0Z8k7GlaUVu1ixdAIBT19n6/mZ0Xefl6tWUTvfk7ugzR0Mo6mk6ZUgivlXY3OGmFblpqluDkLFQTvNM5f6DPvyBAFIKtn3wrjXEiSSEm4hvlYzt7faN/3LtBmfa2gGY7imho6sbgJbvz3Lu/AVriP40CEWNjB8slsp3OTGcGgPD/mTZdE8xnXEAgP7+QQzDoKDAYjklIIZ5VpI60cZVV28fu7/+gVeqnmP5wieTAB23YwArX1hO/Ws17Ny1l1udd6wH7Dfhu8Bi2wAAd+71sfvYOcpKitA1jalTHqOzqweAGeVePt61l47bNown9I9pWORPprrv+ei+50PXNc6cv8iIPzYlXx755lGHAimUJHaZeGSFwxH+vNExka4puYhocYA5Y+sK8gxerywHp4YyNNA1lFMDZ+r4UAqenjMr1UmBDEaQIxFkIIz0R3CMhHG3DUAgnAlgyIAG6jqIqgw4p8bzLy23dMI7u9La0cOHgSwABaJHIjhuOcJkyS2OaGjFrYT7hxi7GwYjaMduQDDzRAzNcBOa6SZUWsBgTz+uwQiFD4IU3s9660KOZPFeEwpX4Wex03DzV1+geDujUXcUTgcgOrq48/B6hlbGrg1tV28CUPGbj+qPrthwO65ZjnY63loUW1FRczvgz2g0wwHr8iB+lEdXlhP8qRbPkmJmmmEeJ8LiMi+Ly7x4187j5slahqvKrY1rQJHYAOlXsncO7QCxNWuHeCSUJx/zmZJksdIEgYejpyivvQ/tfqYvozRbu8CtjSsSLDEFwzvI01dnvQnHIyFO+3GcHT243YdCUiVyGC/rEr+ppN7fEEQ4a4GerB3HTMeE5BImFc4qft44lAkAsKeuF1OtnxSIAhFlnnyVK29cTi+e2MMkR3bkVJHw84S+gssNGWkis7VnT10vgfCLoHZiIztySgPm6q0scJRmMw7/9XGaKxKGUJQ52il0NHL1zd/HG94aIKFcz/M7UQc/BnUK5TCFohunOIFHfZK+0MbTvx9ltLez/h/sAAAAAElFTkSuQmCC) **TODO!**"
   ]
  },
  {
   "cell_type": "markdown",
   "metadata": {},
   "source": [
    "Ouvrez le fichier JSON dans Pandas et affichez le en format String.\n",
    "\n",
    "💡Astuce :\n",
    "- Voici une introduction officielle de 10 minutes pour Pandas : https://pandas.pydata.org/docs/user_guide/10min.html "
   ]
  },
  {
   "cell_type": "code",
   "execution_count": 2,
   "metadata": {},
   "outputs": [],
   "source": [
    "df = pd.read_json(\"pokemons.json\")\n"
   ]
  },
  {
   "cell_type": "markdown",
   "metadata": {},
   "source": [
    "#### ![programming(3).png](data:image/png;base64,iVBORw0KGgoAAAANSUhEUgAAACAAAAAgCAYAAABzenr0AAAABHNCSVQICAgIfAhkiAAAAAlwSFlzAAAA3QAAAN0BcFOiBwAAABl0RVh0U29mdHdhcmUAd3d3Lmlua3NjYXBlLm9yZ5vuPBoAAAR7SURBVFiFtZdvaFVlHMc/z3PPuefuz825XWV3m5mWU1MLSVEyRoqKk2iLWBCT2uyFpTSIoCCHL0SDXkgUavhKCU3EpGmlorYSShtWig6M1M25gVPb3da2e6/3z3l6cf9u996d42pfOC/O8+/3+f2e5/f8EUopbKnplEHEtwpFDYj5gDf+AdyNfeo6guNoxa18Xv3QzrDCEmDTQS8OuQ1FPeC2R8sQgkNEze3s23B3YgCNB1y49GYQ7wH5Ng2PlR/UpwTDO9jfELQPsOVoKSrUghLLJmh4rJU2hLOWPXW91gCbDi1CipNAxf9iPKUeTLWeffXXcgNsOVqKGb40CcZTEFJfmh4JmaxqPOBChVom0ThABSrUQuMBV6JAS1a59Ob0OQ8J+MsYP0MUMDgwOL5JE5ZINy6XI95JLIstbpohMQWbDnqR8iZpq/1vB3xYalq6dPHXS5Ztzv4xl/K1UyBPJIr8mOZT7NtwNzYFDrmNCabawvmV6Jo2fqMBBd8GIJCMaH7cJpKmU0Z8k7GlaUVu1ixdAIBT19n6/mZ0Xefl6tWUTvfk7ugzR0Mo6mk6ZUgivlXY3OGmFblpqluDkLFQTvNM5f6DPvyBAFIKtn3wrjXEiSSEm4hvlYzt7faN/3LtBmfa2gGY7imho6sbgJbvz3Lu/AVriP40CEWNjB8slsp3OTGcGgPD/mTZdE8xnXEAgP7+QQzDoKDAYjklIIZ5VpI60cZVV28fu7/+gVeqnmP5wieTAB23YwArX1hO/Ws17Ny1l1udd6wH7Dfhu8Bi2wAAd+71sfvYOcpKitA1jalTHqOzqweAGeVePt61l47bNown9I9pWORPprrv+ei+50PXNc6cv8iIPzYlXx755lGHAimUJHaZeGSFwxH+vNExka4puYhocYA5Y+sK8gxerywHp4YyNNA1lFMDZ+r4UAqenjMr1UmBDEaQIxFkIIz0R3CMhHG3DUAgnAlgyIAG6jqIqgw4p8bzLy23dMI7u9La0cOHgSwABaJHIjhuOcJkyS2OaGjFrYT7hxi7GwYjaMduQDDzRAzNcBOa6SZUWsBgTz+uwQiFD4IU3s9660KOZPFeEwpX4Wex03DzV1+geDujUXcUTgcgOrq48/B6hlbGrg1tV28CUPGbj+qPrthwO65ZjnY63loUW1FRczvgz2g0wwHr8iB+lEdXlhP8qRbPkmJmmmEeJ8LiMi+Ly7x4187j5slahqvKrY1rQJHYAOlXsncO7QCxNWuHeCSUJx/zmZJksdIEgYejpyivvQ/tfqYvozRbu8CtjSsSLDEFwzvI01dnvQnHIyFO+3GcHT243YdCUiVyGC/rEr+ppN7fEEQ4a4GerB3HTMeE5BImFc4qft44lAkAsKeuF1OtnxSIAhFlnnyVK29cTi+e2MMkR3bkVJHw84S+gssNGWkis7VnT10vgfCLoHZiIztySgPm6q0scJRmMw7/9XGaKxKGUJQ52il0NHL1zd/HG94aIKFcz/M7UQc/BnUK5TCFohunOIFHfZK+0MbTvx9ltLez/h/sAAAAAElFTkSuQmCC) **TODO!**"
   ]
  },
  {
   "cell_type": "markdown",
   "metadata": {},
   "source": [
    "Affichez le dataframe réorienté en \"records\", donc avec une orientation par rangées de la table"
   ]
  },
  {
   "cell_type": "code",
   "execution_count": 3,
   "metadata": {},
   "outputs": [
    {
     "name": "stdout",
     "output_type": "stream",
     "text": [
      "{'Number': 13, 'Name': 'Weedle', 'Type_1': 'Bug', 'Type_2': 'Poison', 'Total': 195, 'HP': 40, 'Attack': 35, 'Defense': 30, 'Sp_Atk': 20, 'Sp_Def': 20, 'Speed': 50, 'Generation': 1, 'isLegendary': False, 'Color': 'Brown', 'hasGender': True, 'Pr_Male': 0.5, 'Egg_Group_1': 'Bug', 'Egg_Group_2': None, 'hasMegaEvolution': False, 'Height_m': 0.30000000000000004, 'Weight_kg': 3.2, 'Catch_Rate': 255, 'Body_Style': 'serpentine_body'}\n"
     ]
    }
   ],
   "source": [
    "records = df.to_dict(orient = \"records\")\n",
    "\n",
    "print(records[12])"
   ]
  },
  {
   "cell_type": "markdown",
   "metadata": {},
   "source": [
    "#### ![programming(3).png](data:image/png;base64,iVBORw0KGgoAAAANSUhEUgAAACAAAAAgCAYAAABzenr0AAAABHNCSVQICAgIfAhkiAAAAAlwSFlzAAAA3QAAAN0BcFOiBwAAABl0RVh0U29mdHdhcmUAd3d3Lmlua3NjYXBlLm9yZ5vuPBoAAAR7SURBVFiFtZdvaFVlHMc/z3PPuefuz825XWV3m5mWU1MLSVEyRoqKk2iLWBCT2uyFpTSIoCCHL0SDXkgUavhKCU3EpGmlorYSShtWig6M1M25gVPb3da2e6/3z3l6cf9u996d42pfOC/O8+/3+f2e5/f8EUopbKnplEHEtwpFDYj5gDf+AdyNfeo6guNoxa18Xv3QzrDCEmDTQS8OuQ1FPeC2R8sQgkNEze3s23B3YgCNB1y49GYQ7wH5Ng2PlR/UpwTDO9jfELQPsOVoKSrUghLLJmh4rJU2hLOWPXW91gCbDi1CipNAxf9iPKUeTLWeffXXcgNsOVqKGb40CcZTEFJfmh4JmaxqPOBChVom0ThABSrUQuMBV6JAS1a59Ob0OQ8J+MsYP0MUMDgwOL5JE5ZINy6XI95JLIstbpohMQWbDnqR8iZpq/1vB3xYalq6dPHXS5Ztzv4xl/K1UyBPJIr8mOZT7NtwNzYFDrmNCabawvmV6Jo2fqMBBd8GIJCMaH7cJpKmU0Z8k7GlaUVu1ixdAIBT19n6/mZ0Xefl6tWUTvfk7ugzR0Mo6mk6ZUgivlXY3OGmFblpqluDkLFQTvNM5f6DPvyBAFIKtn3wrjXEiSSEm4hvlYzt7faN/3LtBmfa2gGY7imho6sbgJbvz3Lu/AVriP40CEWNjB8slsp3OTGcGgPD/mTZdE8xnXEAgP7+QQzDoKDAYjklIIZ5VpI60cZVV28fu7/+gVeqnmP5wieTAB23YwArX1hO/Ws17Ny1l1udd6wH7Dfhu8Bi2wAAd+71sfvYOcpKitA1jalTHqOzqweAGeVePt61l47bNown9I9pWORPprrv+ei+50PXNc6cv8iIPzYlXx755lGHAimUJHaZeGSFwxH+vNExka4puYhocYA5Y+sK8gxerywHp4YyNNA1lFMDZ+r4UAqenjMr1UmBDEaQIxFkIIz0R3CMhHG3DUAgnAlgyIAG6jqIqgw4p8bzLy23dMI7u9La0cOHgSwABaJHIjhuOcJkyS2OaGjFrYT7hxi7GwYjaMduQDDzRAzNcBOa6SZUWsBgTz+uwQiFD4IU3s9660KOZPFeEwpX4Wex03DzV1+geDujUXcUTgcgOrq48/B6hlbGrg1tV28CUPGbj+qPrthwO65ZjnY63loUW1FRczvgz2g0wwHr8iB+lEdXlhP8qRbPkmJmmmEeJ8LiMi+Ly7x4187j5slahqvKrY1rQJHYAOlXsncO7QCxNWuHeCSUJx/zmZJksdIEgYejpyivvQ/tfqYvozRbu8CtjSsSLDEFwzvI01dnvQnHIyFO+3GcHT243YdCUiVyGC/rEr+ppN7fEEQ4a4GerB3HTMeE5BImFc4qft44lAkAsKeuF1OtnxSIAhFlnnyVK29cTi+e2MMkR3bkVJHw84S+gssNGWkis7VnT10vgfCLoHZiIztySgPm6q0scJRmMw7/9XGaKxKGUJQ52il0NHL1zd/HG94aIKFcz/M7UQc/BnUK5TCFohunOIFHfZK+0MbTvx9ltLez/h/sAAAAAElFTkSuQmCC) **TODO!**"
   ]
  },
  {
   "cell_type": "markdown",
   "metadata": {},
   "source": [
    "Connectez votre client mongodb à votre service mongodb en localhost. Puis créez la base de données `but3` et sa collection `pokemons`.\n",
    "\n",
    "💡 Astuces :\n",
    "- La documentation de pymongo : https://pymongo.readthedocs.io/en/stable/genindex.html"
   ]
  },
  {
   "cell_type": "code",
   "execution_count": 4,
   "metadata": {},
   "outputs": [],
   "source": [
    "from pymongo import MongoClient\n",
    "\n",
    "client = MongoClient('localhost', 27017)\n",
    "db = client['but3']\n",
    "pokemons_coll = db['pokemons']"
   ]
  },
  {
   "cell_type": "markdown",
   "metadata": {},
   "source": [
    "#### ![programming(3).png](data:image/png;base64,iVBORw0KGgoAAAANSUhEUgAAACAAAAAgCAYAAABzenr0AAAABHNCSVQICAgIfAhkiAAAAAlwSFlzAAAA3QAAAN0BcFOiBwAAABl0RVh0U29mdHdhcmUAd3d3Lmlua3NjYXBlLm9yZ5vuPBoAAAR7SURBVFiFtZdvaFVlHMc/z3PPuefuz825XWV3m5mWU1MLSVEyRoqKk2iLWBCT2uyFpTSIoCCHL0SDXkgUavhKCU3EpGmlorYSShtWig6M1M25gVPb3da2e6/3z3l6cf9u996d42pfOC/O8+/3+f2e5/f8EUopbKnplEHEtwpFDYj5gDf+AdyNfeo6guNoxa18Xv3QzrDCEmDTQS8OuQ1FPeC2R8sQgkNEze3s23B3YgCNB1y49GYQ7wH5Ng2PlR/UpwTDO9jfELQPsOVoKSrUghLLJmh4rJU2hLOWPXW91gCbDi1CipNAxf9iPKUeTLWeffXXcgNsOVqKGb40CcZTEFJfmh4JmaxqPOBChVom0ThABSrUQuMBV6JAS1a59Ob0OQ8J+MsYP0MUMDgwOL5JE5ZINy6XI95JLIstbpohMQWbDnqR8iZpq/1vB3xYalq6dPHXS5Ztzv4xl/K1UyBPJIr8mOZT7NtwNzYFDrmNCabawvmV6Jo2fqMBBd8GIJCMaH7cJpKmU0Z8k7GlaUVu1ixdAIBT19n6/mZ0Xefl6tWUTvfk7ugzR0Mo6mk6ZUgivlXY3OGmFblpqluDkLFQTvNM5f6DPvyBAFIKtn3wrjXEiSSEm4hvlYzt7faN/3LtBmfa2gGY7imho6sbgJbvz3Lu/AVriP40CEWNjB8slsp3OTGcGgPD/mTZdE8xnXEAgP7+QQzDoKDAYjklIIZ5VpI60cZVV28fu7/+gVeqnmP5wieTAB23YwArX1hO/Ws17Ny1l1udd6wH7Dfhu8Bi2wAAd+71sfvYOcpKitA1jalTHqOzqweAGeVePt61l47bNown9I9pWORPprrv+ei+50PXNc6cv8iIPzYlXx755lGHAimUJHaZeGSFwxH+vNExka4puYhocYA5Y+sK8gxerywHp4YyNNA1lFMDZ+r4UAqenjMr1UmBDEaQIxFkIIz0R3CMhHG3DUAgnAlgyIAG6jqIqgw4p8bzLy23dMI7u9La0cOHgSwABaJHIjhuOcJkyS2OaGjFrYT7hxi7GwYjaMduQDDzRAzNcBOa6SZUWsBgTz+uwQiFD4IU3s9660KOZPFeEwpX4Wex03DzV1+geDujUXcUTgcgOrq48/B6hlbGrg1tV28CUPGbj+qPrthwO65ZjnY63loUW1FRczvgz2g0wwHr8iB+lEdXlhP8qRbPkmJmmmEeJ8LiMi+Ly7x4187j5slahqvKrY1rQJHYAOlXsncO7QCxNWuHeCSUJx/zmZJksdIEgYejpyivvQ/tfqYvozRbu8CtjSsSLDEFwzvI01dnvQnHIyFO+3GcHT243YdCUiVyGC/rEr+ppN7fEEQ4a4GerB3HTMeE5BImFc4qft44lAkAsKeuF1OtnxSIAhFlnnyVK29cTi+e2MMkR3bkVJHw84S+gssNGWkis7VnT10vgfCLoHZiIztySgPm6q0scJRmMw7/9XGaKxKGUJQ52il0NHL1zd/HG94aIKFcz/M7UQc/BnUK5TCFohunOIFHfZK+0MbTvx9ltLez/h/sAAAAAElFTkSuQmCC) **TODO!**"
   ]
  },
  {
   "cell_type": "markdown",
   "metadata": {},
   "source": [
    "Insérez-y directement la liste des pokemons (représentés chacun par un dictionnaire -- l'orientation `records`).\n",
    "\n",
    "💡 Astuces :\n",
    "- n'oubliez pas de récupérer le résultat de l'insertion\n"
   ]
  },
  {
   "cell_type": "code",
   "execution_count": 5,
   "metadata": {},
   "outputs": [
    {
     "name": "stdout",
     "output_type": "stream",
     "text": [
      "InsertManyResult([ObjectId('68e4be68be35b60359707423'), ObjectId('68e4be68be35b60359707424'), ObjectId('68e4be68be35b60359707425'), ObjectId('68e4be68be35b60359707426'), ObjectId('68e4be68be35b60359707427'), ObjectId('68e4be68be35b60359707428'), ObjectId('68e4be68be35b60359707429'), ObjectId('68e4be68be35b6035970742a'), ObjectId('68e4be68be35b6035970742b'), ObjectId('68e4be68be35b6035970742c'), ObjectId('68e4be68be35b6035970742d'), ObjectId('68e4be68be35b6035970742e'), ObjectId('68e4be68be35b6035970742f'), ObjectId('68e4be68be35b60359707430'), ObjectId('68e4be68be35b60359707431'), ObjectId('68e4be68be35b60359707432'), ObjectId('68e4be68be35b60359707433'), ObjectId('68e4be68be35b60359707434'), ObjectId('68e4be68be35b60359707435'), ObjectId('68e4be68be35b60359707436'), ObjectId('68e4be68be35b60359707437'), ObjectId('68e4be68be35b60359707438'), ObjectId('68e4be68be35b60359707439'), ObjectId('68e4be68be35b6035970743a'), ObjectId('68e4be68be35b6035970743b'), ObjectId('68e4be68be35b6035970743c'), ObjectId('68e4be68be35b6035970743d'), ObjectId('68e4be68be35b6035970743e'), ObjectId('68e4be68be35b6035970743f'), ObjectId('68e4be68be35b60359707440'), ObjectId('68e4be68be35b60359707441'), ObjectId('68e4be68be35b60359707442'), ObjectId('68e4be68be35b60359707443'), ObjectId('68e4be68be35b60359707444'), ObjectId('68e4be68be35b60359707445'), ObjectId('68e4be68be35b60359707446'), ObjectId('68e4be68be35b60359707447'), ObjectId('68e4be68be35b60359707448'), ObjectId('68e4be68be35b60359707449'), ObjectId('68e4be68be35b6035970744a'), ObjectId('68e4be68be35b6035970744b'), ObjectId('68e4be68be35b6035970744c'), ObjectId('68e4be68be35b6035970744d'), ObjectId('68e4be68be35b6035970744e'), ObjectId('68e4be68be35b6035970744f'), ObjectId('68e4be68be35b60359707450'), ObjectId('68e4be68be35b60359707451'), ObjectId('68e4be68be35b60359707452'), ObjectId('68e4be68be35b60359707453'), ObjectId('68e4be68be35b60359707454'), ObjectId('68e4be68be35b60359707455'), ObjectId('68e4be68be35b60359707456'), ObjectId('68e4be68be35b60359707457'), ObjectId('68e4be68be35b60359707458'), ObjectId('68e4be68be35b60359707459'), ObjectId('68e4be68be35b6035970745a'), ObjectId('68e4be68be35b6035970745b'), ObjectId('68e4be68be35b6035970745c'), ObjectId('68e4be68be35b6035970745d'), ObjectId('68e4be68be35b6035970745e'), ObjectId('68e4be68be35b6035970745f'), ObjectId('68e4be68be35b60359707460'), ObjectId('68e4be68be35b60359707461'), ObjectId('68e4be68be35b60359707462'), ObjectId('68e4be68be35b60359707463'), ObjectId('68e4be68be35b60359707464'), ObjectId('68e4be68be35b60359707465'), ObjectId('68e4be68be35b60359707466'), ObjectId('68e4be68be35b60359707467'), ObjectId('68e4be68be35b60359707468'), ObjectId('68e4be68be35b60359707469'), ObjectId('68e4be68be35b6035970746a'), ObjectId('68e4be68be35b6035970746b'), ObjectId('68e4be68be35b6035970746c'), ObjectId('68e4be68be35b6035970746d'), ObjectId('68e4be68be35b6035970746e'), ObjectId('68e4be68be35b6035970746f'), ObjectId('68e4be68be35b60359707470'), ObjectId('68e4be68be35b60359707471'), ObjectId('68e4be68be35b60359707472'), ObjectId('68e4be68be35b60359707473'), ObjectId('68e4be68be35b60359707474'), ObjectId('68e4be68be35b60359707475'), ObjectId('68e4be68be35b60359707476'), ObjectId('68e4be68be35b60359707477'), ObjectId('68e4be68be35b60359707478'), ObjectId('68e4be68be35b60359707479'), ObjectId('68e4be68be35b6035970747a'), ObjectId('68e4be68be35b6035970747b'), ObjectId('68e4be68be35b6035970747c'), ObjectId('68e4be68be35b6035970747d'), ObjectId('68e4be68be35b6035970747e'), ObjectId('68e4be68be35b6035970747f'), ObjectId('68e4be68be35b60359707480'), ObjectId('68e4be68be35b60359707481'), ObjectId('68e4be68be35b60359707482'), ObjectId('68e4be68be35b60359707483'), ObjectId('68e4be68be35b60359707484'), ObjectId('68e4be68be35b60359707485'), ObjectId('68e4be68be35b60359707486'), ObjectId('68e4be68be35b60359707487'), ObjectId('68e4be68be35b60359707488'), ObjectId('68e4be68be35b60359707489'), ObjectId('68e4be68be35b6035970748a'), ObjectId('68e4be68be35b6035970748b'), ObjectId('68e4be68be35b6035970748c'), ObjectId('68e4be68be35b6035970748d'), ObjectId('68e4be68be35b6035970748e'), ObjectId('68e4be68be35b6035970748f'), ObjectId('68e4be68be35b60359707490'), ObjectId('68e4be68be35b60359707491'), ObjectId('68e4be68be35b60359707492'), ObjectId('68e4be68be35b60359707493'), ObjectId('68e4be68be35b60359707494'), ObjectId('68e4be68be35b60359707495'), ObjectId('68e4be68be35b60359707496'), ObjectId('68e4be68be35b60359707497'), ObjectId('68e4be68be35b60359707498'), ObjectId('68e4be68be35b60359707499'), ObjectId('68e4be68be35b6035970749a'), ObjectId('68e4be68be35b6035970749b'), ObjectId('68e4be68be35b6035970749c'), ObjectId('68e4be68be35b6035970749d'), ObjectId('68e4be68be35b6035970749e'), ObjectId('68e4be68be35b6035970749f'), ObjectId('68e4be68be35b603597074a0'), ObjectId('68e4be68be35b603597074a1'), ObjectId('68e4be68be35b603597074a2'), ObjectId('68e4be68be35b603597074a3'), ObjectId('68e4be68be35b603597074a4'), ObjectId('68e4be68be35b603597074a5'), ObjectId('68e4be68be35b603597074a6'), ObjectId('68e4be68be35b603597074a7'), ObjectId('68e4be68be35b603597074a8'), ObjectId('68e4be68be35b603597074a9'), ObjectId('68e4be68be35b603597074aa'), ObjectId('68e4be68be35b603597074ab'), ObjectId('68e4be68be35b603597074ac'), ObjectId('68e4be68be35b603597074ad'), ObjectId('68e4be68be35b603597074ae'), ObjectId('68e4be68be35b603597074af'), ObjectId('68e4be68be35b603597074b0'), ObjectId('68e4be68be35b603597074b1'), ObjectId('68e4be68be35b603597074b2'), ObjectId('68e4be68be35b603597074b3'), ObjectId('68e4be68be35b603597074b4'), ObjectId('68e4be68be35b603597074b5'), ObjectId('68e4be68be35b603597074b6'), ObjectId('68e4be68be35b603597074b7'), ObjectId('68e4be68be35b603597074b8'), ObjectId('68e4be68be35b603597074b9'), ObjectId('68e4be68be35b603597074ba'), ObjectId('68e4be68be35b603597074bb'), ObjectId('68e4be68be35b603597074bc'), ObjectId('68e4be68be35b603597074bd'), ObjectId('68e4be68be35b603597074be'), ObjectId('68e4be68be35b603597074bf'), ObjectId('68e4be68be35b603597074c0'), ObjectId('68e4be68be35b603597074c1'), ObjectId('68e4be68be35b603597074c2'), ObjectId('68e4be68be35b603597074c3'), ObjectId('68e4be68be35b603597074c4'), ObjectId('68e4be68be35b603597074c5'), ObjectId('68e4be68be35b603597074c6'), ObjectId('68e4be68be35b603597074c7'), ObjectId('68e4be68be35b603597074c8'), ObjectId('68e4be68be35b603597074c9'), ObjectId('68e4be68be35b603597074ca'), ObjectId('68e4be68be35b603597074cb'), ObjectId('68e4be68be35b603597074cc'), ObjectId('68e4be68be35b603597074cd'), ObjectId('68e4be68be35b603597074ce'), ObjectId('68e4be68be35b603597074cf'), ObjectId('68e4be68be35b603597074d0'), ObjectId('68e4be68be35b603597074d1'), ObjectId('68e4be68be35b603597074d2'), ObjectId('68e4be68be35b603597074d3'), ObjectId('68e4be68be35b603597074d4'), ObjectId('68e4be68be35b603597074d5'), ObjectId('68e4be68be35b603597074d6'), ObjectId('68e4be68be35b603597074d7'), ObjectId('68e4be68be35b603597074d8'), ObjectId('68e4be68be35b603597074d9'), ObjectId('68e4be68be35b603597074da'), ObjectId('68e4be68be35b603597074db'), ObjectId('68e4be68be35b603597074dc'), ObjectId('68e4be68be35b603597074dd'), ObjectId('68e4be68be35b603597074de'), ObjectId('68e4be68be35b603597074df'), ObjectId('68e4be68be35b603597074e0'), ObjectId('68e4be68be35b603597074e1'), ObjectId('68e4be68be35b603597074e2'), ObjectId('68e4be68be35b603597074e3'), ObjectId('68e4be68be35b603597074e4'), ObjectId('68e4be68be35b603597074e5'), ObjectId('68e4be68be35b603597074e6'), ObjectId('68e4be68be35b603597074e7'), ObjectId('68e4be68be35b603597074e8'), ObjectId('68e4be68be35b603597074e9'), ObjectId('68e4be68be35b603597074ea'), ObjectId('68e4be68be35b603597074eb'), ObjectId('68e4be68be35b603597074ec'), ObjectId('68e4be68be35b603597074ed'), ObjectId('68e4be68be35b603597074ee'), ObjectId('68e4be68be35b603597074ef'), ObjectId('68e4be68be35b603597074f0'), ObjectId('68e4be68be35b603597074f1'), ObjectId('68e4be68be35b603597074f2'), ObjectId('68e4be68be35b603597074f3'), ObjectId('68e4be68be35b603597074f4'), ObjectId('68e4be68be35b603597074f5'), ObjectId('68e4be68be35b603597074f6'), ObjectId('68e4be68be35b603597074f7'), ObjectId('68e4be68be35b603597074f8'), ObjectId('68e4be68be35b603597074f9'), ObjectId('68e4be68be35b603597074fa'), ObjectId('68e4be68be35b603597074fb'), ObjectId('68e4be68be35b603597074fc'), ObjectId('68e4be68be35b603597074fd'), ObjectId('68e4be68be35b603597074fe'), ObjectId('68e4be68be35b603597074ff'), ObjectId('68e4be68be35b60359707500'), ObjectId('68e4be68be35b60359707501'), ObjectId('68e4be68be35b60359707502'), ObjectId('68e4be68be35b60359707503'), ObjectId('68e4be68be35b60359707504'), ObjectId('68e4be68be35b60359707505'), ObjectId('68e4be68be35b60359707506'), ObjectId('68e4be68be35b60359707507'), ObjectId('68e4be68be35b60359707508'), ObjectId('68e4be68be35b60359707509'), ObjectId('68e4be68be35b6035970750a'), ObjectId('68e4be68be35b6035970750b'), ObjectId('68e4be68be35b6035970750c'), ObjectId('68e4be68be35b6035970750d'), ObjectId('68e4be68be35b6035970750e'), ObjectId('68e4be68be35b6035970750f'), ObjectId('68e4be68be35b60359707510'), ObjectId('68e4be68be35b60359707511'), ObjectId('68e4be68be35b60359707512'), ObjectId('68e4be68be35b60359707513'), ObjectId('68e4be68be35b60359707514'), ObjectId('68e4be68be35b60359707515'), ObjectId('68e4be68be35b60359707516'), ObjectId('68e4be68be35b60359707517'), ObjectId('68e4be68be35b60359707518'), ObjectId('68e4be68be35b60359707519'), ObjectId('68e4be68be35b6035970751a'), ObjectId('68e4be68be35b6035970751b'), ObjectId('68e4be68be35b6035970751c'), ObjectId('68e4be68be35b6035970751d'), ObjectId('68e4be68be35b6035970751e'), ObjectId('68e4be68be35b6035970751f'), ObjectId('68e4be68be35b60359707520'), ObjectId('68e4be68be35b60359707521'), ObjectId('68e4be68be35b60359707522'), ObjectId('68e4be68be35b60359707523'), ObjectId('68e4be68be35b60359707524'), ObjectId('68e4be68be35b60359707525'), ObjectId('68e4be68be35b60359707526'), ObjectId('68e4be68be35b60359707527'), ObjectId('68e4be68be35b60359707528'), ObjectId('68e4be68be35b60359707529'), ObjectId('68e4be68be35b6035970752a'), ObjectId('68e4be68be35b6035970752b'), ObjectId('68e4be68be35b6035970752c'), ObjectId('68e4be68be35b6035970752d'), ObjectId('68e4be68be35b6035970752e'), ObjectId('68e4be68be35b6035970752f'), ObjectId('68e4be68be35b60359707530'), ObjectId('68e4be68be35b60359707531'), ObjectId('68e4be68be35b60359707532'), ObjectId('68e4be68be35b60359707533'), ObjectId('68e4be68be35b60359707534'), ObjectId('68e4be68be35b60359707535'), ObjectId('68e4be68be35b60359707536'), ObjectId('68e4be68be35b60359707537'), ObjectId('68e4be68be35b60359707538'), ObjectId('68e4be68be35b60359707539'), ObjectId('68e4be68be35b6035970753a'), ObjectId('68e4be68be35b6035970753b'), ObjectId('68e4be68be35b6035970753c'), ObjectId('68e4be68be35b6035970753d'), ObjectId('68e4be68be35b6035970753e'), ObjectId('68e4be68be35b6035970753f'), ObjectId('68e4be68be35b60359707540'), ObjectId('68e4be68be35b60359707541'), ObjectId('68e4be68be35b60359707542'), ObjectId('68e4be68be35b60359707543'), ObjectId('68e4be68be35b60359707544'), ObjectId('68e4be68be35b60359707545'), ObjectId('68e4be68be35b60359707546'), ObjectId('68e4be68be35b60359707547'), ObjectId('68e4be68be35b60359707548'), ObjectId('68e4be68be35b60359707549'), ObjectId('68e4be68be35b6035970754a'), ObjectId('68e4be68be35b6035970754b'), ObjectId('68e4be68be35b6035970754c'), ObjectId('68e4be68be35b6035970754d'), ObjectId('68e4be68be35b6035970754e'), ObjectId('68e4be68be35b6035970754f'), ObjectId('68e4be68be35b60359707550'), ObjectId('68e4be68be35b60359707551'), ObjectId('68e4be68be35b60359707552'), ObjectId('68e4be68be35b60359707553'), ObjectId('68e4be68be35b60359707554'), ObjectId('68e4be68be35b60359707555'), ObjectId('68e4be68be35b60359707556'), ObjectId('68e4be68be35b60359707557'), ObjectId('68e4be68be35b60359707558'), ObjectId('68e4be68be35b60359707559'), ObjectId('68e4be68be35b6035970755a'), ObjectId('68e4be68be35b6035970755b'), ObjectId('68e4be68be35b6035970755c'), ObjectId('68e4be68be35b6035970755d'), ObjectId('68e4be68be35b6035970755e'), ObjectId('68e4be68be35b6035970755f'), ObjectId('68e4be68be35b60359707560'), ObjectId('68e4be68be35b60359707561'), ObjectId('68e4be68be35b60359707562'), ObjectId('68e4be68be35b60359707563'), ObjectId('68e4be68be35b60359707564'), ObjectId('68e4be68be35b60359707565'), ObjectId('68e4be68be35b60359707566'), ObjectId('68e4be68be35b60359707567'), ObjectId('68e4be68be35b60359707568'), ObjectId('68e4be68be35b60359707569'), ObjectId('68e4be68be35b6035970756a'), ObjectId('68e4be68be35b6035970756b'), ObjectId('68e4be68be35b6035970756c'), ObjectId('68e4be68be35b6035970756d'), ObjectId('68e4be68be35b6035970756e'), ObjectId('68e4be68be35b6035970756f'), ObjectId('68e4be68be35b60359707570'), ObjectId('68e4be68be35b60359707571'), ObjectId('68e4be68be35b60359707572'), ObjectId('68e4be68be35b60359707573'), ObjectId('68e4be68be35b60359707574'), ObjectId('68e4be68be35b60359707575'), ObjectId('68e4be68be35b60359707576'), ObjectId('68e4be68be35b60359707577'), ObjectId('68e4be68be35b60359707578'), ObjectId('68e4be68be35b60359707579'), ObjectId('68e4be68be35b6035970757a'), ObjectId('68e4be68be35b6035970757b'), ObjectId('68e4be68be35b6035970757c'), ObjectId('68e4be68be35b6035970757d'), ObjectId('68e4be68be35b6035970757e'), ObjectId('68e4be68be35b6035970757f'), ObjectId('68e4be68be35b60359707580'), ObjectId('68e4be68be35b60359707581'), ObjectId('68e4be68be35b60359707582'), ObjectId('68e4be68be35b60359707583'), ObjectId('68e4be68be35b60359707584'), ObjectId('68e4be68be35b60359707585'), ObjectId('68e4be68be35b60359707586'), ObjectId('68e4be68be35b60359707587'), ObjectId('68e4be68be35b60359707588'), ObjectId('68e4be68be35b60359707589'), ObjectId('68e4be68be35b6035970758a'), ObjectId('68e4be68be35b6035970758b'), ObjectId('68e4be68be35b6035970758c'), ObjectId('68e4be68be35b6035970758d'), ObjectId('68e4be68be35b6035970758e'), ObjectId('68e4be68be35b6035970758f'), ObjectId('68e4be68be35b60359707590'), ObjectId('68e4be68be35b60359707591'), ObjectId('68e4be68be35b60359707592'), ObjectId('68e4be68be35b60359707593'), ObjectId('68e4be68be35b60359707594'), ObjectId('68e4be68be35b60359707595'), ObjectId('68e4be68be35b60359707596'), ObjectId('68e4be68be35b60359707597'), ObjectId('68e4be68be35b60359707598'), ObjectId('68e4be68be35b60359707599'), ObjectId('68e4be68be35b6035970759a'), ObjectId('68e4be68be35b6035970759b'), ObjectId('68e4be68be35b6035970759c'), ObjectId('68e4be68be35b6035970759d'), ObjectId('68e4be68be35b6035970759e'), ObjectId('68e4be68be35b6035970759f'), ObjectId('68e4be68be35b603597075a0'), ObjectId('68e4be68be35b603597075a1'), ObjectId('68e4be68be35b603597075a2'), ObjectId('68e4be68be35b603597075a3'), ObjectId('68e4be68be35b603597075a4'), ObjectId('68e4be68be35b603597075a5'), ObjectId('68e4be68be35b603597075a6'), ObjectId('68e4be68be35b603597075a7'), ObjectId('68e4be68be35b603597075a8'), ObjectId('68e4be68be35b603597075a9'), ObjectId('68e4be68be35b603597075aa'), ObjectId('68e4be68be35b603597075ab'), ObjectId('68e4be68be35b603597075ac'), ObjectId('68e4be68be35b603597075ad'), ObjectId('68e4be68be35b603597075ae'), ObjectId('68e4be68be35b603597075af'), ObjectId('68e4be68be35b603597075b0'), ObjectId('68e4be68be35b603597075b1'), ObjectId('68e4be68be35b603597075b2'), ObjectId('68e4be68be35b603597075b3'), ObjectId('68e4be68be35b603597075b4'), ObjectId('68e4be68be35b603597075b5'), ObjectId('68e4be68be35b603597075b6'), ObjectId('68e4be68be35b603597075b7'), ObjectId('68e4be68be35b603597075b8'), ObjectId('68e4be68be35b603597075b9'), ObjectId('68e4be68be35b603597075ba'), ObjectId('68e4be68be35b603597075bb'), ObjectId('68e4be68be35b603597075bc'), ObjectId('68e4be68be35b603597075bd'), ObjectId('68e4be68be35b603597075be'), ObjectId('68e4be68be35b603597075bf'), ObjectId('68e4be68be35b603597075c0'), ObjectId('68e4be68be35b603597075c1'), ObjectId('68e4be68be35b603597075c2'), ObjectId('68e4be68be35b603597075c3'), ObjectId('68e4be68be35b603597075c4'), ObjectId('68e4be68be35b603597075c5'), ObjectId('68e4be68be35b603597075c6'), ObjectId('68e4be68be35b603597075c7'), ObjectId('68e4be68be35b603597075c8'), ObjectId('68e4be68be35b603597075c9'), ObjectId('68e4be68be35b603597075ca'), ObjectId('68e4be68be35b603597075cb'), ObjectId('68e4be68be35b603597075cc'), ObjectId('68e4be68be35b603597075cd'), ObjectId('68e4be68be35b603597075ce'), ObjectId('68e4be68be35b603597075cf'), ObjectId('68e4be68be35b603597075d0'), ObjectId('68e4be68be35b603597075d1'), ObjectId('68e4be68be35b603597075d2'), ObjectId('68e4be68be35b603597075d3'), ObjectId('68e4be68be35b603597075d4'), ObjectId('68e4be68be35b603597075d5'), ObjectId('68e4be68be35b603597075d6'), ObjectId('68e4be68be35b603597075d7'), ObjectId('68e4be68be35b603597075d8'), ObjectId('68e4be68be35b603597075d9'), ObjectId('68e4be68be35b603597075da'), ObjectId('68e4be68be35b603597075db'), ObjectId('68e4be68be35b603597075dc'), ObjectId('68e4be68be35b603597075dd'), ObjectId('68e4be68be35b603597075de'), ObjectId('68e4be68be35b603597075df'), ObjectId('68e4be68be35b603597075e0'), ObjectId('68e4be68be35b603597075e1'), ObjectId('68e4be68be35b603597075e2'), ObjectId('68e4be68be35b603597075e3'), ObjectId('68e4be68be35b603597075e4'), ObjectId('68e4be68be35b603597075e5'), ObjectId('68e4be68be35b603597075e6'), ObjectId('68e4be68be35b603597075e7'), ObjectId('68e4be68be35b603597075e8'), ObjectId('68e4be68be35b603597075e9'), ObjectId('68e4be68be35b603597075ea'), ObjectId('68e4be68be35b603597075eb'), ObjectId('68e4be68be35b603597075ec'), ObjectId('68e4be68be35b603597075ed'), ObjectId('68e4be68be35b603597075ee'), ObjectId('68e4be68be35b603597075ef'), ObjectId('68e4be68be35b603597075f0'), ObjectId('68e4be68be35b603597075f1'), ObjectId('68e4be68be35b603597075f2'), ObjectId('68e4be68be35b603597075f3'), ObjectId('68e4be68be35b603597075f4'), ObjectId('68e4be68be35b603597075f5'), ObjectId('68e4be68be35b603597075f6'), ObjectId('68e4be68be35b603597075f7'), ObjectId('68e4be68be35b603597075f8'), ObjectId('68e4be68be35b603597075f9'), ObjectId('68e4be68be35b603597075fa'), ObjectId('68e4be68be35b603597075fb'), ObjectId('68e4be68be35b603597075fc'), ObjectId('68e4be68be35b603597075fd'), ObjectId('68e4be68be35b603597075fe'), ObjectId('68e4be68be35b603597075ff'), ObjectId('68e4be68be35b60359707600'), ObjectId('68e4be68be35b60359707601'), ObjectId('68e4be68be35b60359707602'), ObjectId('68e4be68be35b60359707603'), ObjectId('68e4be68be35b60359707604'), ObjectId('68e4be68be35b60359707605'), ObjectId('68e4be68be35b60359707606'), ObjectId('68e4be68be35b60359707607'), ObjectId('68e4be68be35b60359707608'), ObjectId('68e4be68be35b60359707609'), ObjectId('68e4be68be35b6035970760a'), ObjectId('68e4be68be35b6035970760b'), ObjectId('68e4be68be35b6035970760c'), ObjectId('68e4be68be35b6035970760d'), ObjectId('68e4be68be35b6035970760e'), ObjectId('68e4be68be35b6035970760f'), ObjectId('68e4be68be35b60359707610'), ObjectId('68e4be68be35b60359707611'), ObjectId('68e4be68be35b60359707612'), ObjectId('68e4be68be35b60359707613'), ObjectId('68e4be68be35b60359707614'), ObjectId('68e4be68be35b60359707615'), ObjectId('68e4be68be35b60359707616'), ObjectId('68e4be68be35b60359707617'), ObjectId('68e4be68be35b60359707618'), ObjectId('68e4be68be35b60359707619'), ObjectId('68e4be68be35b6035970761a'), ObjectId('68e4be68be35b6035970761b'), ObjectId('68e4be68be35b6035970761c'), ObjectId('68e4be68be35b6035970761d'), ObjectId('68e4be68be35b6035970761e'), ObjectId('68e4be68be35b6035970761f'), ObjectId('68e4be68be35b60359707620'), ObjectId('68e4be68be35b60359707621'), ObjectId('68e4be68be35b60359707622'), ObjectId('68e4be68be35b60359707623'), ObjectId('68e4be68be35b60359707624'), ObjectId('68e4be68be35b60359707625'), ObjectId('68e4be68be35b60359707626'), ObjectId('68e4be68be35b60359707627'), ObjectId('68e4be68be35b60359707628'), ObjectId('68e4be68be35b60359707629'), ObjectId('68e4be68be35b6035970762a'), ObjectId('68e4be68be35b6035970762b'), ObjectId('68e4be68be35b6035970762c'), ObjectId('68e4be68be35b6035970762d'), ObjectId('68e4be68be35b6035970762e'), ObjectId('68e4be68be35b6035970762f'), ObjectId('68e4be68be35b60359707630'), ObjectId('68e4be68be35b60359707631'), ObjectId('68e4be68be35b60359707632'), ObjectId('68e4be68be35b60359707633'), ObjectId('68e4be68be35b60359707634'), ObjectId('68e4be68be35b60359707635'), ObjectId('68e4be68be35b60359707636'), ObjectId('68e4be68be35b60359707637'), ObjectId('68e4be68be35b60359707638'), ObjectId('68e4be68be35b60359707639'), ObjectId('68e4be68be35b6035970763a'), ObjectId('68e4be68be35b6035970763b'), ObjectId('68e4be68be35b6035970763c'), ObjectId('68e4be68be35b6035970763d'), ObjectId('68e4be68be35b6035970763e'), ObjectId('68e4be68be35b6035970763f'), ObjectId('68e4be68be35b60359707640'), ObjectId('68e4be68be35b60359707641'), ObjectId('68e4be68be35b60359707642'), ObjectId('68e4be68be35b60359707643'), ObjectId('68e4be68be35b60359707644'), ObjectId('68e4be68be35b60359707645'), ObjectId('68e4be68be35b60359707646'), ObjectId('68e4be68be35b60359707647'), ObjectId('68e4be68be35b60359707648'), ObjectId('68e4be68be35b60359707649'), ObjectId('68e4be68be35b6035970764a'), ObjectId('68e4be68be35b6035970764b'), ObjectId('68e4be68be35b6035970764c'), ObjectId('68e4be68be35b6035970764d'), ObjectId('68e4be68be35b6035970764e'), ObjectId('68e4be68be35b6035970764f'), ObjectId('68e4be68be35b60359707650'), ObjectId('68e4be68be35b60359707651'), ObjectId('68e4be68be35b60359707652'), ObjectId('68e4be68be35b60359707653'), ObjectId('68e4be68be35b60359707654'), ObjectId('68e4be68be35b60359707655'), ObjectId('68e4be68be35b60359707656'), ObjectId('68e4be68be35b60359707657'), ObjectId('68e4be68be35b60359707658'), ObjectId('68e4be68be35b60359707659'), ObjectId('68e4be68be35b6035970765a'), ObjectId('68e4be68be35b6035970765b'), ObjectId('68e4be68be35b6035970765c'), ObjectId('68e4be68be35b6035970765d'), ObjectId('68e4be68be35b6035970765e'), ObjectId('68e4be68be35b6035970765f'), ObjectId('68e4be68be35b60359707660'), ObjectId('68e4be68be35b60359707661'), ObjectId('68e4be68be35b60359707662'), ObjectId('68e4be68be35b60359707663'), ObjectId('68e4be68be35b60359707664'), ObjectId('68e4be68be35b60359707665'), ObjectId('68e4be68be35b60359707666'), ObjectId('68e4be68be35b60359707667'), ObjectId('68e4be68be35b60359707668'), ObjectId('68e4be68be35b60359707669'), ObjectId('68e4be68be35b6035970766a'), ObjectId('68e4be68be35b6035970766b'), ObjectId('68e4be68be35b6035970766c'), ObjectId('68e4be68be35b6035970766d'), ObjectId('68e4be68be35b6035970766e'), ObjectId('68e4be68be35b6035970766f'), ObjectId('68e4be68be35b60359707670'), ObjectId('68e4be68be35b60359707671'), ObjectId('68e4be68be35b60359707672'), ObjectId('68e4be68be35b60359707673'), ObjectId('68e4be68be35b60359707674'), ObjectId('68e4be68be35b60359707675'), ObjectId('68e4be68be35b60359707676'), ObjectId('68e4be68be35b60359707677'), ObjectId('68e4be68be35b60359707678'), ObjectId('68e4be68be35b60359707679'), ObjectId('68e4be68be35b6035970767a'), ObjectId('68e4be68be35b6035970767b'), ObjectId('68e4be68be35b6035970767c'), ObjectId('68e4be68be35b6035970767d'), ObjectId('68e4be68be35b6035970767e'), ObjectId('68e4be68be35b6035970767f'), ObjectId('68e4be68be35b60359707680'), ObjectId('68e4be68be35b60359707681'), ObjectId('68e4be68be35b60359707682'), ObjectId('68e4be68be35b60359707683'), ObjectId('68e4be68be35b60359707684'), ObjectId('68e4be68be35b60359707685'), ObjectId('68e4be68be35b60359707686'), ObjectId('68e4be68be35b60359707687'), ObjectId('68e4be68be35b60359707688'), ObjectId('68e4be68be35b60359707689'), ObjectId('68e4be68be35b6035970768a'), ObjectId('68e4be68be35b6035970768b'), ObjectId('68e4be68be35b6035970768c'), ObjectId('68e4be68be35b6035970768d'), ObjectId('68e4be68be35b6035970768e'), ObjectId('68e4be68be35b6035970768f'), ObjectId('68e4be68be35b60359707690'), ObjectId('68e4be68be35b60359707691'), ObjectId('68e4be68be35b60359707692'), ObjectId('68e4be68be35b60359707693'), ObjectId('68e4be68be35b60359707694'), ObjectId('68e4be68be35b60359707695'), ObjectId('68e4be68be35b60359707696'), ObjectId('68e4be68be35b60359707697'), ObjectId('68e4be68be35b60359707698'), ObjectId('68e4be68be35b60359707699'), ObjectId('68e4be68be35b6035970769a'), ObjectId('68e4be68be35b6035970769b'), ObjectId('68e4be68be35b6035970769c'), ObjectId('68e4be68be35b6035970769d'), ObjectId('68e4be68be35b6035970769e'), ObjectId('68e4be68be35b6035970769f'), ObjectId('68e4be68be35b603597076a0'), ObjectId('68e4be68be35b603597076a1'), ObjectId('68e4be68be35b603597076a2'), ObjectId('68e4be68be35b603597076a3'), ObjectId('68e4be68be35b603597076a4'), ObjectId('68e4be68be35b603597076a5'), ObjectId('68e4be68be35b603597076a6'), ObjectId('68e4be68be35b603597076a7'), ObjectId('68e4be68be35b603597076a8'), ObjectId('68e4be68be35b603597076a9'), ObjectId('68e4be68be35b603597076aa'), ObjectId('68e4be68be35b603597076ab'), ObjectId('68e4be68be35b603597076ac'), ObjectId('68e4be68be35b603597076ad'), ObjectId('68e4be68be35b603597076ae'), ObjectId('68e4be68be35b603597076af'), ObjectId('68e4be68be35b603597076b0'), ObjectId('68e4be68be35b603597076b1'), ObjectId('68e4be68be35b603597076b2'), ObjectId('68e4be68be35b603597076b3'), ObjectId('68e4be68be35b603597076b4'), ObjectId('68e4be68be35b603597076b5'), ObjectId('68e4be68be35b603597076b6'), ObjectId('68e4be68be35b603597076b7'), ObjectId('68e4be68be35b603597076b8'), ObjectId('68e4be68be35b603597076b9'), ObjectId('68e4be68be35b603597076ba'), ObjectId('68e4be68be35b603597076bb'), ObjectId('68e4be68be35b603597076bc'), ObjectId('68e4be68be35b603597076bd'), ObjectId('68e4be68be35b603597076be'), ObjectId('68e4be68be35b603597076bf'), ObjectId('68e4be68be35b603597076c0'), ObjectId('68e4be68be35b603597076c1'), ObjectId('68e4be68be35b603597076c2'), ObjectId('68e4be68be35b603597076c3'), ObjectId('68e4be68be35b603597076c4'), ObjectId('68e4be68be35b603597076c5'), ObjectId('68e4be68be35b603597076c6'), ObjectId('68e4be68be35b603597076c7'), ObjectId('68e4be68be35b603597076c8'), ObjectId('68e4be68be35b603597076c9'), ObjectId('68e4be68be35b603597076ca'), ObjectId('68e4be68be35b603597076cb'), ObjectId('68e4be68be35b603597076cc'), ObjectId('68e4be68be35b603597076cd'), ObjectId('68e4be68be35b603597076ce'), ObjectId('68e4be68be35b603597076cf'), ObjectId('68e4be68be35b603597076d0'), ObjectId('68e4be68be35b603597076d1'), ObjectId('68e4be68be35b603597076d2'), ObjectId('68e4be68be35b603597076d3'), ObjectId('68e4be68be35b603597076d4'), ObjectId('68e4be68be35b603597076d5'), ObjectId('68e4be68be35b603597076d6'), ObjectId('68e4be68be35b603597076d7'), ObjectId('68e4be68be35b603597076d8'), ObjectId('68e4be68be35b603597076d9'), ObjectId('68e4be68be35b603597076da'), ObjectId('68e4be68be35b603597076db'), ObjectId('68e4be68be35b603597076dc'), ObjectId('68e4be68be35b603597076dd'), ObjectId('68e4be68be35b603597076de'), ObjectId('68e4be68be35b603597076df'), ObjectId('68e4be68be35b603597076e0'), ObjectId('68e4be68be35b603597076e1'), ObjectId('68e4be68be35b603597076e2'), ObjectId('68e4be68be35b603597076e3'), ObjectId('68e4be68be35b603597076e4'), ObjectId('68e4be68be35b603597076e5'), ObjectId('68e4be68be35b603597076e6'), ObjectId('68e4be68be35b603597076e7'), ObjectId('68e4be68be35b603597076e8'), ObjectId('68e4be68be35b603597076e9'), ObjectId('68e4be68be35b603597076ea'), ObjectId('68e4be68be35b603597076eb'), ObjectId('68e4be68be35b603597076ec'), ObjectId('68e4be68be35b603597076ed'), ObjectId('68e4be68be35b603597076ee'), ObjectId('68e4be68be35b603597076ef'), ObjectId('68e4be68be35b603597076f0'), ObjectId('68e4be68be35b603597076f1'), ObjectId('68e4be68be35b603597076f2'), ObjectId('68e4be68be35b603597076f3')], acknowledged=True)\n"
     ]
    }
   ],
   "source": [
    "insert_result = pokemons_coll.insert_many(records)\n",
    "print(insert_result) \n",
    "\n"
   ]
  },
  {
   "cell_type": "code",
   "execution_count": 6,
   "metadata": {},
   "outputs": [
    {
     "name": "stdout",
     "output_type": "stream",
     "text": [
      "<pymongo.synchronous.cursor.Cursor object at 0x7a29909f2c30>\n"
     ]
    }
   ],
   "source": [
    "# la récupération d'un élément dans une collection donne un cursor (un itérable)\n",
    "print(pokemons_coll.find())"
   ]
  },
  {
   "cell_type": "markdown",
   "metadata": {},
   "source": [
    "#### ![programming(3).png](data:image/png;base64,iVBORw0KGgoAAAANSUhEUgAAACAAAAAgCAYAAABzenr0AAAABHNCSVQICAgIfAhkiAAAAAlwSFlzAAAA3QAAAN0BcFOiBwAAABl0RVh0U29mdHdhcmUAd3d3Lmlua3NjYXBlLm9yZ5vuPBoAAAR7SURBVFiFtZdvaFVlHMc/z3PPuefuz825XWV3m5mWU1MLSVEyRoqKk2iLWBCT2uyFpTSIoCCHL0SDXkgUavhKCU3EpGmlorYSShtWig6M1M25gVPb3da2e6/3z3l6cf9u996d42pfOC/O8+/3+f2e5/f8EUopbKnplEHEtwpFDYj5gDf+AdyNfeo6guNoxa18Xv3QzrDCEmDTQS8OuQ1FPeC2R8sQgkNEze3s23B3YgCNB1y49GYQ7wH5Ng2PlR/UpwTDO9jfELQPsOVoKSrUghLLJmh4rJU2hLOWPXW91gCbDi1CipNAxf9iPKUeTLWeffXXcgNsOVqKGb40CcZTEFJfmh4JmaxqPOBChVom0ThABSrUQuMBV6JAS1a59Ob0OQ8J+MsYP0MUMDgwOL5JE5ZINy6XI95JLIstbpohMQWbDnqR8iZpq/1vB3xYalq6dPHXS5Ztzv4xl/K1UyBPJIr8mOZT7NtwNzYFDrmNCabawvmV6Jo2fqMBBd8GIJCMaH7cJpKmU0Z8k7GlaUVu1ixdAIBT19n6/mZ0Xefl6tWUTvfk7ugzR0Mo6mk6ZUgivlXY3OGmFblpqluDkLFQTvNM5f6DPvyBAFIKtn3wrjXEiSSEm4hvlYzt7faN/3LtBmfa2gGY7imho6sbgJbvz3Lu/AVriP40CEWNjB8slsp3OTGcGgPD/mTZdE8xnXEAgP7+QQzDoKDAYjklIIZ5VpI60cZVV28fu7/+gVeqnmP5wieTAB23YwArX1hO/Ws17Ny1l1udd6wH7Dfhu8Bi2wAAd+71sfvYOcpKitA1jalTHqOzqweAGeVePt61l47bNown9I9pWORPprrv+ei+50PXNc6cv8iIPzYlXx755lGHAimUJHaZeGSFwxH+vNExka4puYhocYA5Y+sK8gxerywHp4YyNNA1lFMDZ+r4UAqenjMr1UmBDEaQIxFkIIz0R3CMhHG3DUAgnAlgyIAG6jqIqgw4p8bzLy23dMI7u9La0cOHgSwABaJHIjhuOcJkyS2OaGjFrYT7hxi7GwYjaMduQDDzRAzNcBOa6SZUWsBgTz+uwQiFD4IU3s9660KOZPFeEwpX4Wex03DzV1+geDujUXcUTgcgOrq48/B6hlbGrg1tV28CUPGbj+qPrthwO65ZjnY63loUW1FRczvgz2g0wwHr8iB+lEdXlhP8qRbPkmJmmmEeJ8LiMi+Ly7x4187j5slahqvKrY1rQJHYAOlXsncO7QCxNWuHeCSUJx/zmZJksdIEgYejpyivvQ/tfqYvozRbu8CtjSsSLDEFwzvI01dnvQnHIyFO+3GcHT243YdCUiVyGC/rEr+ppN7fEEQ4a4GerB3HTMeE5BImFc4qft44lAkAsKeuF1OtnxSIAhFlnnyVK29cTi+e2MMkR3bkVJHw84S+gssNGWkis7VnT10vgfCLoHZiIztySgPm6q0scJRmMw7/9XGaKxKGUJQ52il0NHL1zd/HG94aIKFcz/M7UQc/BnUK5TCFohunOIFHfZK+0MbTvx9ltLez/h/sAAAAAElFTkSuQmCC) **TODO!**"
   ]
  },
  {
   "cell_type": "markdown",
   "metadata": {},
   "source": [
    "Affichons le cursor sous forme de liste issue de la collection. Désormais, les éléments ont un _id qui est un objet instancié (qui peut être mis mauellement lors de l'insertion), donc pas serializable dans un JSON normal 😉\n",
    "\n",
    "💡 Astuces :\n",
    "- la méthode `.to_list()` peut être pratique"
   ]
  },
  {
   "cell_type": "code",
   "execution_count": 7,
   "metadata": {},
   "outputs": [
    {
     "name": "stdout",
     "output_type": "stream",
     "text": [
      "<bound method Cursor.to_list of <pymongo.synchronous.cursor.Cursor object at 0x7a2990a243b0>>\n"
     ]
    }
   ],
   "source": [
    "print(pokemons_coll.find().to_list)\n"
   ]
  },
  {
   "cell_type": "markdown",
   "metadata": {},
   "source": [
    "#### ![programming(3).png](data:image/png;base64,iVBORw0KGgoAAAANSUhEUgAAACAAAAAgCAYAAABzenr0AAAABHNCSVQICAgIfAhkiAAAAAlwSFlzAAAA3QAAAN0BcFOiBwAAABl0RVh0U29mdHdhcmUAd3d3Lmlua3NjYXBlLm9yZ5vuPBoAAAR7SURBVFiFtZdvaFVlHMc/z3PPuefuz825XWV3m5mWU1MLSVEyRoqKk2iLWBCT2uyFpTSIoCCHL0SDXkgUavhKCU3EpGmlorYSShtWig6M1M25gVPb3da2e6/3z3l6cf9u996d42pfOC/O8+/3+f2e5/f8EUopbKnplEHEtwpFDYj5gDf+AdyNfeo6guNoxa18Xv3QzrDCEmDTQS8OuQ1FPeC2R8sQgkNEze3s23B3YgCNB1y49GYQ7wH5Ng2PlR/UpwTDO9jfELQPsOVoKSrUghLLJmh4rJU2hLOWPXW91gCbDi1CipNAxf9iPKUeTLWeffXXcgNsOVqKGb40CcZTEFJfmh4JmaxqPOBChVom0ThABSrUQuMBV6JAS1a59Ob0OQ8J+MsYP0MUMDgwOL5JE5ZINy6XI95JLIstbpohMQWbDnqR8iZpq/1vB3xYalq6dPHXS5Ztzv4xl/K1UyBPJIr8mOZT7NtwNzYFDrmNCabawvmV6Jo2fqMBBd8GIJCMaH7cJpKmU0Z8k7GlaUVu1ixdAIBT19n6/mZ0Xefl6tWUTvfk7ugzR0Mo6mk6ZUgivlXY3OGmFblpqluDkLFQTvNM5f6DPvyBAFIKtn3wrjXEiSSEm4hvlYzt7faN/3LtBmfa2gGY7imho6sbgJbvz3Lu/AVriP40CEWNjB8slsp3OTGcGgPD/mTZdE8xnXEAgP7+QQzDoKDAYjklIIZ5VpI60cZVV28fu7/+gVeqnmP5wieTAB23YwArX1hO/Ws17Ny1l1udd6wH7Dfhu8Bi2wAAd+71sfvYOcpKitA1jalTHqOzqweAGeVePt61l47bNown9I9pWORPprrv+ei+50PXNc6cv8iIPzYlXx755lGHAimUJHaZeGSFwxH+vNExka4puYhocYA5Y+sK8gxerywHp4YyNNA1lFMDZ+r4UAqenjMr1UmBDEaQIxFkIIz0R3CMhHG3DUAgnAlgyIAG6jqIqgw4p8bzLy23dMI7u9La0cOHgSwABaJHIjhuOcJkyS2OaGjFrYT7hxi7GwYjaMduQDDzRAzNcBOa6SZUWsBgTz+uwQiFD4IU3s9660KOZPFeEwpX4Wex03DzV1+geDujUXcUTgcgOrq48/B6hlbGrg1tV28CUPGbj+qPrthwO65ZjnY63loUW1FRczvgz2g0wwHr8iB+lEdXlhP8qRbPkmJmmmEeJ8LiMi+Ly7x4187j5slahqvKrY1rQJHYAOlXsncO7QCxNWuHeCSUJx/zmZJksdIEgYejpyivvQ/tfqYvozRbu8CtjSsSLDEFwzvI01dnvQnHIyFO+3GcHT243YdCUiVyGC/rEr+ppN7fEEQ4a4GerB3HTMeE5BImFc4qft44lAkAsKeuF1OtnxSIAhFlnnyVK29cTi+e2MMkR3bkVJHw84S+gssNGWkis7VnT10vgfCLoHZiIztySgPm6q0scJRmMw7/9XGaKxKGUJQ52il0NHL1zd/HG94aIKFcz/M7UQc/BnUK5TCFohunOIFHfZK+0MbTvx9ltLez/h/sAAAAAElFTkSuQmCC) **TODO!**"
   ]
  },
  {
   "cell_type": "markdown",
   "metadata": {},
   "source": [
    "Affichez le premier élément"
   ]
  },
  {
   "cell_type": "code",
   "execution_count": 8,
   "metadata": {},
   "outputs": [
    {
     "name": "stdout",
     "output_type": "stream",
     "text": [
      "{'_id': ObjectId('68e4be68be35b60359707423'), 'Number': 1, 'Name': 'Bulbasaur', 'Type_1': 'Grass', 'Type_2': 'Poison', 'Total': 318, 'HP': 45, 'Attack': 49, 'Defense': 49, 'Sp_Atk': 65, 'Sp_Def': 65, 'Speed': 45, 'Generation': 1, 'isLegendary': False, 'Color': 'Green', 'hasGender': True, 'Pr_Male': 0.875, 'Egg_Group_1': 'Monster', 'Egg_Group_2': 'Grass', 'hasMegaEvolution': False, 'Height_m': 0.71, 'Weight_kg': 6.9, 'Catch_Rate': 45, 'Body_Style': 'quadruped'}\n"
     ]
    }
   ],
   "source": [
    "premier_elem = pokemons_coll.find_one()\n",
    "print(premier_elem)\n",
    "\n"
   ]
  },
  {
   "cell_type": "markdown",
   "metadata": {},
   "source": [
    "#### ![programming(3).png](data:image/png;base64,iVBORw0KGgoAAAANSUhEUgAAACAAAAAgCAYAAABzenr0AAAABHNCSVQICAgIfAhkiAAAAAlwSFlzAAAA3QAAAN0BcFOiBwAAABl0RVh0U29mdHdhcmUAd3d3Lmlua3NjYXBlLm9yZ5vuPBoAAAR7SURBVFiFtZdvaFVlHMc/z3PPuefuz825XWV3m5mWU1MLSVEyRoqKk2iLWBCT2uyFpTSIoCCHL0SDXkgUavhKCU3EpGmlorYSShtWig6M1M25gVPb3da2e6/3z3l6cf9u996d42pfOC/O8+/3+f2e5/f8EUopbKnplEHEtwpFDYj5gDf+AdyNfeo6guNoxa18Xv3QzrDCEmDTQS8OuQ1FPeC2R8sQgkNEze3s23B3YgCNB1y49GYQ7wH5Ng2PlR/UpwTDO9jfELQPsOVoKSrUghLLJmh4rJU2hLOWPXW91gCbDi1CipNAxf9iPKUeTLWeffXXcgNsOVqKGb40CcZTEFJfmh4JmaxqPOBChVom0ThABSrUQuMBV6JAS1a59Ob0OQ8J+MsYP0MUMDgwOL5JE5ZINy6XI95JLIstbpohMQWbDnqR8iZpq/1vB3xYalq6dPHXS5Ztzv4xl/K1UyBPJIr8mOZT7NtwNzYFDrmNCabawvmV6Jo2fqMBBd8GIJCMaH7cJpKmU0Z8k7GlaUVu1ixdAIBT19n6/mZ0Xefl6tWUTvfk7ugzR0Mo6mk6ZUgivlXY3OGmFblpqluDkLFQTvNM5f6DPvyBAFIKtn3wrjXEiSSEm4hvlYzt7faN/3LtBmfa2gGY7imho6sbgJbvz3Lu/AVriP40CEWNjB8slsp3OTGcGgPD/mTZdE8xnXEAgP7+QQzDoKDAYjklIIZ5VpI60cZVV28fu7/+gVeqnmP5wieTAB23YwArX1hO/Ws17Ny1l1udd6wH7Dfhu8Bi2wAAd+71sfvYOcpKitA1jalTHqOzqweAGeVePt61l47bNown9I9pWORPprrv+ei+50PXNc6cv8iIPzYlXx755lGHAimUJHaZeGSFwxH+vNExka4puYhocYA5Y+sK8gxerywHp4YyNNA1lFMDZ+r4UAqenjMr1UmBDEaQIxFkIIz0R3CMhHG3DUAgnAlgyIAG6jqIqgw4p8bzLy23dMI7u9La0cOHgSwABaJHIjhuOcJkyS2OaGjFrYT7hxi7GwYjaMduQDDzRAzNcBOa6SZUWsBgTz+uwQiFD4IU3s9660KOZPFeEwpX4Wex03DzV1+geDujUXcUTgcgOrq48/B6hlbGrg1tV28CUPGbj+qPrthwO65ZjnY63loUW1FRczvgz2g0wwHr8iB+lEdXlhP8qRbPkmJmmmEeJ8LiMi+Ly7x4187j5slahqvKrY1rQJHYAOlXsncO7QCxNWuHeCSUJx/zmZJksdIEgYejpyivvQ/tfqYvozRbu8CtjSsSLDEFwzvI01dnvQnHIyFO+3GcHT243YdCUiVyGC/rEr+ppN7fEEQ4a4GerB3HTMeE5BImFc4qft44lAkAsKeuF1OtnxSIAhFlnnyVK29cTi+e2MMkR3bkVJHw84S+gssNGWkis7VnT10vgfCLoHZiIztySgPm6q0scJRmMw7/9XGaKxKGUJQ52il0NHL1zd/HG94aIKFcz/M7UQc/BnUK5TCFohunOIFHfZK+0MbTvx9ltLez/h/sAAAAAElFTkSuQmCC) **TODO!**"
   ]
  },
  {
   "cell_type": "markdown",
   "metadata": {},
   "source": [
    "Affichez l'identifiant du premier élément de la collection.\n",
    "\n",
    "Qu'est-ce que cet identifiant ? De quel type est-il ?"
   ]
  },
  {
   "cell_type": "code",
   "execution_count": 9,
   "metadata": {},
   "outputs": [
    {
     "name": "stdout",
     "output_type": "stream",
     "text": [
      "68e4be68be35b60359707423 <class 'bson.objectid.ObjectId'>\n"
     ]
    }
   ],
   "source": [
    "print(premier_elem['_id'], type(premier_elem['_id']))"
   ]
  },
  {
   "cell_type": "markdown",
   "metadata": {},
   "source": [
    "#### ![programming(3).png](data:image/png;base64,iVBORw0KGgoAAAANSUhEUgAAACAAAAAgCAYAAABzenr0AAAABHNCSVQICAgIfAhkiAAAAAlwSFlzAAAA3QAAAN0BcFOiBwAAABl0RVh0U29mdHdhcmUAd3d3Lmlua3NjYXBlLm9yZ5vuPBoAAAR7SURBVFiFtZdvaFVlHMc/z3PPuefuz825XWV3m5mWU1MLSVEyRoqKk2iLWBCT2uyFpTSIoCCHL0SDXkgUavhKCU3EpGmlorYSShtWig6M1M25gVPb3da2e6/3z3l6cf9u996d42pfOC/O8+/3+f2e5/f8EUopbKnplEHEtwpFDYj5gDf+AdyNfeo6guNoxa18Xv3QzrDCEmDTQS8OuQ1FPeC2R8sQgkNEze3s23B3YgCNB1y49GYQ7wH5Ng2PlR/UpwTDO9jfELQPsOVoKSrUghLLJmh4rJU2hLOWPXW91gCbDi1CipNAxf9iPKUeTLWeffXXcgNsOVqKGb40CcZTEFJfmh4JmaxqPOBChVom0ThABSrUQuMBV6JAS1a59Ob0OQ8J+MsYP0MUMDgwOL5JE5ZINy6XI95JLIstbpohMQWbDnqR8iZpq/1vB3xYalq6dPHXS5Ztzv4xl/K1UyBPJIr8mOZT7NtwNzYFDrmNCabawvmV6Jo2fqMBBd8GIJCMaH7cJpKmU0Z8k7GlaUVu1ixdAIBT19n6/mZ0Xefl6tWUTvfk7ugzR0Mo6mk6ZUgivlXY3OGmFblpqluDkLFQTvNM5f6DPvyBAFIKtn3wrjXEiSSEm4hvlYzt7faN/3LtBmfa2gGY7imho6sbgJbvz3Lu/AVriP40CEWNjB8slsp3OTGcGgPD/mTZdE8xnXEAgP7+QQzDoKDAYjklIIZ5VpI60cZVV28fu7/+gVeqnmP5wieTAB23YwArX1hO/Ws17Ny1l1udd6wH7Dfhu8Bi2wAAd+71sfvYOcpKitA1jalTHqOzqweAGeVePt61l47bNown9I9pWORPprrv+ei+50PXNc6cv8iIPzYlXx755lGHAimUJHaZeGSFwxH+vNExka4puYhocYA5Y+sK8gxerywHp4YyNNA1lFMDZ+r4UAqenjMr1UmBDEaQIxFkIIz0R3CMhHG3DUAgnAlgyIAG6jqIqgw4p8bzLy23dMI7u9La0cOHgSwABaJHIjhuOcJkyS2OaGjFrYT7hxi7GwYjaMduQDDzRAzNcBOa6SZUWsBgTz+uwQiFD4IU3s9660KOZPFeEwpX4Wex03DzV1+geDujUXcUTgcgOrq48/B6hlbGrg1tV28CUPGbj+qPrthwO65ZjnY63loUW1FRczvgz2g0wwHr8iB+lEdXlhP8qRbPkmJmmmEeJ8LiMi+Ly7x4187j5slahqvKrY1rQJHYAOlXsncO7QCxNWuHeCSUJx/zmZJksdIEgYejpyivvQ/tfqYvozRbu8CtjSsSLDEFwzvI01dnvQnHIyFO+3GcHT243YdCUiVyGC/rEr+ppN7fEEQ4a4GerB3HTMeE5BImFc4qft44lAkAsKeuF1OtnxSIAhFlnnyVK29cTi+e2MMkR3bkVJHw84S+gssNGWkis7VnT10vgfCLoHZiIztySgPm6q0scJRmMw7/9XGaKxKGUJQ52il0NHL1zd/HG94aIKFcz/M7UQc/BnUK5TCFohunOIFHfZK+0MbTvx9ltLez/h/sAAAAAElFTkSuQmCC) **TODO!**"
   ]
  },
  {
   "cell_type": "markdown",
   "metadata": {},
   "source": [
    "Affichez le numéro du pokémon le plus mignon de l'univers.... carapuce !\n",
    "\n",
    "<img height=\"100px\" src=\"https://www.pokepedia.fr/images/thumb/c/cc/Carapuce-RFVF.png/800px-Carapuce-RFVF.png\">\n",
    "\n",
    "💡Astuce :\n",
    "- `find_one()` et `find()` acceptent des arguments 😉"
   ]
  },
  {
   "cell_type": "code",
   "execution_count": 10,
   "metadata": {},
   "outputs": [
    {
     "name": "stdout",
     "output_type": "stream",
     "text": [
      "7\n"
     ]
    }
   ],
   "source": [
    "carapuce = pokemons_coll.find_one({'Name': 'Squirtle'})\n",
    "print(carapuce['Number'])\n"
   ]
  },
  {
   "cell_type": "markdown",
   "metadata": {},
   "source": [
    "#### ![programming(3).png](data:image/png;base64,iVBORw0KGgoAAAANSUhEUgAAACAAAAAgCAYAAABzenr0AAAABHNCSVQICAgIfAhkiAAAAAlwSFlzAAAA3QAAAN0BcFOiBwAAABl0RVh0U29mdHdhcmUAd3d3Lmlua3NjYXBlLm9yZ5vuPBoAAAR7SURBVFiFtZdvaFVlHMc/z3PPuefuz825XWV3m5mWU1MLSVEyRoqKk2iLWBCT2uyFpTSIoCCHL0SDXkgUavhKCU3EpGmlorYSShtWig6M1M25gVPb3da2e6/3z3l6cf9u996d42pfOC/O8+/3+f2e5/f8EUopbKnplEHEtwpFDYj5gDf+AdyNfeo6guNoxa18Xv3QzrDCEmDTQS8OuQ1FPeC2R8sQgkNEze3s23B3YgCNB1y49GYQ7wH5Ng2PlR/UpwTDO9jfELQPsOVoKSrUghLLJmh4rJU2hLOWPXW91gCbDi1CipNAxf9iPKUeTLWeffXXcgNsOVqKGb40CcZTEFJfmh4JmaxqPOBChVom0ThABSrUQuMBV6JAS1a59Ob0OQ8J+MsYP0MUMDgwOL5JE5ZINy6XI95JLIstbpohMQWbDnqR8iZpq/1vB3xYalq6dPHXS5Ztzv4xl/K1UyBPJIr8mOZT7NtwNzYFDrmNCabawvmV6Jo2fqMBBd8GIJCMaH7cJpKmU0Z8k7GlaUVu1ixdAIBT19n6/mZ0Xefl6tWUTvfk7ugzR0Mo6mk6ZUgivlXY3OGmFblpqluDkLFQTvNM5f6DPvyBAFIKtn3wrjXEiSSEm4hvlYzt7faN/3LtBmfa2gGY7imho6sbgJbvz3Lu/AVriP40CEWNjB8slsp3OTGcGgPD/mTZdE8xnXEAgP7+QQzDoKDAYjklIIZ5VpI60cZVV28fu7/+gVeqnmP5wieTAB23YwArX1hO/Ws17Ny1l1udd6wH7Dfhu8Bi2wAAd+71sfvYOcpKitA1jalTHqOzqweAGeVePt61l47bNown9I9pWORPprrv+ei+50PXNc6cv8iIPzYlXx755lGHAimUJHaZeGSFwxH+vNExka4puYhocYA5Y+sK8gxerywHp4YyNNA1lFMDZ+r4UAqenjMr1UmBDEaQIxFkIIz0R3CMhHG3DUAgnAlgyIAG6jqIqgw4p8bzLy23dMI7u9La0cOHgSwABaJHIjhuOcJkyS2OaGjFrYT7hxi7GwYjaMduQDDzRAzNcBOa6SZUWsBgTz+uwQiFD4IU3s9660KOZPFeEwpX4Wex03DzV1+geDujUXcUTgcgOrq48/B6hlbGrg1tV28CUPGbj+qPrthwO65ZjnY63loUW1FRczvgz2g0wwHr8iB+lEdXlhP8qRbPkmJmmmEeJ8LiMi+Ly7x4187j5slahqvKrY1rQJHYAOlXsncO7QCxNWuHeCSUJx/zmZJksdIEgYejpyivvQ/tfqYvozRbu8CtjSsSLDEFwzvI01dnvQnHIyFO+3GcHT243YdCUiVyGC/rEr+ppN7fEEQ4a4GerB3HTMeE5BImFc4qft44lAkAsKeuF1OtnxSIAhFlnnyVK29cTi+e2MMkR3bkVJHw84S+gssNGWkis7VnT10vgfCLoHZiIztySgPm6q0scJRmMw7/9XGaKxKGUJQ52il0NHL1zd/HG94aIKFcz/M7UQc/BnUK5TCFohunOIFHfZK+0MbTvx9ltLez/h/sAAAAAElFTkSuQmCC) **TODO!**"
   ]
  },
  {
   "cell_type": "markdown",
   "metadata": {},
   "source": [
    "Affichez désormais uniquement les noms des pokemons avec leur premier type, un par ligne, en excluant l'id"
   ]
  },
  {
   "cell_type": "code",
   "execution_count": 11,
   "metadata": {},
   "outputs": [
    {
     "name": "stdout",
     "output_type": "stream",
     "text": [
      "Bulbasaur Grass\n",
      "Ivysaur Grass\n",
      "Venusaur Grass\n",
      "Charmander Fire\n",
      "Charmeleon Fire\n",
      "Charizard Fire\n",
      "Squirtle Water\n",
      "Wartortle Water\n",
      "Blastoise Water\n",
      "Caterpie Bug\n",
      "Metapod Bug\n",
      "Butterfree Bug\n",
      "Weedle Bug\n",
      "Kakuna Bug\n",
      "Beedrill Bug\n",
      "Pidgey Normal\n",
      "Pidgeotto Normal\n",
      "Pidgeot Normal\n",
      "Rattata Normal\n",
      "Raticate Normal\n",
      "Spearow Normal\n",
      "Fearow Normal\n",
      "Ekans Poison\n",
      "Arbok Poison\n",
      "Pikachu Electric\n",
      "Raichu Electric\n",
      "Sandshrew Ground\n",
      "Sandslash Ground\n",
      "Nidoran♀ Poison\n",
      "Nidorina Poison\n",
      "Nidoqueen Poison\n",
      "Nidoran♂ Poison\n",
      "Nidorino Poison\n",
      "Nidoking Poison\n",
      "Clefairy Fairy\n",
      "Clefable Fairy\n",
      "Vulpix Fire\n",
      "Ninetales Fire\n",
      "Jigglypuff Normal\n",
      "Wigglytuff Normal\n",
      "Zubat Poison\n",
      "Golbat Poison\n",
      "Oddish Grass\n",
      "Gloom Grass\n",
      "Vileplume Grass\n",
      "Paras Bug\n",
      "Parasect Bug\n",
      "Venonat Bug\n",
      "Venomoth Bug\n",
      "Diglett Ground\n",
      "Dugtrio Ground\n",
      "Meowth Normal\n",
      "Persian Normal\n",
      "Psyduck Water\n",
      "Golduck Water\n",
      "Mankey Fighting\n",
      "Primeape Fighting\n",
      "Growlithe Fire\n",
      "Arcanine Fire\n",
      "Poliwag Water\n",
      "Poliwhirl Water\n",
      "Poliwrath Water\n",
      "Abra Psychic\n",
      "Kadabra Psychic\n",
      "Alakazam Psychic\n",
      "Machop Fighting\n",
      "Machoke Fighting\n",
      "Machamp Fighting\n",
      "Bellsprout Grass\n",
      "Weepinbell Grass\n",
      "Victreebel Grass\n",
      "Tentacool Water\n",
      "Tentacruel Water\n",
      "Geodude Rock\n",
      "Graveler Rock\n",
      "Golem Rock\n",
      "Ponyta Fire\n",
      "Rapidash Fire\n",
      "Slowpoke Water\n",
      "Slowbro Water\n",
      "Magnemite Electric\n",
      "Magneton Electric\n",
      "Farfetch'd Normal\n",
      "Doduo Normal\n",
      "Dodrio Normal\n",
      "Seel Water\n",
      "Dewgong Water\n",
      "Grimer Poison\n",
      "Muk Poison\n",
      "Shellder Water\n",
      "Cloyster Water\n",
      "Gastly Ghost\n",
      "Haunter Ghost\n",
      "Gengar Ghost\n",
      "Onix Rock\n",
      "Drowzee Psychic\n",
      "Hypno Psychic\n",
      "Krabby Water\n",
      "Kingler Water\n",
      "Voltorb Electric\n",
      "Electrode Electric\n",
      "Exeggcute Grass\n",
      "Exeggutor Grass\n",
      "Cubone Ground\n",
      "Marowak Ground\n",
      "Hitmonlee Fighting\n",
      "Hitmonchan Fighting\n",
      "Lickitung Normal\n",
      "Koffing Poison\n",
      "Weezing Poison\n",
      "Rhyhorn Ground\n",
      "Rhydon Ground\n",
      "Chansey Normal\n",
      "Tangela Grass\n",
      "Kangaskhan Normal\n",
      "Horsea Water\n",
      "Seadra Water\n",
      "Goldeen Water\n",
      "Seaking Water\n",
      "Staryu Water\n",
      "Starmie Water\n",
      "Mr._Mime Psychic\n",
      "Scyther Bug\n",
      "Jynx Ice\n",
      "Electabuzz Electric\n",
      "Magmar Fire\n",
      "Pinsir Bug\n",
      "Tauros Normal\n",
      "Magikarp Water\n",
      "Gyarados Water\n",
      "Lapras Water\n",
      "Ditto Normal\n",
      "Eevee Normal\n",
      "Vaporeon Water\n",
      "Jolteon Electric\n",
      "Flareon Fire\n",
      "Porygon Normal\n",
      "Omanyte Rock\n",
      "Omastar Rock\n",
      "Kabuto Rock\n",
      "Kabutops Rock\n",
      "Aerodactyl Rock\n",
      "Snorlax Normal\n",
      "Articuno Ice\n",
      "Zapdos Electric\n",
      "Moltres Fire\n",
      "Dratini Dragon\n",
      "Dragonair Dragon\n",
      "Dragonite Dragon\n",
      "Mewtwo Psychic\n",
      "Mew Psychic\n",
      "Chikorita Grass\n",
      "Bayleef Grass\n",
      "Meganium Grass\n",
      "Cyndaquil Fire\n",
      "Quilava Fire\n",
      "Typhlosion Fire\n",
      "Totodile Water\n",
      "Croconaw Water\n",
      "Feraligatr Water\n",
      "Sentret Normal\n",
      "Furret Normal\n",
      "Hoothoot Normal\n",
      "Noctowl Normal\n",
      "Ledyba Bug\n",
      "Ledian Bug\n",
      "Spinarak Bug\n",
      "Ariados Bug\n",
      "Crobat Poison\n",
      "Chinchou Water\n",
      "Lanturn Water\n",
      "Pichu Electric\n",
      "Cleffa Fairy\n",
      "Igglybuff Normal\n",
      "Togepi Fairy\n",
      "Togetic Fairy\n",
      "Natu Psychic\n",
      "Xatu Psychic\n",
      "Mareep Electric\n",
      "Flaaffy Electric\n",
      "Ampharos Electric\n",
      "Bellossom Grass\n",
      "Marill Water\n",
      "Azumarill Water\n",
      "Sudowoodo Rock\n",
      "Politoed Water\n",
      "Hoppip Grass\n",
      "Skiploom Grass\n",
      "Jumpluff Grass\n",
      "Aipom Normal\n",
      "Sunkern Grass\n",
      "Sunflora Grass\n",
      "Yanma Bug\n",
      "Wooper Water\n",
      "Quagsire Water\n",
      "Espeon Psychic\n",
      "Umbreon Dark\n",
      "Murkrow Dark\n",
      "Slowking Water\n",
      "Misdreavus Ghost\n",
      "Unown Psychic\n",
      "Wobbuffet Psychic\n",
      "Girafarig Normal\n",
      "Pineco Bug\n",
      "Forretress Bug\n",
      "Dunsparce Normal\n",
      "Gligar Ground\n",
      "Steelix Steel\n",
      "Snubbull Fairy\n",
      "Granbull Fairy\n",
      "Qwilfish Water\n",
      "Scizor Bug\n",
      "Shuckle Bug\n",
      "Heracross Bug\n",
      "Sneasel Dark\n",
      "Teddiursa Normal\n",
      "Ursaring Normal\n",
      "Slugma Fire\n",
      "Magcargo Fire\n",
      "Swinub Ice\n",
      "Piloswine Ice\n",
      "Corsola Water\n",
      "Remoraid Water\n",
      "Octillery Water\n",
      "Delibird Ice\n",
      "Mantine Water\n",
      "Skarmory Steel\n",
      "Houndour Dark\n",
      "Houndoom Dark\n",
      "Kingdra Water\n",
      "Phanpy Ground\n",
      "Donphan Ground\n",
      "Porygon2 Normal\n",
      "Stantler Normal\n",
      "Smeargle Normal\n",
      "Tyrogue Fighting\n",
      "Hitmontop Fighting\n",
      "Smoochum Ice\n",
      "Elekid Electric\n",
      "Magby Fire\n",
      "Miltank Normal\n",
      "Blissey Normal\n",
      "Raikou Electric\n",
      "Entei Fire\n",
      "Suicune Water\n",
      "Larvitar Rock\n",
      "Pupitar Rock\n",
      "Tyranitar Rock\n",
      "Lugia Psychic\n",
      "Ho-Oh Fire\n",
      "Celebi Psychic\n",
      "Treecko Grass\n",
      "Grovyle Grass\n",
      "Sceptile Grass\n",
      "Torchic Fire\n",
      "Combusken Fire\n",
      "Blaziken Fire\n",
      "Mudkip Water\n",
      "Marshtomp Water\n",
      "Swampert Water\n",
      "Poochyena Dark\n",
      "Mightyena Dark\n",
      "Zigzagoon Normal\n",
      "Linoone Normal\n",
      "Wurmple Bug\n",
      "Silcoon Bug\n",
      "Beautifly Bug\n",
      "Cascoon Bug\n",
      "Dustox Bug\n",
      "Lotad Water\n",
      "Lombre Water\n",
      "Ludicolo Water\n",
      "Seedot Grass\n",
      "Nuzleaf Grass\n",
      "Shiftry Grass\n",
      "Taillow Normal\n",
      "Swellow Normal\n",
      "Wingull Water\n",
      "Pelipper Water\n",
      "Ralts Psychic\n",
      "Kirlia Psychic\n",
      "Gardevoir Psychic\n",
      "Surskit Bug\n",
      "Masquerain Bug\n",
      "Shroomish Grass\n",
      "Breloom Grass\n",
      "Slakoth Normal\n",
      "Vigoroth Normal\n",
      "Slaking Normal\n",
      "Nincada Bug\n",
      "Ninjask Bug\n",
      "Shedinja Bug\n",
      "Whismur Normal\n",
      "Loudred Normal\n",
      "Exploud Normal\n",
      "Makuhita Fighting\n",
      "Hariyama Fighting\n",
      "Azurill Normal\n",
      "Nosepass Rock\n",
      "Skitty Normal\n",
      "Delcatty Normal\n",
      "Sableye Dark\n",
      "Mawile Steel\n",
      "Aron Steel\n",
      "Lairon Steel\n",
      "Aggron Steel\n",
      "Meditite Fighting\n",
      "Medicham Fighting\n",
      "Electrike Electric\n",
      "Manectric Electric\n",
      "Plusle Electric\n",
      "Minun Electric\n",
      "Volbeat Bug\n",
      "Illumise Bug\n",
      "Roselia Grass\n",
      "Gulpin Poison\n",
      "Swalot Poison\n",
      "Carvanha Water\n",
      "Sharpedo Water\n",
      "Wailmer Water\n",
      "Wailord Water\n",
      "Numel Fire\n",
      "Camerupt Fire\n",
      "Torkoal Fire\n",
      "Spoink Psychic\n",
      "Grumpig Psychic\n",
      "Spinda Normal\n",
      "Trapinch Ground\n",
      "Vibrava Ground\n",
      "Flygon Ground\n",
      "Cacnea Grass\n",
      "Cacturne Grass\n",
      "Swablu Normal\n",
      "Altaria Dragon\n",
      "Zangoose Normal\n",
      "Seviper Poison\n",
      "Lunatone Rock\n",
      "Solrock Rock\n",
      "Barboach Water\n",
      "Whiscash Water\n",
      "Corphish Water\n",
      "Crawdaunt Water\n",
      "Baltoy Ground\n",
      "Claydol Ground\n",
      "Lileep Rock\n",
      "Cradily Rock\n",
      "Anorith Rock\n",
      "Armaldo Rock\n",
      "Feebas Water\n",
      "Milotic Water\n",
      "Castform Normal\n",
      "Kecleon Normal\n",
      "Shuppet Ghost\n",
      "Banette Ghost\n",
      "Duskull Ghost\n",
      "Dusclops Ghost\n",
      "Tropius Grass\n",
      "Chimecho Psychic\n",
      "Absol Dark\n",
      "Wynaut Psychic\n",
      "Snorunt Ice\n",
      "Glalie Ice\n",
      "Spheal Ice\n",
      "Sealeo Ice\n",
      "Walrein Ice\n",
      "Clamperl Water\n",
      "Huntail Water\n",
      "Gorebyss Water\n",
      "Relicanth Water\n",
      "Luvdisc Water\n",
      "Bagon Dragon\n",
      "Shelgon Dragon\n",
      "Salamence Dragon\n",
      "Beldum Steel\n",
      "Metang Steel\n",
      "Metagross Steel\n",
      "Regirock Rock\n",
      "Regice Ice\n",
      "Registeel Steel\n",
      "Latias Dragon\n",
      "Latios Dragon\n",
      "Kyogre Water\n",
      "Groudon Ground\n",
      "Rayquaza Dragon\n",
      "Jirachi Steel\n",
      "Deoxys Psychic\n",
      "Turtwig Grass\n",
      "Grotle Grass\n",
      "Torterra Grass\n",
      "Chimchar Fire\n",
      "Monferno Fire\n",
      "Infernape Fire\n",
      "Piplup Water\n",
      "Prinplup Water\n",
      "Empoleon Water\n",
      "Starly Normal\n",
      "Staravia Normal\n",
      "Staraptor Normal\n",
      "Bidoof Normal\n",
      "Bibarel Normal\n",
      "Kricketot Bug\n",
      "Kricketune Bug\n",
      "Shinx Electric\n",
      "Luxio Electric\n",
      "Luxray Electric\n",
      "Budew Grass\n",
      "Roserade Grass\n",
      "Cranidos Rock\n",
      "Rampardos Rock\n",
      "Shieldon Rock\n",
      "Bastiodon Rock\n",
      "Burmy Bug\n",
      "Wormadam Bug\n",
      "Mothim Bug\n",
      "Combee Bug\n",
      "Vespiquen Bug\n",
      "Pachirisu Electric\n",
      "Buizel Water\n",
      "Floatzel Water\n",
      "Cherubi Grass\n",
      "Cherrim Grass\n",
      "Shellos Water\n",
      "Gastrodon Water\n",
      "Ambipom Normal\n",
      "Drifloon Ghost\n",
      "Drifblim Ghost\n",
      "Buneary Normal\n",
      "Lopunny Normal\n",
      "Mismagius Ghost\n",
      "Honchkrow Dark\n",
      "Glameow Normal\n",
      "Purugly Normal\n",
      "Chingling Psychic\n",
      "Stunky Poison\n",
      "Skuntank Poison\n",
      "Bronzor Steel\n",
      "Bronzong Steel\n",
      "Bonsly Rock\n",
      "Mime_Jr. Psychic\n",
      "Happiny Normal\n",
      "Chatot Normal\n",
      "Spiritomb Ghost\n",
      "Gible Dragon\n",
      "Gabite Dragon\n",
      "Garchomp Dragon\n",
      "Munchlax Normal\n",
      "Riolu Fighting\n",
      "Lucario Fighting\n",
      "Hippopotas Ground\n",
      "Hippowdon Ground\n",
      "Skorupi Poison\n",
      "Drapion Poison\n",
      "Croagunk Poison\n",
      "Toxicroak Poison\n",
      "Carnivine Grass\n",
      "Finneon Water\n",
      "Lumineon Water\n",
      "Mantyke Water\n",
      "Snover Grass\n",
      "Abomasnow Grass\n",
      "Weavile Dark\n",
      "Magnezone Electric\n",
      "Lickilicky Normal\n",
      "Rhyperior Ground\n",
      "Tangrowth Grass\n",
      "Electivire Electric\n",
      "Magmortar Fire\n",
      "Togekiss Fairy\n",
      "Yanmega Bug\n",
      "Leafeon Grass\n",
      "Glaceon Ice\n",
      "Gliscor Ground\n",
      "Mamoswine Ice\n",
      "Porygon-Z Normal\n",
      "Gallade Psychic\n",
      "Probopass Rock\n",
      "Dusknoir Ghost\n",
      "Froslass Ice\n",
      "Rotom Electric\n",
      "Uxie Psychic\n",
      "Mesprit Psychic\n",
      "Azelf Psychic\n",
      "Dialga Steel\n",
      "Palkia Water\n",
      "Heatran Fire\n",
      "Regigigas Normal\n",
      "Giratina Ghost\n",
      "Cresselia Psychic\n",
      "Phione Water\n",
      "Manaphy Water\n",
      "Darkrai Dark\n",
      "Shaymin Grass\n",
      "Arceus Normal\n",
      "Victini Psychic\n",
      "Snivy Grass\n",
      "Servine Grass\n",
      "Serperior Grass\n",
      "Tepig Fire\n",
      "Pignite Fire\n",
      "Emboar Fire\n",
      "Oshawott Water\n",
      "Dewott Water\n",
      "Samurott Water\n",
      "Patrat Normal\n",
      "Watchog Normal\n",
      "Lillipup Normal\n",
      "Herdier Normal\n",
      "Stoutland Normal\n",
      "Purrloin Dark\n",
      "Liepard Dark\n",
      "Pansage Grass\n",
      "Simisage Grass\n",
      "Pansear Fire\n",
      "Simisear Fire\n",
      "Panpour Water\n",
      "Simipour Water\n",
      "Munna Psychic\n",
      "Musharna Psychic\n",
      "Pidove Normal\n",
      "Tranquill Normal\n",
      "Unfezant Normal\n",
      "Blitzle Electric\n",
      "Zebstrika Electric\n",
      "Roggenrola Rock\n",
      "Boldore Rock\n",
      "Gigalith Rock\n",
      "Woobat Psychic\n",
      "Swoobat Psychic\n",
      "Drilbur Ground\n",
      "Excadrill Ground\n",
      "Audino Normal\n",
      "Timburr Fighting\n",
      "Gurdurr Fighting\n",
      "Conkeldurr Fighting\n",
      "Tympole Water\n",
      "Palpitoad Water\n",
      "Seismitoad Water\n",
      "Throh Fighting\n",
      "Sawk Fighting\n",
      "Sewaddle Bug\n",
      "Swadloon Bug\n",
      "Leavanny Bug\n",
      "Venipede Bug\n",
      "Whirlipede Bug\n",
      "Scolipede Bug\n",
      "Cottonee Grass\n",
      "Whimsicott Grass\n",
      "Petilil Grass\n",
      "Lilligant Grass\n",
      "Basculin Water\n",
      "Sandile Ground\n",
      "Krokorok Ground\n",
      "Krookodile Ground\n",
      "Darumaka Fire\n",
      "Darmanitan Fire\n",
      "Maractus Grass\n",
      "Dwebble Bug\n",
      "Crustle Bug\n",
      "Scraggy Dark\n",
      "Scrafty Dark\n",
      "Sigilyph Psychic\n",
      "Yamask Ghost\n",
      "Cofagrigus Ghost\n",
      "Tirtouga Water\n",
      "Carracosta Water\n",
      "Archen Rock\n",
      "Archeops Rock\n",
      "Trubbish Poison\n",
      "Garbodor Poison\n",
      "Zorua Dark\n",
      "Zoroark Dark\n",
      "Minccino Normal\n",
      "Cinccino Normal\n",
      "Gothita Psychic\n",
      "Gothorita Psychic\n",
      "Gothitelle Psychic\n",
      "Solosis Psychic\n",
      "Duosion Psychic\n",
      "Reuniclus Psychic\n",
      "Ducklett Water\n",
      "Swanna Water\n",
      "Vanillite Ice\n",
      "Vanillish Ice\n",
      "Vanilluxe Ice\n",
      "Deerling Normal\n",
      "Sawsbuck Normal\n",
      "Emolga Electric\n",
      "Karrablast Bug\n",
      "Escavalier Bug\n",
      "Foongus Grass\n",
      "Amoonguss Grass\n",
      "Frillish Water\n",
      "Jellicent Water\n",
      "Alomomola Water\n",
      "Joltik Bug\n",
      "Galvantula Bug\n",
      "Ferroseed Grass\n",
      "Ferrothorn Grass\n",
      "Klink Steel\n",
      "Klang Steel\n",
      "Klinklang Steel\n",
      "Tynamo Electric\n",
      "Eelektrik Electric\n",
      "Eelektross Electric\n",
      "Elgyem Psychic\n",
      "Beheeyem Psychic\n",
      "Litwick Ghost\n",
      "Lampent Ghost\n",
      "Chandelure Ghost\n",
      "Axew Dragon\n",
      "Fraxure Dragon\n",
      "Haxorus Dragon\n",
      "Cubchoo Ice\n",
      "Beartic Ice\n",
      "Cryogonal Ice\n",
      "Shelmet Bug\n",
      "Accelgor Bug\n",
      "Stunfisk Ground\n",
      "Mienfoo Fighting\n",
      "Mienshao Fighting\n",
      "Druddigon Dragon\n",
      "Golett Ground\n",
      "Golurk Ground\n",
      "Pawniard Dark\n",
      "Bisharp Dark\n",
      "Bouffalant Normal\n",
      "Rufflet Normal\n",
      "Braviary Normal\n",
      "Vullaby Dark\n",
      "Mandibuzz Dark\n",
      "Heatmor Fire\n",
      "Durant Bug\n",
      "Deino Dark\n",
      "Zweilous Dark\n",
      "Hydreigon Dark\n",
      "Larvesta Bug\n",
      "Volcarona Bug\n",
      "Cobalion Steel\n",
      "Terrakion Rock\n",
      "Virizion Grass\n",
      "Tornadus Flying\n",
      "Thundurus Electric\n",
      "Reshiram Dragon\n",
      "Zekrom Dragon\n",
      "Landorus Ground\n",
      "Kyurem Dragon\n",
      "Keldeo Water\n",
      "Meloetta Normal\n",
      "Genesect Bug\n",
      "Chespin Grass\n",
      "Quilladin Grass\n",
      "Chesnaught Grass\n",
      "Fennekin Fire\n",
      "Braixen Fire\n",
      "Delphox Fire\n",
      "Froakie Water\n",
      "Frogadier Water\n",
      "Greninja Water\n",
      "Bunnelby Normal\n",
      "Diggersby Normal\n",
      "Fletchling Normal\n",
      "Fletchinder Fire\n",
      "Talonflame Fire\n",
      "Scatterbug Bug\n",
      "Spewpa Bug\n",
      "Vivillon Bug\n",
      "Litleo Fire\n",
      "Pyroar Fire\n",
      "Flabébé Fairy\n",
      "Floette Fairy\n",
      "Florges Fairy\n",
      "Skiddo Grass\n",
      "Gogoat Grass\n",
      "Pancham Fighting\n",
      "Pangoro Fighting\n",
      "Furfrou Normal\n",
      "Espurr Psychic\n",
      "Meowstic Psychic\n",
      "Honedge Steel\n",
      "Doublade Steel\n",
      "Aegislash Steel\n",
      "Spritzee Fairy\n",
      "Aromatisse Fairy\n",
      "Swirlix Fairy\n",
      "Slurpuff Fairy\n",
      "Inkay Dark\n",
      "Malamar Dark\n",
      "Binacle Rock\n",
      "Barbaracle Rock\n",
      "Skrelp Poison\n",
      "Dragalge Poison\n",
      "Clauncher Water\n",
      "Clawitzer Water\n",
      "Helioptile Electric\n",
      "Heliolisk Electric\n",
      "Tyrunt Rock\n",
      "Tyrantrum Rock\n",
      "Amaura Rock\n",
      "Aurorus Rock\n",
      "Sylveon Fairy\n",
      "Hawlucha Fighting\n",
      "Dedenne Electric\n",
      "Carbink Rock\n",
      "Goomy Dragon\n",
      "Sliggoo Dragon\n",
      "Goodra Dragon\n",
      "Klefki Steel\n",
      "Phantump Ghost\n",
      "Trevenant Ghost\n",
      "Pumpkaboo Ghost\n",
      "Gourgeist Ghost\n",
      "Bergmite Ice\n",
      "Avalugg Ice\n",
      "Noibat Flying\n",
      "Noivern Flying\n",
      "Xerneas Fairy\n",
      "Yveltal Dark\n",
      "Zygarde Dragon\n",
      "Diancie Rock\n",
      "Hoopa Psychic\n",
      "Volcanion Fire\n"
     ]
    }
   ],
   "source": [
    "for pokemon in pokemons_coll.find({}, {'_id': 0, 'Name': 1, 'Type_1': 1}):\n",
    "    print(pokemon['Name'], pokemon['Type_1'])\n",
    "\n"
   ]
  },
  {
   "cell_type": "markdown",
   "metadata": {},
   "source": [
    "#### ![programming(3).png](data:image/png;base64,iVBORw0KGgoAAAANSUhEUgAAACAAAAAgCAYAAABzenr0AAAABHNCSVQICAgIfAhkiAAAAAlwSFlzAAAA3QAAAN0BcFOiBwAAABl0RVh0U29mdHdhcmUAd3d3Lmlua3NjYXBlLm9yZ5vuPBoAAAR7SURBVFiFtZdvaFVlHMc/z3PPuefuz825XWV3m5mWU1MLSVEyRoqKk2iLWBCT2uyFpTSIoCCHL0SDXkgUavhKCU3EpGmlorYSShtWig6M1M25gVPb3da2e6/3z3l6cf9u996d42pfOC/O8+/3+f2e5/f8EUopbKnplEHEtwpFDYj5gDf+AdyNfeo6guNoxa18Xv3QzrDCEmDTQS8OuQ1FPeC2R8sQgkNEze3s23B3YgCNB1y49GYQ7wH5Ng2PlR/UpwTDO9jfELQPsOVoKSrUghLLJmh4rJU2hLOWPXW91gCbDi1CipNAxf9iPKUeTLWeffXXcgNsOVqKGb40CcZTEFJfmh4JmaxqPOBChVom0ThABSrUQuMBV6JAS1a59Ob0OQ8J+MsYP0MUMDgwOL5JE5ZINy6XI95JLIstbpohMQWbDnqR8iZpq/1vB3xYalq6dPHXS5Ztzv4xl/K1UyBPJIr8mOZT7NtwNzYFDrmNCabawvmV6Jo2fqMBBd8GIJCMaH7cJpKmU0Z8k7GlaUVu1ixdAIBT19n6/mZ0Xefl6tWUTvfk7ugzR0Mo6mk6ZUgivlXY3OGmFblpqluDkLFQTvNM5f6DPvyBAFIKtn3wrjXEiSSEm4hvlYzt7faN/3LtBmfa2gGY7imho6sbgJbvz3Lu/AVriP40CEWNjB8slsp3OTGcGgPD/mTZdE8xnXEAgP7+QQzDoKDAYjklIIZ5VpI60cZVV28fu7/+gVeqnmP5wieTAB23YwArX1hO/Ws17Ny1l1udd6wH7Dfhu8Bi2wAAd+71sfvYOcpKitA1jalTHqOzqweAGeVePt61l47bNown9I9pWORPprrv+ei+50PXNc6cv8iIPzYlXx755lGHAimUJHaZeGSFwxH+vNExka4puYhocYA5Y+sK8gxerywHp4YyNNA1lFMDZ+r4UAqenjMr1UmBDEaQIxFkIIz0R3CMhHG3DUAgnAlgyIAG6jqIqgw4p8bzLy23dMI7u9La0cOHgSwABaJHIjhuOcJkyS2OaGjFrYT7hxi7GwYjaMduQDDzRAzNcBOa6SZUWsBgTz+uwQiFD4IU3s9660KOZPFeEwpX4Wex03DzV1+geDujUXcUTgcgOrq48/B6hlbGrg1tV28CUPGbj+qPrthwO65ZjnY63loUW1FRczvgz2g0wwHr8iB+lEdXlhP8qRbPkmJmmmEeJ8LiMi+Ly7x4187j5slahqvKrY1rQJHYAOlXsncO7QCxNWuHeCSUJx/zmZJksdIEgYejpyivvQ/tfqYvozRbu8CtjSsSLDEFwzvI01dnvQnHIyFO+3GcHT243YdCUiVyGC/rEr+ppN7fEEQ4a4GerB3HTMeE5BImFc4qft44lAkAsKeuF1OtnxSIAhFlnnyVK29cTi+e2MMkR3bkVJHw84S+gssNGWkis7VnT10vgfCLoHZiIztySgPm6q0scJRmMw7/9XGaKxKGUJQ52il0NHL1zd/HG94aIKFcz/M7UQc/BnUK5TCFohunOIFHfZK+0MbTvx9ltLez/h/sAAAAAElFTkSuQmCC) **TODO!**"
   ]
  },
  {
   "cell_type": "markdown",
   "metadata": {},
   "source": [
    "Combien de pokemons ont un nom commençant par A ?\n",
    "\n",
    "💡 Astuces :\n",
    "- vive les expressions régulières"
   ]
  },
  {
   "cell_type": "code",
   "execution_count": 12,
   "metadata": {},
   "outputs": [
    {
     "name": "stdout",
     "output_type": "stream",
     "text": [
      "33\n"
     ]
    }
   ],
   "source": [
    "count_a = pokemons_coll.count_documents({'Name': {'$regex': '^A'}})\n",
    "print(count_a)\n"
   ]
  },
  {
   "cell_type": "markdown",
   "metadata": {},
   "source": [
    "#### ![programming(3).png](data:image/png;base64,iVBORw0KGgoAAAANSUhEUgAAACAAAAAgCAYAAABzenr0AAAABHNCSVQICAgIfAhkiAAAAAlwSFlzAAAA3QAAAN0BcFOiBwAAABl0RVh0U29mdHdhcmUAd3d3Lmlua3NjYXBlLm9yZ5vuPBoAAAR7SURBVFiFtZdvaFVlHMc/z3PPuefuz825XWV3m5mWU1MLSVEyRoqKk2iLWBCT2uyFpTSIoCCHL0SDXkgUavhKCU3EpGmlorYSShtWig6M1M25gVPb3da2e6/3z3l6cf9u996d42pfOC/O8+/3+f2e5/f8EUopbKnplEHEtwpFDYj5gDf+AdyNfeo6guNoxa18Xv3QzrDCEmDTQS8OuQ1FPeC2R8sQgkNEze3s23B3YgCNB1y49GYQ7wH5Ng2PlR/UpwTDO9jfELQPsOVoKSrUghLLJmh4rJU2hLOWPXW91gCbDi1CipNAxf9iPKUeTLWeffXXcgNsOVqKGb40CcZTEFJfmh4JmaxqPOBChVom0ThABSrUQuMBV6JAS1a59Ob0OQ8J+MsYP0MUMDgwOL5JE5ZINy6XI95JLIstbpohMQWbDnqR8iZpq/1vB3xYalq6dPHXS5Ztzv4xl/K1UyBPJIr8mOZT7NtwNzYFDrmNCabawvmV6Jo2fqMBBd8GIJCMaH7cJpKmU0Z8k7GlaUVu1ixdAIBT19n6/mZ0Xefl6tWUTvfk7ugzR0Mo6mk6ZUgivlXY3OGmFblpqluDkLFQTvNM5f6DPvyBAFIKtn3wrjXEiSSEm4hvlYzt7faN/3LtBmfa2gGY7imho6sbgJbvz3Lu/AVriP40CEWNjB8slsp3OTGcGgPD/mTZdE8xnXEAgP7+QQzDoKDAYjklIIZ5VpI60cZVV28fu7/+gVeqnmP5wieTAB23YwArX1hO/Ws17Ny1l1udd6wH7Dfhu8Bi2wAAd+71sfvYOcpKitA1jalTHqOzqweAGeVePt61l47bNown9I9pWORPprrv+ei+50PXNc6cv8iIPzYlXx755lGHAimUJHaZeGSFwxH+vNExka4puYhocYA5Y+sK8gxerywHp4YyNNA1lFMDZ+r4UAqenjMr1UmBDEaQIxFkIIz0R3CMhHG3DUAgnAlgyIAG6jqIqgw4p8bzLy23dMI7u9La0cOHgSwABaJHIjhuOcJkyS2OaGjFrYT7hxi7GwYjaMduQDDzRAzNcBOa6SZUWsBgTz+uwQiFD4IU3s9660KOZPFeEwpX4Wex03DzV1+geDujUXcUTgcgOrq48/B6hlbGrg1tV28CUPGbj+qPrthwO65ZjnY63loUW1FRczvgz2g0wwHr8iB+lEdXlhP8qRbPkmJmmmEeJ8LiMi+Ly7x4187j5slahqvKrY1rQJHYAOlXsncO7QCxNWuHeCSUJx/zmZJksdIEgYejpyivvQ/tfqYvozRbu8CtjSsSLDEFwzvI01dnvQnHIyFO+3GcHT243YdCUiVyGC/rEr+ppN7fEEQ4a4GerB3HTMeE5BImFc4qft44lAkAsKeuF1OtnxSIAhFlnnyVK29cTi+e2MMkR3bkVJHw84S+gssNGWkis7VnT10vgfCLoHZiIztySgPm6q0scJRmMw7/9XGaKxKGUJQ52il0NHL1zd/HG94aIKFcz/M7UQc/BnUK5TCFohunOIFHfZK+0MbTvx9ltLez/h/sAAAAAElFTkSuQmCC) **TODO!**"
   ]
  },
  {
   "cell_type": "markdown",
   "metadata": {},
   "source": [
    "Afficher le nom des pokemons ayant un nom commençant par A et affichez les séparés par une barre verticale. \n",
    "\n",
    "Puis, triez les par ordre alphabétique avec python et affichez-les.\n",
    "\n",
    "Enfin, triez les par ordre alphabétique de nouveau mais à l'aide de mongodb (donc directement lors de la requête).\n",
    "\n",
    "💡 Astuces :\n",
    "- vous pourriez avoir besoin de `list comprehension` et autres astuces pratiques de python"
   ]
  },
  {
   "cell_type": "markdown",
   "metadata": {},
   "source": [
    "### Avec Python"
   ]
  },
  {
   "cell_type": "code",
   "execution_count": 13,
   "metadata": {},
   "outputs": [
    {
     "name": "stdout",
     "output_type": "stream",
     "text": [
      "Abomasnow | Abra | Absol | Accelgor | Aegislash | Aerodactyl | Aggron | Aipom | Alakazam | Alomomola | Altaria | Amaura | Ambipom | Amoonguss | Ampharos | Anorith | Arbok | Arcanine | Arceus | Archen | Archeops | Ariados | Armaldo | Aromatisse | Aron | Articuno | Audino | Aurorus | Avalugg | Axew | Azelf | Azumarill | Azurill\n"
     ]
    }
   ],
   "source": [
    "\n",
    "names_a = [p['Name'] for p in pokemons_coll.find({'Name': {'$regex': '^A'}}, {'Name': 1, '_id': 0})]\n",
    "print(' | '.join(sorted(names_a)))\n"
   ]
  },
  {
   "cell_type": "markdown",
   "metadata": {},
   "source": [
    "### Avec MongoDB"
   ]
  },
  {
   "cell_type": "code",
   "execution_count": 14,
   "metadata": {},
   "outputs": [
    {
     "name": "stdout",
     "output_type": "stream",
     "text": [
      "Abomasnow\n",
      "Abra\n",
      "Absol\n",
      "Accelgor\n",
      "Aegislash\n",
      "Aerodactyl\n",
      "Aggron\n",
      "Aipom\n",
      "Alakazam\n",
      "Alomomola\n",
      "Altaria\n",
      "Amaura\n",
      "Ambipom\n",
      "Amoonguss\n",
      "Ampharos\n",
      "Anorith\n",
      "Arbok\n",
      "Arcanine\n",
      "Arceus\n",
      "Archen\n",
      "Archeops\n",
      "Ariados\n",
      "Armaldo\n",
      "Aromatisse\n",
      "Aron\n",
      "Articuno\n",
      "Audino\n",
      "Aurorus\n",
      "Avalugg\n",
      "Axew\n",
      "Azelf\n",
      "Azumarill\n",
      "Azurill\n"
     ]
    }
   ],
   "source": [
    "for p in pokemons_coll.find({'Name': {'$regex': '^A'}}, {'Name': 1, '_id': 0}).sort('Name', 1):\n",
    "    print(p['Name'])"
   ]
  },
  {
   "cell_type": "markdown",
   "metadata": {},
   "source": [
    "#### ![programming(3).png](data:image/png;base64,iVBORw0KGgoAAAANSUhEUgAAACAAAAAgCAYAAABzenr0AAAABHNCSVQICAgIfAhkiAAAAAlwSFlzAAAA3QAAAN0BcFOiBwAAABl0RVh0U29mdHdhcmUAd3d3Lmlua3NjYXBlLm9yZ5vuPBoAAAR7SURBVFiFtZdvaFVlHMc/z3PPuefuz825XWV3m5mWU1MLSVEyRoqKk2iLWBCT2uyFpTSIoCCHL0SDXkgUavhKCU3EpGmlorYSShtWig6M1M25gVPb3da2e6/3z3l6cf9u996d42pfOC/O8+/3+f2e5/f8EUopbKnplEHEtwpFDYj5gDf+AdyNfeo6guNoxa18Xv3QzrDCEmDTQS8OuQ1FPeC2R8sQgkNEze3s23B3YgCNB1y49GYQ7wH5Ng2PlR/UpwTDO9jfELQPsOVoKSrUghLLJmh4rJU2hLOWPXW91gCbDi1CipNAxf9iPKUeTLWeffXXcgNsOVqKGb40CcZTEFJfmh4JmaxqPOBChVom0ThABSrUQuMBV6JAS1a59Ob0OQ8J+MsYP0MUMDgwOL5JE5ZINy6XI95JLIstbpohMQWbDnqR8iZpq/1vB3xYalq6dPHXS5Ztzv4xl/K1UyBPJIr8mOZT7NtwNzYFDrmNCabawvmV6Jo2fqMBBd8GIJCMaH7cJpKmU0Z8k7GlaUVu1ixdAIBT19n6/mZ0Xefl6tWUTvfk7ugzR0Mo6mk6ZUgivlXY3OGmFblpqluDkLFQTvNM5f6DPvyBAFIKtn3wrjXEiSSEm4hvlYzt7faN/3LtBmfa2gGY7imho6sbgJbvz3Lu/AVriP40CEWNjB8slsp3OTGcGgPD/mTZdE8xnXEAgP7+QQzDoKDAYjklIIZ5VpI60cZVV28fu7/+gVeqnmP5wieTAB23YwArX1hO/Ws17Ny1l1udd6wH7Dfhu8Bi2wAAd+71sfvYOcpKitA1jalTHqOzqweAGeVePt61l47bNown9I9pWORPprrv+ei+50PXNc6cv8iIPzYlXx755lGHAimUJHaZeGSFwxH+vNExka4puYhocYA5Y+sK8gxerywHp4YyNNA1lFMDZ+r4UAqenjMr1UmBDEaQIxFkIIz0R3CMhHG3DUAgnAlgyIAG6jqIqgw4p8bzLy23dMI7u9La0cOHgSwABaJHIjhuOcJkyS2OaGjFrYT7hxi7GwYjaMduQDDzRAzNcBOa6SZUWsBgTz+uwQiFD4IU3s9660KOZPFeEwpX4Wex03DzV1+geDujUXcUTgcgOrq48/B6hlbGrg1tV28CUPGbj+qPrthwO65ZjnY63loUW1FRczvgz2g0wwHr8iB+lEdXlhP8qRbPkmJmmmEeJ8LiMi+Ly7x4187j5slahqvKrY1rQJHYAOlXsncO7QCxNWuHeCSUJx/zmZJksdIEgYejpyivvQ/tfqYvozRbu8CtjSsSLDEFwzvI01dnvQnHIyFO+3GcHT243YdCUiVyGC/rEr+ppN7fEEQ4a4GerB3HTMeE5BImFc4qft44lAkAsKeuF1OtnxSIAhFlnnyVK29cTi+e2MMkR3bkVJHw84S+gssNGWkis7VnT10vgfCLoHZiIztySgPm6q0scJRmMw7/9XGaKxKGUJQ52il0NHL1zd/HG94aIKFcz/M7UQc/BnUK5TCFohunOIFHfZK+0MbTvx9ltLez/h/sAAAAAElFTkSuQmCC) **TODO!**"
   ]
  },
  {
   "cell_type": "markdown",
   "metadata": {},
   "source": [
    "Affichez un dict pour représenter les données par type principal du pokemon, puis créez une collection par type"
   ]
  },
  {
   "cell_type": "code",
   "execution_count": 16,
   "metadata": {},
   "outputs": [],
   "source": [
    "\n",
    "par_type = {}\n",
    "for pokemon in pokemons_coll.find():\n",
    "    type = pokemon['Type_1']\n",
    "    if type not in par_type:\n",
    "        par_type[type] = []\n",
    "    par_type[type].append(pokemon)\n",
    "\n",
    "for type, pokes in par_type.items():\n",
    "    for poke in pokes:\n",
    "        if '_id' in poke:\n",
    "            del poke['_id']\n",
    "    db[type.lower()].insert_many(pokes)\n",
    "\n",
    "\n"
   ]
  },
  {
   "cell_type": "markdown",
   "metadata": {},
   "source": [
    "#### ![programming(3).png](data:image/png;base64,iVBORw0KGgoAAAANSUhEUgAAACAAAAAgCAYAAABzenr0AAAABHNCSVQICAgIfAhkiAAAAAlwSFlzAAAA3QAAAN0BcFOiBwAAABl0RVh0U29mdHdhcmUAd3d3Lmlua3NjYXBlLm9yZ5vuPBoAAAR7SURBVFiFtZdvaFVlHMc/z3PPuefuz825XWV3m5mWU1MLSVEyRoqKk2iLWBCT2uyFpTSIoCCHL0SDXkgUavhKCU3EpGmlorYSShtWig6M1M25gVPb3da2e6/3z3l6cf9u996d42pfOC/O8+/3+f2e5/f8EUopbKnplEHEtwpFDYj5gDf+AdyNfeo6guNoxa18Xv3QzrDCEmDTQS8OuQ1FPeC2R8sQgkNEze3s23B3YgCNB1y49GYQ7wH5Ng2PlR/UpwTDO9jfELQPsOVoKSrUghLLJmh4rJU2hLOWPXW91gCbDi1CipNAxf9iPKUeTLWeffXXcgNsOVqKGb40CcZTEFJfmh4JmaxqPOBChVom0ThABSrUQuMBV6JAS1a59Ob0OQ8J+MsYP0MUMDgwOL5JE5ZINy6XI95JLIstbpohMQWbDnqR8iZpq/1vB3xYalq6dPHXS5Ztzv4xl/K1UyBPJIr8mOZT7NtwNzYFDrmNCabawvmV6Jo2fqMBBd8GIJCMaH7cJpKmU0Z8k7GlaUVu1ixdAIBT19n6/mZ0Xefl6tWUTvfk7ugzR0Mo6mk6ZUgivlXY3OGmFblpqluDkLFQTvNM5f6DPvyBAFIKtn3wrjXEiSSEm4hvlYzt7faN/3LtBmfa2gGY7imho6sbgJbvz3Lu/AVriP40CEWNjB8slsp3OTGcGgPD/mTZdE8xnXEAgP7+QQzDoKDAYjklIIZ5VpI60cZVV28fu7/+gVeqnmP5wieTAB23YwArX1hO/Ws17Ny1l1udd6wH7Dfhu8Bi2wAAd+71sfvYOcpKitA1jalTHqOzqweAGeVePt61l47bNown9I9pWORPprrv+ei+50PXNc6cv8iIPzYlXx755lGHAimUJHaZeGSFwxH+vNExka4puYhocYA5Y+sK8gxerywHp4YyNNA1lFMDZ+r4UAqenjMr1UmBDEaQIxFkIIz0R3CMhHG3DUAgnAlgyIAG6jqIqgw4p8bzLy23dMI7u9La0cOHgSwABaJHIjhuOcJkyS2OaGjFrYT7hxi7GwYjaMduQDDzRAzNcBOa6SZUWsBgTz+uwQiFD4IU3s9660KOZPFeEwpX4Wex03DzV1+geDujUXcUTgcgOrq48/B6hlbGrg1tV28CUPGbj+qPrthwO65ZjnY63loUW1FRczvgz2g0wwHr8iB+lEdXlhP8qRbPkmJmmmEeJ8LiMi+Ly7x4187j5slahqvKrY1rQJHYAOlXsncO7QCxNWuHeCSUJx/zmZJksdIEgYejpyivvQ/tfqYvozRbu8CtjSsSLDEFwzvI01dnvQnHIyFO+3GcHT243YdCUiVyGC/rEr+ppN7fEEQ4a4GerB3HTMeE5BImFc4qft44lAkAsKeuF1OtnxSIAhFlnnyVK29cTi+e2MMkR3bkVJHw84S+gssNGWkis7VnT10vgfCLoHZiIztySgPm6q0scJRmMw7/9XGaKxKGUJQ52il0NHL1zd/HG94aIKFcz/M7UQc/BnUK5TCFohunOIFHfZK+0MbTvx9ltLez/h/sAAAAAElFTkSuQmCC) **TODO!**"
   ]
  },
  {
   "cell_type": "markdown",
   "metadata": {},
   "source": [
    "Supprimez les informations du pokemon de votre choix, puis supprimez un pokemon au hasard"
   ]
  },
  {
   "cell_type": "code",
   "execution_count": 17,
   "metadata": {},
   "outputs": [
    {
     "data": {
      "text/plain": [
       "DeleteResult({'n': 1, 'ok': 1.0}, acknowledged=True)"
      ]
     },
     "execution_count": 17,
     "metadata": {},
     "output_type": "execute_result"
    }
   ],
   "source": [
    "pokemons_coll.delete_one({'Name': 'Squirtle'})\n"
   ]
  },
  {
   "cell_type": "code",
   "execution_count": 18,
   "metadata": {},
   "outputs": [
    {
     "data": {
      "text/plain": [
       "DeleteResult({'n': 1, 'ok': 1.0}, acknowledged=True)"
      ]
     },
     "execution_count": 18,
     "metadata": {},
     "output_type": "execute_result"
    }
   ],
   "source": [
    "from random import choice\n",
    "\n",
    "tout_pokemons = [p['_id'] for p in pokemons_coll.find({}, {'_id': 1})]\n",
    "random_id = choice(tout_pokemons)\n",
    "pokemons_coll.delete_one({'_id': random_id})"
   ]
  },
  {
   "cell_type": "markdown",
   "metadata": {},
   "source": [
    "#### ![programming(3).png](data:image/png;base64,iVBORw0KGgoAAAANSUhEUgAAACAAAAAgCAYAAABzenr0AAAABHNCSVQICAgIfAhkiAAAAAlwSFlzAAAA3QAAAN0BcFOiBwAAABl0RVh0U29mdHdhcmUAd3d3Lmlua3NjYXBlLm9yZ5vuPBoAAAR7SURBVFiFtZdvaFVlHMc/z3PPuefuz825XWV3m5mWU1MLSVEyRoqKk2iLWBCT2uyFpTSIoCCHL0SDXkgUavhKCU3EpGmlorYSShtWig6M1M25gVPb3da2e6/3z3l6cf9u996d42pfOC/O8+/3+f2e5/f8EUopbKnplEHEtwpFDYj5gDf+AdyNfeo6guNoxa18Xv3QzrDCEmDTQS8OuQ1FPeC2R8sQgkNEze3s23B3YgCNB1y49GYQ7wH5Ng2PlR/UpwTDO9jfELQPsOVoKSrUghLLJmh4rJU2hLOWPXW91gCbDi1CipNAxf9iPKUeTLWeffXXcgNsOVqKGb40CcZTEFJfmh4JmaxqPOBChVom0ThABSrUQuMBV6JAS1a59Ob0OQ8J+MsYP0MUMDgwOL5JE5ZINy6XI95JLIstbpohMQWbDnqR8iZpq/1vB3xYalq6dPHXS5Ztzv4xl/K1UyBPJIr8mOZT7NtwNzYFDrmNCabawvmV6Jo2fqMBBd8GIJCMaH7cJpKmU0Z8k7GlaUVu1ixdAIBT19n6/mZ0Xefl6tWUTvfk7ugzR0Mo6mk6ZUgivlXY3OGmFblpqluDkLFQTvNM5f6DPvyBAFIKtn3wrjXEiSSEm4hvlYzt7faN/3LtBmfa2gGY7imho6sbgJbvz3Lu/AVriP40CEWNjB8slsp3OTGcGgPD/mTZdE8xnXEAgP7+QQzDoKDAYjklIIZ5VpI60cZVV28fu7/+gVeqnmP5wieTAB23YwArX1hO/Ws17Ny1l1udd6wH7Dfhu8Bi2wAAd+71sfvYOcpKitA1jalTHqOzqweAGeVePt61l47bNown9I9pWORPprrv+ei+50PXNc6cv8iIPzYlXx755lGHAimUJHaZeGSFwxH+vNExka4puYhocYA5Y+sK8gxerywHp4YyNNA1lFMDZ+r4UAqenjMr1UmBDEaQIxFkIIz0R3CMhHG3DUAgnAlgyIAG6jqIqgw4p8bzLy23dMI7u9La0cOHgSwABaJHIjhuOcJkyS2OaGjFrYT7hxi7GwYjaMduQDDzRAzNcBOa6SZUWsBgTz+uwQiFD4IU3s9660KOZPFeEwpX4Wex03DzV1+geDujUXcUTgcgOrq48/B6hlbGrg1tV28CUPGbj+qPrthwO65ZjnY63loUW1FRczvgz2g0wwHr8iB+lEdXlhP8qRbPkmJmmmEeJ8LiMi+Ly7x4187j5slahqvKrY1rQJHYAOlXsncO7QCxNWuHeCSUJx/zmZJksdIEgYejpyivvQ/tfqYvozRbu8CtjSsSLDEFwzvI01dnvQnHIyFO+3GcHT243YdCUiVyGC/rEr+ppN7fEEQ4a4GerB3HTMeE5BImFc4qft44lAkAsKeuF1OtnxSIAhFlnnyVK29cTi+e2MMkR3bkVJHw84S+gssNGWkis7VnT10vgfCLoHZiIztySgPm6q0scJRmMw7/9XGaKxKGUJQ52il0NHL1zd/HG94aIKFcz/M7UQc/BnUK5TCFohunOIFHfZK+0MbTvx9ltLez/h/sAAAAAElFTkSuQmCC) **TODO!**"
   ]
  },
  {
   "cell_type": "markdown",
   "metadata": {},
   "source": [
    "Affichez les noms de chaque type1, séparés par un espace, à partir des collections de type1"
   ]
  },
  {
   "cell_type": "code",
   "execution_count": 19,
   "metadata": {},
   "outputs": [
    {
     "name": "stdout",
     "output_type": "stream",
     "text": [
      "grass ground ghost flying dark electric fairy fire psychic rock fighting dragon poison normal ice bug steel water "
     ]
    }
   ],
   "source": [
    "for type in db.list_collection_names():\n",
    "    if type != 'pokemons':\n",
    "        print(type, end=' ')\n",
    "\n"
   ]
  },
  {
   "cell_type": "markdown",
   "metadata": {},
   "source": [
    "Et voilà~ ! Vous avez appris à utiliser MongoDB pour les opérations basiques :\n",
    "- Create\n",
    "- Read\n",
    "- Update\n",
    "- Delete\n",
    "\n",
    "donc le CRUD 😃"
   ]
  }
 ],
 "metadata": {
  "kernelspec": {
   "display_name": "Python 3",
   "language": "python",
   "name": "python3"
  },
  "language_info": {
   "codemirror_mode": {
    "name": "ipython",
    "version": 3
   },
   "file_extension": ".py",
   "mimetype": "text/x-python",
   "name": "python",
   "nbconvert_exporter": "python",
   "pygments_lexer": "ipython3",
   "version": "3.12.3"
  }
 },
 "nbformat": 4,
 "nbformat_minor": 2
}
