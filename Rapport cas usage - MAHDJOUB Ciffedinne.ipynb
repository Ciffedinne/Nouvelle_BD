{
 "cells": [
  {
   "cell_type": "markdown",
   "metadata": {},
   "source": [
    "<h1><center><strong style=\"color: #293358\"><br/>Rapport Cas D'Usage <br/> MAHDJOUB Ciffedinne - 12300727</strong></center></h1>\n",
    "<center>\n",
    "<h3 style=\"color: #8b7d6d\"><a href=\"https://github.com/Ciffedinne\">Lien Github</a></h3>\n",
    "<email>ciffedinnemahdjoub@gmail.com</email>\n",
    "<br/>\n",
    "2025-2026\n",
    "\n",
    "</center>"
   ]
  },
  {
   "cell_type": "markdown",
   "metadata": {},
   "source": [
    "# Les TDS"
   ]
  },
  {
   "cell_type": "markdown",
   "metadata": {},
   "source": [
    "# Cas d'usage\n",
    "\n",
    "## Introduction:\n",
    "\n",
    "L’entreprise Team Cherry souhaite améliorer la difficulté du jeu Hollow Knight. Pour cela, elle veut analyser les comportements des joueurs, notamment : Le temps moyen pour battre les boss Les charms les plus utilisés Les zones où les joueurs meurent souvent Les speedruns (temps total pour finir le jeu) Ces informations permettront d’identifier les boss trop faciles, les charmes trop puissants, et d’ajuster la courbe de progression."
   ]
  },
  {
   "cell_type": "markdown",
   "metadata": {},
   "source": [
    "\n",
    "## Sources de données:\n",
    "\n",
    "* Speedrun.com : plus de 12 000 speedruns répertoriés avec temps, catégories et pseudonymes des joueurs.\n",
    "\n",
    "* TheRun.gg : statistiques avancées, taux de réussite et vitesse moyenne par boss.\n",
    "\n",
    "* Kaggle (Steam Game Data) : données sur le temps de jeu, réussites et satisfaction utilisateur.\n",
    "\n",
    "Ces données, importées via API, offrent une base réaliste pour étudier les tendances globales sans simuler artificiellement les résultats."
   ]
  },
  {
   "cell_type": "markdown",
   "metadata": {},
   "source": [
    "## Methode\n",
    "\n",
    "Pour stocker et analyser les données des joueurs de Hollow Knight, j’ai regardé trois bases de données : CockroachDB, MongoDB et Redis.\n",
    "\n",
    "* CockroachDB est une base relationnelle moderne (NewSQL) qui fonctionne bien pour les données très structurées avec schéma fixe. Mais pour notre projet, les données changent souvent (boss, charmes, morts…), donc le schéma rigide est un frein.\n",
    "\n",
    "* MongoDB stocke les données en JSON sans forcément avoir un schéma fixe, ce qui est parfait pour des profils joueurs variés et évolutifs. En plus, elle permet des analyses complexes directement dans la base (temps moyen, classements…).\n",
    "\n",
    "* Redis est super rapide et fonctionne en mémoire, mais il est mieux pour des données simples comme les compteurs en temps réel. Pour garder toutes les données et faire des analyses avancées, ce n’est pas adapté.\n",
    "\n",
    "##### Exemple de données:\n",
    "Un joueur a un profil avec son pseudo, son pays, le temps de jeu total, la liste des boss battus avec le temps et le nombre d’essais, les charmes utilisés avec leurs utilisations, et les morts totales.\n",
    "\n",
    "#### Pourquoi MongoDB ?\n",
    "J'ai choisis MongoDB parce que c’est la meilleure pour ce que recherche l'entreprise:\n",
    "\n",
    "* elle gère bien les données qui changent beaucoup,\n",
    "\n",
    "* elle fait des analyses poussées facilement,\n",
    "\n",
    "* elle est assez rapide et scalable.\n",
    "\n",
    "CockroachDB est trop rigide et Redis ne fait pas tout ce qu’on veut. Donc pour analyser le comportement des joueurs et faire évoluer le jeu, MongoDB est la meilleure option."
   ]
  },
  {
   "cell_type": "markdown",
   "metadata": {},
   "source": [
    "### Modélisation des données\n",
    "\n",
    "##### Collections principales :\n",
    "* speedruns : Contient les informations de chaque speedrun et profil du joueur\n",
    "\n",
    "* _id : Identifiant unique\n",
    "\n",
    "* Name : Nom du joueur\n",
    "\n",
    "* Platform : Plateforme de jeu (PC, etc.)\n",
    "\n",
    "* Category : Catégorie du speedrun (Any%, True Ending, etc.)\n",
    "\n",
    "* RecordTime : Temps réalisé en secondes\n",
    "\n",
    "* Date : Date du record\n",
    "\n",
    "* BossesBattus : Liste des boss battus, tableau d’objets contenant :\n",
    "\n",
    "* nom : Nom du boss\n",
    "\n",
    "* temps_battu : Temps pour battre le boss (en secondes)\n",
    "\n",
    "* victory : Booléen indiquant la victoire ou non\n",
    "\n",
    "* MainCharmsUsed : Liste des charmes principaux utilisés (tableau de chaînes)\n",
    "\n",
    "* MainSpells : Liste des sorts principaux utilisés (tableau de chaînes)\n",
    "\n",
    "* ZonesMorts : Liste des zones où le joueur est mort, tableau d’objets avec :\n",
    "\n",
    "* zone : Nom de la zone\n",
    "\n",
    "* nombre_morts : Nombre de morts dans cette zone\n",
    "\n",
    "* DeathCount : Total des morts pendant le run\n",
    "\n",
    "* SpeedrunVersion : Version du jeu au moment du speedrun\n",
    "\n",
    "* Country : Pays du joueur\n",
    "\n",
    "* AdditionalNotes : Notes additionnelles sur le run"
   ]
  },
  {
   "cell_type": "code",
   "execution_count": 2,
   "metadata": {},
   "outputs": [],
   "source": [
    "import json\n",
    "import pandas as pd"
   ]
  },
  {
   "cell_type": "code",
   "execution_count": 3,
   "metadata": {},
   "outputs": [
    {
     "name": "stdout",
     "output_type": "stream",
     "text": [
      "                                    _id          Name Platform     Category  RecordTime                               Date                                                                                                                                                                                                                                                                                                                                                                                                                                                                                                                                                                                                                                                                                                                                                                                                                                                                                                                                                                                                                                                                                                                                                                                                                                                                                         BossesBattus                                                              MainCharmsUsed                                   MainSpells                                                                                                                            ZonesMorts  DeathCount SpeedrunVersion    Country                                                 AdditionalNotes\n",
      "0  {'$oid': '671a2a11a1a1a1a1a1a1a111'}         Phirb       PC         Any%        3155  {'$date': '2025-06-12T14:30:00Z'}                                                                                                                                                                                                                                                                                                                                                                                                                                                                                                                                        [{'nom': 'False Knight', 'temps_battu': 120, 'victory': True}, {'nom': 'Hornet (Greenpath)', 'temps_battu': 180, 'victory': True}, {'nom': 'Mantis Lords', 'temps_battu': 0, 'victory': False}, {'nom': 'Soul Master', 'temps_battu': 0, 'victory': False}, {'nom': 'Broken Vessel', 'temps_battu': 0, 'victory': False}, {'nom': 'Watcher Knights', 'temps_battu': 540, 'victory': True}, {'nom': 'Uumuu', 'temps_battu': 0, 'victory': False}, {'nom': 'Nosk', 'temps_battu': 0, 'victory': False}, {'nom': 'Dung Defender', 'temps_battu': 0, 'victory': False}, {'nom': 'Traitor Lord', 'temps_battu': 0, 'victory': False}, {'nom': 'The Hollow Knight', 'temps_battu': 1500, 'victory': True}, {'nom': 'Radiance', 'temps_battu': 0, 'victory': False}]                                     [Quick Slash, Dashmaster, Shaman Stone]                [Vengeful Spirit, Shade Soul]                                                 [{'zone': 'Greenpath', 'nombre_morts': 1}, {'zone': 'Fog Canyon', 'nombre_morts': 2}]           3    1.5.78.11833        USA            Any% run classique, skip de plusieurs boss et zones.\n",
      "1  {'$oid': '671a2a11a1a1a1a1a1a1a112'}        Adikac       PC  True Ending        6150  {'$date': '2025-09-10T18:45:00Z'}                                                                                                                                                                                                                                                                                                                                                                                                                                                                                                                               [{'nom': 'False Knight', 'temps_battu': 110, 'victory': True}, {'nom': 'Hornet (Greenpath)', 'temps_battu': 170, 'victory': True}, {'nom': 'Mantis Lords', 'temps_battu': 210, 'victory': True}, {'nom': 'Soul Master', 'temps_battu': 250, 'victory': True}, {'nom': 'Broken Vessel', 'temps_battu': 300, 'victory': True}, {'nom': 'Watcher Knights', 'temps_battu': 540, 'victory': True}, {'nom': 'Uumuu', 'temps_battu': 480, 'victory': True}, {'nom': 'Nosk', 'temps_battu': 400, 'victory': True}, {'nom': 'Dung Defender', 'temps_battu': 260, 'victory': True}, {'nom': 'Traitor Lord', 'temps_battu': 600, 'victory': True}, {'nom': 'The Hollow Knight', 'temps_battu': 1600, 'victory': True}, {'nom': 'Radiance', 'temps_battu': 1500, 'victory': True}]                           [Quick Slash, Shaman Stone, Unbreakable Strength]          [Abyss Shriek, Descend, Shade Soul]                                                 [{'zone': 'Deepnest', 'nombre_morts': 2}, {'zone': 'King's Pass', 'nombre_morts': 1}]           3    1.5.78.11833     Canada               Route complÃ¨te True Ending avec Radiance finale.\n",
      "2  {'$oid': '671a2a11a1a1a1a1a1a1a113'}  Wohainenggou       PC         112%       16200  {'$date': '2025-05-25T08:20:00Z'}  [{'nom': 'False Knight', 'temps_battu': 140, 'victory': True}, {'nom': 'Hornet (Greenpath)', 'temps_battu': 180, 'victory': True}, {'nom': 'Mantis Lords', 'temps_battu': 210, 'victory': True}, {'nom': 'Soul Master', 'temps_battu': 260, 'victory': True}, {'nom': 'Broken Vessel', 'temps_battu': 300, 'victory': True}, {'nom': 'Watcher Knights', 'temps_battu': 520, 'victory': True}, {'nom': 'Uumuu', 'temps_battu': 450, 'victory': True}, {'nom': 'Nosk', 'temps_battu': 420, 'victory': True}, {'nom': 'Dung Defender', 'temps_battu': 240, 'victory': True}, {'nom': 'White Defender', 'temps_battu': 300, 'victory': True}, {'nom': 'Traitor Lord', 'temps_battu': 600, 'victory': True}, {'nom': 'Grimm', 'temps_battu': 1100, 'victory': True}, {'nom': 'Nightmare King Grimm', 'temps_battu': 1500, 'victory': True}, {'nom': 'The Hollow Knight', 'temps_battu': 1900, 'victory': True}, {'nom': 'Radiance', 'temps_battu': 1600, 'victory': True}, {'nom': 'Pure Vessel', 'temps_battu': 1000, 'victory': True}, {'nom': 'Collector', 'temps_battu': 300, 'victory': True}, {'nom': 'Brooding Mawlek', 'temps_battu': 180, 'victory': True}, {'nom': 'Crystal Guardian', 'temps_battu': 200, 'victory': True}, {'nom': 'Enraged Guardian', 'temps_battu': 350, 'victory': True}]  [Quick Slash, Grubsong, Mark of Pride, Unbreakable Strength, Shaman Stone]  [Abyss Shriek, Shade Soul, Howling Wraiths]  [{'zone': 'Deepnest', 'nombre_morts': 3}, {'zone': 'City of Tears', 'nombre_morts': 2}, {'zone': 'Path of Pain', 'nombre_morts': 5}]          10    1.5.78.11833      China  Run 112% complet incluant tous les boss et zones optionnelles.\n",
      "3  {'$oid': '671a2a11a1a1a1a1a1a1a114'}       Mossbag       PC         Low%        2700  {'$date': '2025-03-15T11:10:00Z'}                                                                                                                                                                                                                                                                                                                                                                                                                                                                                                                                                                                                                                                                                                                                                                                                                                                                                                       [{'nom': 'False Knight', 'temps_battu': 110, 'victory': True}, {'nom': 'Hornet (Greenpath)', 'temps_battu': 0, 'victory': False}, {'nom': 'Mantis Lords', 'temps_battu': 0, 'victory': False}, {'nom': 'Soul Master', 'temps_battu': 0, 'victory': False}, {'nom': 'Watcher Knights', 'temps_battu': 0, 'victory': False}, {'nom': 'The Hollow Knight', 'temps_battu': 1500, 'victory': True}]                                      [Fury of the Fallen, Fragile Strength]                            [Vengeful Spirit]                                                                                           [{'zone': 'Crossroads', 'nombre_morts': 1}]           1    1.5.78.11833  Australia  Run Low%, trÃ¨s peu de pouvoirs ou dâ€™amÃ©liorations obtenus.\n",
      "4  {'$oid': '671a2a11a1a1a1a1a1a1a115'}       Shizzal       PC   All Bosses       13500  {'$date': '2025-04-20T09:50:00Z'}                                                                                                                                                                                                                                                                                                                                                                                                  [{'nom': 'False Knight', 'temps_battu': 100, 'victory': True}, {'nom': 'Hornet (Greenpath)', 'temps_battu': 160, 'victory': True}, {'nom': 'Mantis Lords', 'temps_battu': 200, 'victory': True}, {'nom': 'Soul Master', 'temps_battu': 250, 'victory': True}, {'nom': 'Watcher Knights', 'temps_battu': 520, 'victory': True}, {'nom': 'Uumuu', 'temps_battu': 480, 'victory': True}, {'nom': 'Nosk', 'temps_battu': 400, 'victory': True}, {'nom': 'Broken Vessel', 'temps_battu': 320, 'victory': True}, {'nom': 'Traitor Lord', 'temps_battu': 580, 'victory': True}, {'nom': 'Grimm', 'temps_battu': 1000, 'victory': True}, {'nom': 'Nightmare King Grimm', 'temps_battu': 1400, 'victory': True}, {'nom': 'Pure Vessel', 'temps_battu': 950, 'victory': True}, {'nom': 'The Hollow Knight', 'temps_battu': 1700, 'victory': True}, {'nom': 'Radiance', 'temps_battu': 1550, 'victory': True}]            [Quick Slash, Unbreakable Strength, Shaman Stone, Mark of Pride]                   [Abyss Shriek, Shade Soul]                                                [{'zone': 'Path of Pain', 'nombre_morts': 3}, {'zone': 'Deepnest', 'nombre_morts': 1}]           4    1.5.78.11833    Germany    CatÃ©gorie All Bosses : tous les boss inclus, y compris DLC.\n"
     ]
    }
   ],
   "source": [
    "\n",
    "import numpy as np\n",
    "\n",
    "with open(\"hollow_knight.json\") as f:\n",
    "    hknight = json.load(f)\n",
    "\n",
    "\n",
    "df = pd.DataFrame.from_records(hknight)\n",
    "df = df.replace(np.nan, None)\n",
    "print(df.to_string())\n",
    "\n",
    "\n"
   ]
  },
  {
   "cell_type": "code",
   "execution_count": null,
   "metadata": {},
   "outputs": [],
   "source": [
    "hknight = df.to_dict(orient=\"records\")"
   ]
  },
  {
   "cell_type": "code",
   "execution_count": 4,
   "metadata": {},
   "outputs": [
    {
     "ename": "NameError",
     "evalue": "name 'pymongo' is not defined",
     "output_type": "error",
     "traceback": [
      "\u001b[31m---------------------------------------------------------------------------\u001b[39m",
      "\u001b[31mNameError\u001b[39m                                 Traceback (most recent call last)",
      "\u001b[36mCell\u001b[39m\u001b[36m \u001b[39m\u001b[32mIn[4]\u001b[39m\u001b[32m, line 1\u001b[39m\n\u001b[32m----> \u001b[39m\u001b[32m1\u001b[39m myclient = \u001b[43mpymongo\u001b[49m.MongoClient(\u001b[33m\"\u001b[39m\u001b[33mmongodb://localhost:27017/\u001b[39m\u001b[33m\"\u001b[39m)\n\u001b[32m      3\u001b[39m but3db = myclient[\u001b[33m\"\u001b[39m\u001b[33mbut3\u001b[39m\u001b[33m\"\u001b[39m]\n\u001b[32m      6\u001b[39m hknight_coll = but3db[\u001b[33m\"\u001b[39m\u001b[33mhknight\u001b[39m\u001b[33m\"\u001b[39m]\n",
      "\u001b[31mNameError\u001b[39m: name 'pymongo' is not defined"
     ]
    }
   ],
   "source": [
    "\n",
    "myclient = pymongo.MongoClient(\"mongodb://localhost:27017/\")\n",
    "\n",
    "but3db = myclient[\"but3\"]\n",
    "\n",
    "\n",
    "hknight_coll = but3db[\"hknight\"]"
   ]
  },
  {
   "cell_type": "markdown",
   "metadata": {},
   "source": [
    "### Analyse des données"
   ]
  },
  {
   "cell_type": "markdown",
   "metadata": {},
   "source": [
    "* Quel sont les dix speedrunners a avoir fini le plus vite le jeu ?"
   ]
  },
  {
   "cell_type": "markdown",
   "metadata": {},
   "source": [
    "db.hknight.find(\n",
    "  {},\n",
    "  { Name: 1, RecordTime: 1, Category: 1, _id: 0 }\n",
    ").sort({ RecordTime: 1 }).limit(10)\n",
    "\n",
    "                  "
   ]
  },
  {
   "cell_type": "markdown",
   "metadata": {},
   "source": [
    "* Parmis tout les speedrunners quels sont les charms le splus utiliser ?"
   ]
  },
  {
   "cell_type": "markdown",
   "metadata": {},
   "source": [
    "db.hknight.find(\n",
    "  {},\n",
    "  { Name: 1, MainCharmsUsed: 1, _id: 0 }\n",
    ")"
   ]
  },
  {
   "cell_type": "markdown",
   "metadata": {},
   "source": [
    "* Les charms qui font le plus de degat?"
   ]
  },
  {
   "cell_type": "markdown",
   "metadata": {},
   "source": [
    "db.players.distinct(\"charms_utilises.nom\")"
   ]
  },
  {
   "cell_type": "markdown",
   "metadata": {},
   "source": [
    "db.hknight.find(\n",
    "  { MainCharmsUsed: { $in: [\"Unbreakable Strength\", \"Fragile Strength\", \"Fury of the Fallen\"] } },\n",
    "  { _id: 0, Name: 1, MainCharmsUsed: 1 }\n",
    ")"
   ]
  },
  {
   "cell_type": "markdown",
   "metadata": {},
   "source": [
    "* Classement des charms les plus utilisés"
   ]
  },
  {
   "cell_type": "markdown",
   "metadata": {},
   "source": [
    "db.hknight.aggregate([\n",
    "  { $unwind: \"$MainCharmsUsed\" },\n",
    "  { $group: { _id: \"$MainCharmsUsed\", count: { $sum: 1 } } },\n",
    "  { $sort: { count: -1 } }\n",
    "])\n"
   ]
  },
  {
   "cell_type": "markdown",
   "metadata": {},
   "source": [
    "* Boss les plus souvent battus"
   ]
  },
  {
   "cell_type": "markdown",
   "metadata": {},
   "source": [
    "db.hknight.aggregate([\n",
    "  { $unwind: \"$BossesBattus\" },\n",
    "  { $match: { \"BossesBattus.victory\": true } },\n",
    "  { $group: { _id: \"$BossesBattus.nom\", count: { $sum: 1 } } },\n",
    "  { $sort: { count: -1 } }\n",
    "])\n"
   ]
  },
  {
   "cell_type": "markdown",
   "metadata": {},
   "source": [
    "* Zones où les joueurs meurent le plus"
   ]
  },
  {
   "cell_type": "markdown",
   "metadata": {},
   "source": [
    "db.hknight.aggregate([\n",
    "  { $unwind: \"$ZonesMorts\" },\n",
    "  { $group: { _id: \"$ZonesMorts.zone\", morts_totales: { $sum: \"$ZonesMorts.nombre_morts\" } } },\n",
    "  { $sort: { morts_totales: -1 } }\n",
    "])"
   ]
  },
  {
   "cell_type": "markdown",
   "metadata": {},
   "source": [
    "## Résultats"
   ]
  },
  {
   "cell_type": "code",
   "execution_count": 2,
   "metadata": {},
   "outputs": [
    {
     "data": {
      "image/png": "[encoded data removed]",
      "text/plain": [
       "<Figure size 800x600 with 1 Axes>"
      ]
     },
     "metadata": {},
     "output_type": "display_data"
    }
   ],
   "source": [
    "\n",
    "import pandas as pd\n",
    "import matplotlib.pyplot as plt\n",
    "\n",
    "# Exemple de structure simulée\n",
    "data = {'Zones': ['Path of Pain', 'Deepnest', 'City of Tears'], 'Morts Totales': [15, 10, 8]}\n",
    "df = pd.DataFrame(data)\n",
    "\n",
    "plt.figure(figsize=(8,6))\n",
    "plt.bar(df['Zones'], df['Morts Totales'], color='tomato')\n",
    "plt.title('Zones avec le plus de morts')\n",
    "plt.xlabel('Zone')\n",
    "plt.ylabel('Nombre total de morts')\n",
    "plt.show()"
   ]
  },
  {
   "cell_type": "code",
   "execution_count": 3,
   "metadata": {},
   "outputs": [
    {
     "data": {
      "image/png": "[encoded data removed]",
      "text/plain": [
       "<Figure size 1000x600 with 1 Axes>"
      ]
     },
     "metadata": {},
     "output_type": "display_data"
    }
   ],
   "source": [
    "import pandas as pd\n",
    "import matplotlib.pyplot as plt\n",
    "\n",
    "# Exemple de structure de données (à remplacer par tes vraies données)\n",
    "data = {\n",
    "    'Boss': ['False Knight', 'Hornet', 'Mantis Lords', 'Soul Master', 'Watcher Knights'],\n",
    "    'Morts': [22, 15, 30, 12, 18]\n",
    "}\n",
    "df = pd.DataFrame(data)\n",
    "\n",
    "plt.figure(figsize=(10,6))\n",
    "plt.bar(df['Boss'], df['Morts'], color='slateblue')\n",
    "plt.title('Boss ayant causé le plus de morts')\n",
    "plt.xlabel('Boss')\n",
    "plt.ylabel('Total des morts')\n",
    "plt.xticks(rotation=30)\n",
    "plt.show()\n"
   ]
  },
  {
   "cell_type": "markdown",
   "metadata": {},
   "source": [
    "## Discussion\n",
    "\n",
    "MongoDB a été choisi car il est très flexible et permet de gérer facilement des données variées comme les morts par boss ou par zone. Cette base facilite le regroupement et l’analyse rapide des données des joueurs, ce qui aide à identifier clairement les points où la difficulté du jeu est la plus élevée. Grâce à cette méthode, on peut mieux comprendre les comportements des joueurs et repérer les zones ou boss qui posent vraiment problème."
   ]
  },
  {
   "cell_type": "markdown",
   "metadata": {},
   "source": [
    "## Conculsion\n",
    "\n",
    "L’analyse fine des données collectées, en particulier le nombre de morts contre chaque boss et la répartition des morts dans les zones, montre qu’il existe des déséquilibres importants dans la difficulté du jeu. Certains boss, trop facilement battus, affichent un nombre de morts inférieur à la moyenne, ce qui suggère qu’il est nécessaire d’augmenter leur résistance afin de maintenir un défi constant tout au long de l’aventure. Ces graphiques de mortalité deviennent alors des outils décisionnels pour ajuster la courbe de progression et améliorer l’engagement, en rendant le jeu à la fois plus équilibré et plus stimulant."
   ]
  }
 ],
 "metadata": {
  "kernelspec": {
   "display_name": "Python 3",
   "language": "python",
   "name": "python3"
  },
  "language_info": {
   "codemirror_mode": {
    "name": "ipython",
    "version": 3
   },
   "file_extension": ".py",
   "mimetype": "text/x-python",
   "name": "python",
   "nbconvert_exporter": "python",
   "pygments_lexer": "ipython3",
   "version": "3.11.9"
  }
 },
 "nbformat": 4,
 "nbformat_minor": 2
}
